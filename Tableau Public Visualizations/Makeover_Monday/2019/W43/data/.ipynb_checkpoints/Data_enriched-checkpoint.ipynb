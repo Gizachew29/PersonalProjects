{
 "cells": [
  {
   "cell_type": "markdown",
   "metadata": {
    "toc": true
   },
   "source": [
    "<h1>Table of Contents<span class=\"tocSkip\"></span></h1>\n",
    "<div class=\"toc\"><ul class=\"toc-item\"></ul></div>"
   ]
  },
  {
   "cell_type": "code",
   "execution_count": 1,
   "metadata": {
    "ExecuteTime": {
     "end_time": "2020-01-17T03:30:30.485217Z",
     "start_time": "2020-01-17T03:30:24.001790Z"
    }
   },
   "outputs": [],
   "source": [
    "import numpy as np\n",
    "import pandas as pd\n"
   ]
  },
  {
   "cell_type": "code",
   "execution_count": 2,
   "metadata": {
    "ExecuteTime": {
     "end_time": "2020-01-17T03:30:30.559736Z",
     "start_time": "2020-01-17T03:30:30.494772Z"
    }
   },
   "outputs": [],
   "source": [
    "df = pd.read_csv('suicide_deaths_by_age.csv')"
   ]
  },
  {
   "cell_type": "code",
   "execution_count": 3,
   "metadata": {
    "ExecuteTime": {
     "end_time": "2020-01-17T03:30:31.671201Z",
     "start_time": "2020-01-17T03:30:31.576906Z"
    }
   },
   "outputs": [
    {
     "data": {
      "text/html": [
       "<div>\n",
       "<style scoped>\n",
       "    .dataframe tbody tr th:only-of-type {\n",
       "        vertical-align: middle;\n",
       "    }\n",
       "\n",
       "    .dataframe tbody tr th {\n",
       "        vertical-align: top;\n",
       "    }\n",
       "\n",
       "    .dataframe thead th {\n",
       "        text-align: right;\n",
       "    }\n",
       "</style>\n",
       "<table border=\"1\" class=\"dataframe\">\n",
       "  <thead>\n",
       "    <tr style=\"text-align: right;\">\n",
       "      <th></th>\n",
       "      <th>year</th>\n",
       "      <th>age</th>\n",
       "      <th>suicides</th>\n",
       "    </tr>\n",
       "  </thead>\n",
       "  <tbody>\n",
       "    <tr>\n",
       "      <td>0</td>\n",
       "      <td>1981</td>\n",
       "      <td>10</td>\n",
       "      <td>0</td>\n",
       "    </tr>\n",
       "    <tr>\n",
       "      <td>1</td>\n",
       "      <td>1981</td>\n",
       "      <td>11</td>\n",
       "      <td>0</td>\n",
       "    </tr>\n",
       "    <tr>\n",
       "      <td>2</td>\n",
       "      <td>1981</td>\n",
       "      <td>12</td>\n",
       "      <td>2</td>\n",
       "    </tr>\n",
       "    <tr>\n",
       "      <td>3</td>\n",
       "      <td>1981</td>\n",
       "      <td>13</td>\n",
       "      <td>2</td>\n",
       "    </tr>\n",
       "    <tr>\n",
       "      <td>4</td>\n",
       "      <td>1981</td>\n",
       "      <td>14</td>\n",
       "      <td>1</td>\n",
       "    </tr>\n",
       "  </tbody>\n",
       "</table>\n",
       "</div>"
      ],
      "text/plain": [
       "   year  age  suicides\n",
       "0  1981   10         0\n",
       "1  1981   11         0\n",
       "2  1981   12         2\n",
       "3  1981   13         2\n",
       "4  1981   14         1"
      ]
     },
     "execution_count": 3,
     "metadata": {},
     "output_type": "execute_result"
    }
   ],
   "source": [
    "df.head()"
   ]
  },
  {
   "cell_type": "code",
   "execution_count": 4,
   "metadata": {
    "ExecuteTime": {
     "end_time": "2020-01-17T03:30:33.008318Z",
     "start_time": "2020-01-17T03:30:32.811251Z"
    }
   },
   "outputs": [],
   "source": [
    "# Create a year born column\n",
    "df['year born'] = df['year'] - df['age']"
   ]
  },
  {
   "cell_type": "code",
   "execution_count": 5,
   "metadata": {
    "ExecuteTime": {
     "end_time": "2020-01-17T03:30:35.109378Z",
     "start_time": "2020-01-17T03:30:35.094935Z"
    }
   },
   "outputs": [],
   "source": [
    "# create a generation dictionary to generation for years\n",
    "\n",
    "# generations given by this link\n",
    "# https://www.careerplanner.com/Career-Articles/Generations.cfm\n",
    "\n",
    "LostGen = tuple(range(1890,1901))\n",
    "InterbellumGen = tuple(range(1901,1911))\n",
    "GreatestGen = tuple(range(1911,1925))\n",
    "SilentGen = tuple(range(1925,1946))\n",
    "BabyBoomerGen = tuple(range(1946,1965))\n",
    "GenX = tuple(range(1965,1980))\n",
    "Xennials = tuple(range(1980,1986))\n",
    "Millenials = tuple(range(1986,1995))\n",
    "iGen = tuple(range(1995,2012))\n",
    "GenAlpha = tuple(range(2012,2025))"
   ]
  },
  {
   "cell_type": "code",
   "execution_count": 7,
   "metadata": {
    "ExecuteTime": {
     "end_time": "2020-01-17T03:32:27.765776Z",
     "start_time": "2020-01-17T03:32:27.757719Z"
    }
   },
   "outputs": [
    {
     "data": {
      "text/plain": [
       "1890"
      ]
     },
     "execution_count": 7,
     "metadata": {},
     "output_type": "execute_result"
    }
   ],
   "source": []
  },
  {
   "cell_type": "code",
   "execution_count": 6,
   "metadata": {
    "ExecuteTime": {
     "end_time": "2020-01-17T03:30:36.791311Z",
     "start_time": "2020-01-17T03:30:36.774235Z"
    }
   },
   "outputs": [
    {
     "data": {
      "text/plain": [
       "{(1890,\n",
       "  1891,\n",
       "  1892,\n",
       "  1893,\n",
       "  1894,\n",
       "  1895,\n",
       "  1896,\n",
       "  1897,\n",
       "  1898,\n",
       "  1899,\n",
       "  1900): 'Lost Generation',\n",
       " (1901,\n",
       "  1902,\n",
       "  1903,\n",
       "  1904,\n",
       "  1905,\n",
       "  1906,\n",
       "  1907,\n",
       "  1908,\n",
       "  1909,\n",
       "  1910): 'Interbellum Generation',\n",
       " (1911,\n",
       "  1912,\n",
       "  1913,\n",
       "  1914,\n",
       "  1915,\n",
       "  1916,\n",
       "  1917,\n",
       "  1918,\n",
       "  1919,\n",
       "  1920,\n",
       "  1921,\n",
       "  1922,\n",
       "  1923,\n",
       "  1924): 'Greatest Generation',\n",
       " (1925,\n",
       "  1926,\n",
       "  1927,\n",
       "  1928,\n",
       "  1929,\n",
       "  1930,\n",
       "  1931,\n",
       "  1932,\n",
       "  1933,\n",
       "  1934,\n",
       "  1935,\n",
       "  1936,\n",
       "  1937,\n",
       "  1938,\n",
       "  1939,\n",
       "  1940,\n",
       "  1941,\n",
       "  1942,\n",
       "  1943,\n",
       "  1944,\n",
       "  1945): 'Silent Generation',\n",
       " (1946,\n",
       "  1947,\n",
       "  1948,\n",
       "  1949,\n",
       "  1950,\n",
       "  1951,\n",
       "  1952,\n",
       "  1953,\n",
       "  1954,\n",
       "  1955,\n",
       "  1956,\n",
       "  1957,\n",
       "  1958,\n",
       "  1959,\n",
       "  1960,\n",
       "  1961,\n",
       "  1962,\n",
       "  1963,\n",
       "  1964): 'Baby Boomer Generation',\n",
       " (1965,\n",
       "  1966,\n",
       "  1967,\n",
       "  1968,\n",
       "  1969,\n",
       "  1970,\n",
       "  1971,\n",
       "  1972,\n",
       "  1973,\n",
       "  1974,\n",
       "  1975,\n",
       "  1976,\n",
       "  1977,\n",
       "  1978,\n",
       "  1979): 'Generation X',\n",
       " (1980, 1981, 1982, 1983, 1984, 1985): 'Xennials',\n",
       " (1986, 1987, 1988, 1989, 1990, 1991, 1992, 1993, 1994): 'Millenials',\n",
       " (1995,\n",
       "  1996,\n",
       "  1997,\n",
       "  1998,\n",
       "  1999,\n",
       "  2000,\n",
       "  2001,\n",
       "  2002,\n",
       "  2003,\n",
       "  2004,\n",
       "  2005,\n",
       "  2006,\n",
       "  2007,\n",
       "  2008,\n",
       "  2009,\n",
       "  2010,\n",
       "  2011): 'iGeneration',\n",
       " (2012,\n",
       "  2013,\n",
       "  2014,\n",
       "  2015,\n",
       "  2016,\n",
       "  2017,\n",
       "  2018,\n",
       "  2019,\n",
       "  2020,\n",
       "  2021,\n",
       "  2022,\n",
       "  2023,\n",
       "  2024): 'Generation Alpha'}"
      ]
     },
     "execution_count": 6,
     "metadata": {},
     "output_type": "execute_result"
    }
   ],
   "source": [
    "# create a generation dictionary and call it\n",
    "\n",
    "generation_dict = {\n",
    "    LostGen : 'Lost Generation',\n",
    "    InterbellumGen : 'Interbellum Generation',\n",
    "    GreatestGen : 'Greatest Generation',\n",
    "    SilentGen : 'Silent Generation',\n",
    "    BabyBoomerGen : 'Baby Boomer Generation',\n",
    "    GenX : 'Generation X',\n",
    "    Xennials : 'Xennials',\n",
    "    Millenials : 'Millenials',\n",
    "    iGen : 'iGeneration',\n",
    "    GenAlpha : 'Generation Alpha'\n",
    "}\n",
    "\n",
    "generation_dict"
   ]
  },
  {
   "cell_type": "code",
   "execution_count": 11,
   "metadata": {
    "ExecuteTime": {
     "end_time": "2020-01-17T03:37:06.778460Z",
     "start_time": "2020-01-17T03:37:06.750481Z"
    }
   },
   "outputs": [
    {
     "data": {
      "text/plain": [
       "{(1890,\n",
       "  1891,\n",
       "  1892,\n",
       "  1893,\n",
       "  1894,\n",
       "  1895,\n",
       "  1896,\n",
       "  1897,\n",
       "  1898,\n",
       "  1899,\n",
       "  1900): 'Born 1890 to 1900',\n",
       " (1901,\n",
       "  1902,\n",
       "  1903,\n",
       "  1904,\n",
       "  1905,\n",
       "  1906,\n",
       "  1907,\n",
       "  1908,\n",
       "  1909,\n",
       "  1910): 'Born 1901 to 1910',\n",
       " (1911,\n",
       "  1912,\n",
       "  1913,\n",
       "  1914,\n",
       "  1915,\n",
       "  1916,\n",
       "  1917,\n",
       "  1918,\n",
       "  1919,\n",
       "  1920,\n",
       "  1921,\n",
       "  1922,\n",
       "  1923,\n",
       "  1924): 'Born 1911 to 1924',\n",
       " (1925,\n",
       "  1926,\n",
       "  1927,\n",
       "  1928,\n",
       "  1929,\n",
       "  1930,\n",
       "  1931,\n",
       "  1932,\n",
       "  1933,\n",
       "  1934,\n",
       "  1935,\n",
       "  1936,\n",
       "  1937,\n",
       "  1938,\n",
       "  1939,\n",
       "  1940,\n",
       "  1941,\n",
       "  1942,\n",
       "  1943,\n",
       "  1944,\n",
       "  1945): 'Born 1925 to 1945',\n",
       " (1946,\n",
       "  1947,\n",
       "  1948,\n",
       "  1949,\n",
       "  1950,\n",
       "  1951,\n",
       "  1952,\n",
       "  1953,\n",
       "  1954,\n",
       "  1955,\n",
       "  1956,\n",
       "  1957,\n",
       "  1958,\n",
       "  1959,\n",
       "  1960,\n",
       "  1961,\n",
       "  1962,\n",
       "  1963,\n",
       "  1964): 'Born 1946 to 1964',\n",
       " (1965,\n",
       "  1966,\n",
       "  1967,\n",
       "  1968,\n",
       "  1969,\n",
       "  1970,\n",
       "  1971,\n",
       "  1972,\n",
       "  1973,\n",
       "  1974,\n",
       "  1975,\n",
       "  1976,\n",
       "  1977,\n",
       "  1978,\n",
       "  1979): 'Born 1965 to 1979',\n",
       " (1980, 1981, 1982, 1983, 1984, 1985): 'Born 1980 to 1985',\n",
       " (1986, 1987, 1988, 1989, 1990, 1991, 1992, 1993, 1994): 'Born 1986 to 1994',\n",
       " (1995,\n",
       "  1996,\n",
       "  1997,\n",
       "  1998,\n",
       "  1999,\n",
       "  2000,\n",
       "  2001,\n",
       "  2002,\n",
       "  2003,\n",
       "  2004,\n",
       "  2005,\n",
       "  2006,\n",
       "  2007,\n",
       "  2008,\n",
       "  2009,\n",
       "  2010,\n",
       "  2011): 'Born 1995 to 2011',\n",
       " (2012,\n",
       "  2013,\n",
       "  2014,\n",
       "  2015,\n",
       "  2016,\n",
       "  2017,\n",
       "  2018,\n",
       "  2019,\n",
       "  2020,\n",
       "  2021,\n",
       "  2022,\n",
       "  2023,\n",
       "  2024): 'Born 2012 to 2024'}"
      ]
     },
     "execution_count": 11,
     "metadata": {},
     "output_type": "execute_result"
    }
   ],
   "source": [
    "age_gap_generation_dict = {\n",
    "    LostGen : 'Born %s to %s' % (min(LostGen),max(LostGen)),\n",
    "    InterbellumGen : 'Born %s to %s' % (min(InterbellumGen),max(InterbellumGen)),\n",
    "    GreatestGen : 'Born %s to %s' % (min(GreatestGen),max(GreatestGen)),\n",
    "    SilentGen : 'Born %s to %s' % (min(SilentGen),max(SilentGen)),\n",
    "    BabyBoomerGen : 'Born %s to %s' % (min(BabyBoomerGen),max(BabyBoomerGen)),\n",
    "    GenX : 'Born %s to %s' % (min(GenX),max(GenX)),\n",
    "    Xennials : 'Born %s to %s' % (min(Xennials),max(Xennials)),\n",
    "    Millenials : 'Born %s to %s' % (min(Millenials),max(Millenials)),\n",
    "    iGen : 'Born %s to %s' % (min(iGen),max(iGen)),\n",
    "    GenAlpha : 'Born %s to %s' % (min(GenAlpha),max(GenAlpha))\n",
    "}\n",
    "\n",
    "age_gap_generation_dict"
   ]
  },
  {
   "cell_type": "code",
   "execution_count": 8,
   "metadata": {
    "ExecuteTime": {
     "end_time": "2020-01-17T03:33:34.883782Z",
     "start_time": "2020-01-17T03:33:34.876120Z"
    }
   },
   "outputs": [
    {
     "data": {
      "text/plain": [
       "'Born 1890 to 1900'"
      ]
     },
     "execution_count": 8,
     "metadata": {},
     "output_type": "execute_result"
    }
   ],
   "source": [
    "'Born %s to %s' %(min(LostGen),max(LostGen))"
   ]
  },
  {
   "cell_type": "code",
   "execution_count": 12,
   "metadata": {
    "ExecuteTime": {
     "end_time": "2020-01-17T03:38:07.710501Z",
     "start_time": "2020-01-17T03:38:07.703041Z"
    }
   },
   "outputs": [],
   "source": [
    "# While the above is great, what we actually need is a N to 1 dictionary\n",
    "# So that we can use the map function on the 'Year Born Category'\n",
    "# We can do that by referencing this StackOverflow Page\n",
    "# https://stackoverflow.com/questions/1921027/python-many-to-one-mapping-creating-equivalence-classes\n",
    "\n",
    "working_gendict = {}\n",
    "for k, v in generation_dict.items():\n",
    "    for key in k:\n",
    "        working_gendict[key] = v\n",
    "\n",
    "age_gap_working_gendict = {}\n",
    "for k, v in age_gap_generation_dict.items():\n",
    "    for key in k:\n",
    "        age_gap_working_gendict[key] = v"
   ]
  },
  {
   "cell_type": "code",
   "execution_count": 14,
   "metadata": {
    "ExecuteTime": {
     "end_time": "2020-01-17T03:38:18.473725Z",
     "start_time": "2020-01-17T03:38:18.464094Z"
    }
   },
   "outputs": [
    {
     "data": {
      "text/plain": [
       "{1890: 'Born 1890 to 1900',\n",
       " 1891: 'Born 1890 to 1900',\n",
       " 1892: 'Born 1890 to 1900',\n",
       " 1893: 'Born 1890 to 1900',\n",
       " 1894: 'Born 1890 to 1900',\n",
       " 1895: 'Born 1890 to 1900',\n",
       " 1896: 'Born 1890 to 1900',\n",
       " 1897: 'Born 1890 to 1900',\n",
       " 1898: 'Born 1890 to 1900',\n",
       " 1899: 'Born 1890 to 1900',\n",
       " 1900: 'Born 1890 to 1900',\n",
       " 1901: 'Born 1901 to 1910',\n",
       " 1902: 'Born 1901 to 1910',\n",
       " 1903: 'Born 1901 to 1910',\n",
       " 1904: 'Born 1901 to 1910',\n",
       " 1905: 'Born 1901 to 1910',\n",
       " 1906: 'Born 1901 to 1910',\n",
       " 1907: 'Born 1901 to 1910',\n",
       " 1908: 'Born 1901 to 1910',\n",
       " 1909: 'Born 1901 to 1910',\n",
       " 1910: 'Born 1901 to 1910',\n",
       " 1911: 'Born 1911 to 1924',\n",
       " 1912: 'Born 1911 to 1924',\n",
       " 1913: 'Born 1911 to 1924',\n",
       " 1914: 'Born 1911 to 1924',\n",
       " 1915: 'Born 1911 to 1924',\n",
       " 1916: 'Born 1911 to 1924',\n",
       " 1917: 'Born 1911 to 1924',\n",
       " 1918: 'Born 1911 to 1924',\n",
       " 1919: 'Born 1911 to 1924',\n",
       " 1920: 'Born 1911 to 1924',\n",
       " 1921: 'Born 1911 to 1924',\n",
       " 1922: 'Born 1911 to 1924',\n",
       " 1923: 'Born 1911 to 1924',\n",
       " 1924: 'Born 1911 to 1924',\n",
       " 1925: 'Born 1925 to 1945',\n",
       " 1926: 'Born 1925 to 1945',\n",
       " 1927: 'Born 1925 to 1945',\n",
       " 1928: 'Born 1925 to 1945',\n",
       " 1929: 'Born 1925 to 1945',\n",
       " 1930: 'Born 1925 to 1945',\n",
       " 1931: 'Born 1925 to 1945',\n",
       " 1932: 'Born 1925 to 1945',\n",
       " 1933: 'Born 1925 to 1945',\n",
       " 1934: 'Born 1925 to 1945',\n",
       " 1935: 'Born 1925 to 1945',\n",
       " 1936: 'Born 1925 to 1945',\n",
       " 1937: 'Born 1925 to 1945',\n",
       " 1938: 'Born 1925 to 1945',\n",
       " 1939: 'Born 1925 to 1945',\n",
       " 1940: 'Born 1925 to 1945',\n",
       " 1941: 'Born 1925 to 1945',\n",
       " 1942: 'Born 1925 to 1945',\n",
       " 1943: 'Born 1925 to 1945',\n",
       " 1944: 'Born 1925 to 1945',\n",
       " 1945: 'Born 1925 to 1945',\n",
       " 1946: 'Born 1946 to 1964',\n",
       " 1947: 'Born 1946 to 1964',\n",
       " 1948: 'Born 1946 to 1964',\n",
       " 1949: 'Born 1946 to 1964',\n",
       " 1950: 'Born 1946 to 1964',\n",
       " 1951: 'Born 1946 to 1964',\n",
       " 1952: 'Born 1946 to 1964',\n",
       " 1953: 'Born 1946 to 1964',\n",
       " 1954: 'Born 1946 to 1964',\n",
       " 1955: 'Born 1946 to 1964',\n",
       " 1956: 'Born 1946 to 1964',\n",
       " 1957: 'Born 1946 to 1964',\n",
       " 1958: 'Born 1946 to 1964',\n",
       " 1959: 'Born 1946 to 1964',\n",
       " 1960: 'Born 1946 to 1964',\n",
       " 1961: 'Born 1946 to 1964',\n",
       " 1962: 'Born 1946 to 1964',\n",
       " 1963: 'Born 1946 to 1964',\n",
       " 1964: 'Born 1946 to 1964',\n",
       " 1965: 'Born 1965 to 1979',\n",
       " 1966: 'Born 1965 to 1979',\n",
       " 1967: 'Born 1965 to 1979',\n",
       " 1968: 'Born 1965 to 1979',\n",
       " 1969: 'Born 1965 to 1979',\n",
       " 1970: 'Born 1965 to 1979',\n",
       " 1971: 'Born 1965 to 1979',\n",
       " 1972: 'Born 1965 to 1979',\n",
       " 1973: 'Born 1965 to 1979',\n",
       " 1974: 'Born 1965 to 1979',\n",
       " 1975: 'Born 1965 to 1979',\n",
       " 1976: 'Born 1965 to 1979',\n",
       " 1977: 'Born 1965 to 1979',\n",
       " 1978: 'Born 1965 to 1979',\n",
       " 1979: 'Born 1965 to 1979',\n",
       " 1980: 'Born 1980 to 1985',\n",
       " 1981: 'Born 1980 to 1985',\n",
       " 1982: 'Born 1980 to 1985',\n",
       " 1983: 'Born 1980 to 1985',\n",
       " 1984: 'Born 1980 to 1985',\n",
       " 1985: 'Born 1980 to 1985',\n",
       " 1986: 'Born 1986 to 1994',\n",
       " 1987: 'Born 1986 to 1994',\n",
       " 1988: 'Born 1986 to 1994',\n",
       " 1989: 'Born 1986 to 1994',\n",
       " 1990: 'Born 1986 to 1994',\n",
       " 1991: 'Born 1986 to 1994',\n",
       " 1992: 'Born 1986 to 1994',\n",
       " 1993: 'Born 1986 to 1994',\n",
       " 1994: 'Born 1986 to 1994',\n",
       " 1995: 'Born 1995 to 2011',\n",
       " 1996: 'Born 1995 to 2011',\n",
       " 1997: 'Born 1995 to 2011',\n",
       " 1998: 'Born 1995 to 2011',\n",
       " 1999: 'Born 1995 to 2011',\n",
       " 2000: 'Born 1995 to 2011',\n",
       " 2001: 'Born 1995 to 2011',\n",
       " 2002: 'Born 1995 to 2011',\n",
       " 2003: 'Born 1995 to 2011',\n",
       " 2004: 'Born 1995 to 2011',\n",
       " 2005: 'Born 1995 to 2011',\n",
       " 2006: 'Born 1995 to 2011',\n",
       " 2007: 'Born 1995 to 2011',\n",
       " 2008: 'Born 1995 to 2011',\n",
       " 2009: 'Born 1995 to 2011',\n",
       " 2010: 'Born 1995 to 2011',\n",
       " 2011: 'Born 1995 to 2011',\n",
       " 2012: 'Born 2012 to 2024',\n",
       " 2013: 'Born 2012 to 2024',\n",
       " 2014: 'Born 2012 to 2024',\n",
       " 2015: 'Born 2012 to 2024',\n",
       " 2016: 'Born 2012 to 2024',\n",
       " 2017: 'Born 2012 to 2024',\n",
       " 2018: 'Born 2012 to 2024',\n",
       " 2019: 'Born 2012 to 2024',\n",
       " 2020: 'Born 2012 to 2024',\n",
       " 2021: 'Born 2012 to 2024',\n",
       " 2022: 'Born 2012 to 2024',\n",
       " 2023: 'Born 2012 to 2024',\n",
       " 2024: 'Born 2012 to 2024'}"
      ]
     },
     "execution_count": 14,
     "metadata": {},
     "output_type": "execute_result"
    }
   ],
   "source": [
    "age_gap_working_gendict"
   ]
  },
  {
   "cell_type": "code",
   "execution_count": 13,
   "metadata": {
    "ExecuteTime": {
     "end_time": "2020-01-17T03:38:09.674581Z",
     "start_time": "2020-01-17T03:38:09.660179Z"
    }
   },
   "outputs": [
    {
     "data": {
      "text/plain": [
       "{1890: 'Lost Generation',\n",
       " 1891: 'Lost Generation',\n",
       " 1892: 'Lost Generation',\n",
       " 1893: 'Lost Generation',\n",
       " 1894: 'Lost Generation',\n",
       " 1895: 'Lost Generation',\n",
       " 1896: 'Lost Generation',\n",
       " 1897: 'Lost Generation',\n",
       " 1898: 'Lost Generation',\n",
       " 1899: 'Lost Generation',\n",
       " 1900: 'Lost Generation',\n",
       " 1901: 'Interbellum Generation',\n",
       " 1902: 'Interbellum Generation',\n",
       " 1903: 'Interbellum Generation',\n",
       " 1904: 'Interbellum Generation',\n",
       " 1905: 'Interbellum Generation',\n",
       " 1906: 'Interbellum Generation',\n",
       " 1907: 'Interbellum Generation',\n",
       " 1908: 'Interbellum Generation',\n",
       " 1909: 'Interbellum Generation',\n",
       " 1910: 'Interbellum Generation',\n",
       " 1911: 'Greatest Generation',\n",
       " 1912: 'Greatest Generation',\n",
       " 1913: 'Greatest Generation',\n",
       " 1914: 'Greatest Generation',\n",
       " 1915: 'Greatest Generation',\n",
       " 1916: 'Greatest Generation',\n",
       " 1917: 'Greatest Generation',\n",
       " 1918: 'Greatest Generation',\n",
       " 1919: 'Greatest Generation',\n",
       " 1920: 'Greatest Generation',\n",
       " 1921: 'Greatest Generation',\n",
       " 1922: 'Greatest Generation',\n",
       " 1923: 'Greatest Generation',\n",
       " 1924: 'Greatest Generation',\n",
       " 1925: 'Silent Generation',\n",
       " 1926: 'Silent Generation',\n",
       " 1927: 'Silent Generation',\n",
       " 1928: 'Silent Generation',\n",
       " 1929: 'Silent Generation',\n",
       " 1930: 'Silent Generation',\n",
       " 1931: 'Silent Generation',\n",
       " 1932: 'Silent Generation',\n",
       " 1933: 'Silent Generation',\n",
       " 1934: 'Silent Generation',\n",
       " 1935: 'Silent Generation',\n",
       " 1936: 'Silent Generation',\n",
       " 1937: 'Silent Generation',\n",
       " 1938: 'Silent Generation',\n",
       " 1939: 'Silent Generation',\n",
       " 1940: 'Silent Generation',\n",
       " 1941: 'Silent Generation',\n",
       " 1942: 'Silent Generation',\n",
       " 1943: 'Silent Generation',\n",
       " 1944: 'Silent Generation',\n",
       " 1945: 'Silent Generation',\n",
       " 1946: 'Baby Boomer Generation',\n",
       " 1947: 'Baby Boomer Generation',\n",
       " 1948: 'Baby Boomer Generation',\n",
       " 1949: 'Baby Boomer Generation',\n",
       " 1950: 'Baby Boomer Generation',\n",
       " 1951: 'Baby Boomer Generation',\n",
       " 1952: 'Baby Boomer Generation',\n",
       " 1953: 'Baby Boomer Generation',\n",
       " 1954: 'Baby Boomer Generation',\n",
       " 1955: 'Baby Boomer Generation',\n",
       " 1956: 'Baby Boomer Generation',\n",
       " 1957: 'Baby Boomer Generation',\n",
       " 1958: 'Baby Boomer Generation',\n",
       " 1959: 'Baby Boomer Generation',\n",
       " 1960: 'Baby Boomer Generation',\n",
       " 1961: 'Baby Boomer Generation',\n",
       " 1962: 'Baby Boomer Generation',\n",
       " 1963: 'Baby Boomer Generation',\n",
       " 1964: 'Baby Boomer Generation',\n",
       " 1965: 'Generation X',\n",
       " 1966: 'Generation X',\n",
       " 1967: 'Generation X',\n",
       " 1968: 'Generation X',\n",
       " 1969: 'Generation X',\n",
       " 1970: 'Generation X',\n",
       " 1971: 'Generation X',\n",
       " 1972: 'Generation X',\n",
       " 1973: 'Generation X',\n",
       " 1974: 'Generation X',\n",
       " 1975: 'Generation X',\n",
       " 1976: 'Generation X',\n",
       " 1977: 'Generation X',\n",
       " 1978: 'Generation X',\n",
       " 1979: 'Generation X',\n",
       " 1980: 'Xennials',\n",
       " 1981: 'Xennials',\n",
       " 1982: 'Xennials',\n",
       " 1983: 'Xennials',\n",
       " 1984: 'Xennials',\n",
       " 1985: 'Xennials',\n",
       " 1986: 'Millenials',\n",
       " 1987: 'Millenials',\n",
       " 1988: 'Millenials',\n",
       " 1989: 'Millenials',\n",
       " 1990: 'Millenials',\n",
       " 1991: 'Millenials',\n",
       " 1992: 'Millenials',\n",
       " 1993: 'Millenials',\n",
       " 1994: 'Millenials',\n",
       " 1995: 'iGeneration',\n",
       " 1996: 'iGeneration',\n",
       " 1997: 'iGeneration',\n",
       " 1998: 'iGeneration',\n",
       " 1999: 'iGeneration',\n",
       " 2000: 'iGeneration',\n",
       " 2001: 'iGeneration',\n",
       " 2002: 'iGeneration',\n",
       " 2003: 'iGeneration',\n",
       " 2004: 'iGeneration',\n",
       " 2005: 'iGeneration',\n",
       " 2006: 'iGeneration',\n",
       " 2007: 'iGeneration',\n",
       " 2008: 'iGeneration',\n",
       " 2009: 'iGeneration',\n",
       " 2010: 'iGeneration',\n",
       " 2011: 'iGeneration',\n",
       " 2012: 'Generation Alpha',\n",
       " 2013: 'Generation Alpha',\n",
       " 2014: 'Generation Alpha',\n",
       " 2015: 'Generation Alpha',\n",
       " 2016: 'Generation Alpha',\n",
       " 2017: 'Generation Alpha',\n",
       " 2018: 'Generation Alpha',\n",
       " 2019: 'Generation Alpha',\n",
       " 2020: 'Generation Alpha',\n",
       " 2021: 'Generation Alpha',\n",
       " 2022: 'Generation Alpha',\n",
       " 2023: 'Generation Alpha',\n",
       " 2024: 'Generation Alpha'}"
      ]
     },
     "execution_count": 13,
     "metadata": {},
     "output_type": "execute_result"
    }
   ],
   "source": [
    "working_gendict"
   ]
  },
  {
   "cell_type": "code",
   "execution_count": 47,
   "metadata": {
    "ExecuteTime": {
     "end_time": "2020-01-14T20:03:04.324201Z",
     "start_time": "2020-01-14T20:03:04.283697Z"
    }
   },
   "outputs": [],
   "source": [
    "# Map it\n",
    "\n",
    "df['Generation'] = df['year born'].map(working_gendict)"
   ]
  },
  {
   "cell_type": "code",
   "execution_count": 15,
   "metadata": {
    "ExecuteTime": {
     "end_time": "2020-01-17T03:39:11.111061Z",
     "start_time": "2020-01-17T03:39:11.076795Z"
    }
   },
   "outputs": [],
   "source": [
    "df['Born From'] = df['year born'].map(age_gap_working_gendict)"
   ]
  },
  {
   "cell_type": "code",
   "execution_count": 49,
   "metadata": {
    "ExecuteTime": {
     "end_time": "2020-01-14T20:03:27.648921Z",
     "start_time": "2020-01-14T20:03:27.617628Z"
    }
   },
   "outputs": [
    {
     "data": {
      "text/plain": [
       "0"
      ]
     },
     "execution_count": 49,
     "metadata": {},
     "output_type": "execute_result"
    }
   ],
   "source": [
    "sum(df['Generation'].isnull())"
   ]
  },
  {
   "cell_type": "code",
   "execution_count": 16,
   "metadata": {
    "ExecuteTime": {
     "end_time": "2020-01-17T03:39:30.752078Z",
     "start_time": "2020-01-17T03:39:30.743684Z"
    }
   },
   "outputs": [
    {
     "data": {
      "text/plain": [
       "0"
      ]
     },
     "execution_count": 16,
     "metadata": {},
     "output_type": "execute_result"
    }
   ],
   "source": [
    "sum(df['Born From'].isnull())"
   ]
  },
  {
   "cell_type": "code",
   "execution_count": 17,
   "metadata": {
    "ExecuteTime": {
     "end_time": "2020-01-17T03:39:33.029161Z",
     "start_time": "2020-01-17T03:39:32.937687Z"
    }
   },
   "outputs": [],
   "source": [
    "# Export the CSV!\n",
    "df.to_csv('data_enriched.csv', index=False)"
   ]
  },
  {
   "cell_type": "code",
   "execution_count": null,
   "metadata": {},
   "outputs": [],
   "source": []
  }
 ],
 "metadata": {
  "kernelspec": {
   "display_name": "Python 3",
   "language": "python",
   "name": "python3"
  },
  "language_info": {
   "codemirror_mode": {
    "name": "ipython",
    "version": 3
   },
   "file_extension": ".py",
   "mimetype": "text/x-python",
   "name": "python",
   "nbconvert_exporter": "python",
   "pygments_lexer": "ipython3",
   "version": "3.7.4"
  },
  "toc": {
   "base_numbering": 1,
   "nav_menu": {},
   "number_sections": true,
   "sideBar": true,
   "skip_h1_title": false,
   "title_cell": "Table of Contents",
   "title_sidebar": "Contents",
   "toc_cell": true,
   "toc_position": {},
   "toc_section_display": true,
   "toc_window_display": false
  },
  "varInspector": {
   "cols": {
    "lenName": 16,
    "lenType": 16,
    "lenVar": 40
   },
   "kernels_config": {
    "python": {
     "delete_cmd_postfix": "",
     "delete_cmd_prefix": "del ",
     "library": "var_list.py",
     "varRefreshCmd": "print(var_dic_list())"
    },
    "r": {
     "delete_cmd_postfix": ") ",
     "delete_cmd_prefix": "rm(",
     "library": "var_list.r",
     "varRefreshCmd": "cat(var_dic_list()) "
    }
   },
   "types_to_exclude": [
    "module",
    "function",
    "builtin_function_or_method",
    "instance",
    "_Feature"
   ],
   "window_display": false
  }
 },
 "nbformat": 4,
 "nbformat_minor": 2
}
