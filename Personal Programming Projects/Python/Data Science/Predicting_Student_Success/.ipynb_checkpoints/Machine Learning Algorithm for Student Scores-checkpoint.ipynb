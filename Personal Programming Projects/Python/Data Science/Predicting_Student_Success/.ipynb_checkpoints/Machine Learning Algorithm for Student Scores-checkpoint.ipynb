{
 "cells": [
  {
   "cell_type": "markdown",
   "metadata": {
    "toc": true
   },
   "source": [
    "<h1>Table of Contents<span class=\"tocSkip\"></span></h1>\n",
    "<div class=\"toc\"><ul class=\"toc-item\"><li><span><a href=\"#Predicting-Student-Success\" data-toc-modified-id=\"Predicting-Student-Success-1\"><span class=\"toc-item-num\">1&nbsp;&nbsp;</span>Predicting Student Success</a></span><ul class=\"toc-item\"><li><span><a href=\"#NOTES\" data-toc-modified-id=\"NOTES-1.1\"><span class=\"toc-item-num\">1.1&nbsp;&nbsp;</span>NOTES</a></span><ul class=\"toc-item\"><li><span><a href=\"#Lets-scale-our-features\" data-toc-modified-id=\"Lets-scale-our-features-1.1.1\"><span class=\"toc-item-num\">1.1.1&nbsp;&nbsp;</span>Lets scale our features</a></span></li><li><span><a href=\"#Lets-train-our-model\" data-toc-modified-id=\"Lets-train-our-model-1.1.2\"><span class=\"toc-item-num\">1.1.2&nbsp;&nbsp;</span>Lets train our model</a></span></li><li><span><a href=\"#Lets-go-ahead-and-look-at-some-characteristics-of-our-model\" data-toc-modified-id=\"Lets-go-ahead-and-look-at-some-characteristics-of-our-model-1.1.3\"><span class=\"toc-item-num\">1.1.3&nbsp;&nbsp;</span>Lets go ahead and look at some characteristics of our model</a></span></li><li><span><a href=\"#Lets-see-if-we-can-plot-our-Confusion-Matrix\" data-toc-modified-id=\"Lets-see-if-we-can-plot-our-Confusion-Matrix-1.1.4\"><span class=\"toc-item-num\">1.1.4&nbsp;&nbsp;</span>Lets see if we can plot our Confusion Matrix</a></span></li><li><span><a href=\"#Lets-talk-about-our-Classification-Report-&amp;-Confusion-Matrix\" data-toc-modified-id=\"Lets-talk-about-our-Classification-Report-&amp;-Confusion-Matrix-1.1.5\"><span class=\"toc-item-num\">1.1.5&nbsp;&nbsp;</span>Lets talk about our Classification Report &amp; Confusion Matrix</a></span></li><li><span><a href=\"#ROC-Curve\" data-toc-modified-id=\"ROC-Curve-1.1.6\"><span class=\"toc-item-num\">1.1.6&nbsp;&nbsp;</span>ROC Curve</a></span></li><li><span><a href=\"#Lets-re-do-this-because-of-missing-scores-(The-above-was-Ryan's-work)\" data-toc-modified-id=\"Lets-re-do-this-because-of-missing-scores-(The-above-was-Ryan's-work)-1.1.7\"><span class=\"toc-item-num\">1.1.7&nbsp;&nbsp;</span>Lets re-do this because of missing scores (The above was Ryan's work)</a></span></li></ul></li><li><span><a href=\"#Lets-do-better\" data-toc-modified-id=\"Lets-do-better-1.2\"><span class=\"toc-item-num\">1.2&nbsp;&nbsp;</span>Lets do better</a></span><ul class=\"toc-item\"><li><span><a href=\"#Lets-start-thinking-about-feature-importance\" data-toc-modified-id=\"Lets-start-thinking-about-feature-importance-1.2.1\"><span class=\"toc-item-num\">1.2.1&nbsp;&nbsp;</span>Lets start thinking about feature importance</a></span></li><li><span><a href=\"#Feature-selection\" data-toc-modified-id=\"Feature-selection-1.2.2\"><span class=\"toc-item-num\">1.2.2&nbsp;&nbsp;</span>Feature selection</a></span></li></ul></li><li><span><a href=\"#Let's-Run-It-Again\" data-toc-modified-id=\"Let's-Run-It-Again-1.3\"><span class=\"toc-item-num\">1.3&nbsp;&nbsp;</span>Let's Run It Again</a></span><ul class=\"toc-item\"><li><span><a href=\"#Importing-our-new-dataset\" data-toc-modified-id=\"Importing-our-new-dataset-1.3.1\"><span class=\"toc-item-num\">1.3.1&nbsp;&nbsp;</span>Importing our new dataset</a></span></li><li><span><a href=\"#Cleaning-our-dataset-and-also-filling-in-values\" data-toc-modified-id=\"Cleaning-our-dataset-and-also-filling-in-values-1.3.2\"><span class=\"toc-item-num\">1.3.2&nbsp;&nbsp;</span>Cleaning our dataset and also filling in values</a></span></li><li><span><a href=\"#Lets-visualize-this-dataset\" data-toc-modified-id=\"Lets-visualize-this-dataset-1.3.3\"><span class=\"toc-item-num\">1.3.3&nbsp;&nbsp;</span>Lets visualize this dataset</a></span></li><li><span><a href=\"#Now-we-can-begin-to-train-our-model\" data-toc-modified-id=\"Now-we-can-begin-to-train-our-model-1.3.4\"><span class=\"toc-item-num\">1.3.4&nbsp;&nbsp;</span>Now we can begin to train our model</a></span></li><li><span><a href=\"#Lets-try-and-find-better-parameters\" data-toc-modified-id=\"Lets-try-and-find-better-parameters-1.3.5\"><span class=\"toc-item-num\">1.3.5&nbsp;&nbsp;</span>Lets try and find better parameters</a></span></li><li><span><a href=\"#ROC-Curve\" data-toc-modified-id=\"ROC-Curve-1.3.6\"><span class=\"toc-item-num\">1.3.6&nbsp;&nbsp;</span>ROC Curve</a></span></li></ul></li></ul></li><li><span><a href=\"#Results\" data-toc-modified-id=\"Results-2\"><span class=\"toc-item-num\">2&nbsp;&nbsp;</span>Results</a></span><ul class=\"toc-item\"><li><span><a href=\"#Models\" data-toc-modified-id=\"Models-2.1\"><span class=\"toc-item-num\">2.1&nbsp;&nbsp;</span>Models</a></span><ul class=\"toc-item\"><li><span><a href=\"#Model-1\" data-toc-modified-id=\"Model-1-2.1.1\"><span class=\"toc-item-num\">2.1.1&nbsp;&nbsp;</span>Model 1</a></span></li><li><span><a href=\"#Model-2\" data-toc-modified-id=\"Model-2-2.1.2\"><span class=\"toc-item-num\">2.1.2&nbsp;&nbsp;</span>Model 2</a></span></li><li><span><a href=\"#Model-2.5\" data-toc-modified-id=\"Model-2.5-2.1.3\"><span class=\"toc-item-num\">2.1.3&nbsp;&nbsp;</span>Model 2.5</a></span><ul class=\"toc-item\"><li><span><a href=\"#Feature-Selection\" data-toc-modified-id=\"Feature-Selection-2.1.3.1\"><span class=\"toc-item-num\">2.1.3.1&nbsp;&nbsp;</span>Feature Selection</a></span></li></ul></li><li><span><a href=\"#Model-3\" data-toc-modified-id=\"Model-3-2.1.4\"><span class=\"toc-item-num\">2.1.4&nbsp;&nbsp;</span>Model 3</a></span></li></ul></li></ul></li></ul></div>"
   ]
  },
  {
   "cell_type": "markdown",
   "metadata": {},
   "source": [
    "# Predicting Student Success "
   ]
  },
  {
   "cell_type": "markdown",
   "metadata": {},
   "source": [
    "This notebook will work as replicating Professor Qing Ryan's Work @ CPP.\n",
    "The work is a machine learning algorithm to predict student success\n",
    "in a college level introductory physics course\n"
   ]
  },
  {
   "cell_type": "code",
   "execution_count": 1,
   "metadata": {
    "ExecuteTime": {
     "end_time": "2019-12-04T20:06:56.626592Z",
     "start_time": "2019-12-04T20:06:55.454141Z"
    }
   },
   "outputs": [],
   "source": [
    "\"\"\"\n",
    "We are going to import these libraries\n",
    "\n",
    "NumPy\n",
    "Pandas\n",
    "Seaborn\n",
    "Sklearn\n",
    "Matplotlib\n",
    "\n",
    "\"\"\"\n",
    "\n",
    "import numpy as np, pandas as pd, matplotlib.pyplot as plt, seaborn as sns, sklearn"
   ]
  },
  {
   "cell_type": "code",
   "execution_count": 2,
   "metadata": {
    "ExecuteTime": {
     "end_time": "2019-12-04T20:06:57.459516Z",
     "start_time": "2019-12-04T20:06:57.445033Z"
    }
   },
   "outputs": [],
   "source": [
    "# lets change our plotting parameters\n",
    "\n",
    "%matplotlib inline\n",
    "plt.rcParams['figure.dpi'] = 150\n",
    "\n",
    "# We set our figure styles here\n",
    "# https://seaborn.pydata.org/tutorial/aesthetics.html\n"
   ]
  },
  {
   "cell_type": "code",
   "execution_count": 3,
   "metadata": {
    "ExecuteTime": {
     "end_time": "2019-12-04T20:06:58.642474Z",
     "start_time": "2019-12-04T20:06:58.603386Z"
    }
   },
   "outputs": [],
   "source": [
    "\"\"\"\n",
    "\n",
    "Now we are going to insert the datafiles we need to\n",
    "look at into the notebook\n",
    "\n",
    "\"\"\"\n",
    "datafile = 'Academic YR 2017_Final.csv'\n",
    "\n",
    "data = pd.read_csv(\n",
    "    filepath_or_buffer = datafile,\n",
    "    header = 0)\n",
    "    \n",
    "\"\"\"\n",
    "Let's create a copy of our original dataset called df\n",
    "This will be the object we act on for all of our analysis\n",
    "\"\"\"\n",
    "\n",
    "# features that we will be analyzing using this method\n",
    "\n",
    "features =[\"Gender\",\"HSGPA\",\"TotalGPA\",\"FCIPre\",\"Ethnicity\",\"FirstGen\", \"Pell\",\"PhysPointGPA\",\"URM\",\"SATVerbal\",\"SATMath\",\"SATTotal\"]\n",
    "\n",
    "df = data[features]"
   ]
  },
  {
   "cell_type": "markdown",
   "metadata": {},
   "source": [
    "## NOTES\n",
    "\n",
    "\n",
    "For learning purposes I will state some commands\n",
    "that we can perform on our df object\n",
    "\n",
    "**df.head()/df.tail()** - how to view the top and bottom rows of the data\n",
    "\n",
    "**df.describe()** - shows a quick statistic summary of your data\n",
    "\n",
    "**df.T** - transpose your data\n",
    "\n",
    "**df.sort_index(axis = ? , ascending = ?)** - Sorts by axis. \n",
    "                                        First question mark is either 0 or 1 (column or row)\n",
    "                                        Second question mark is True or False (ascending or descending)\n",
    "                                        \n",
    "**df.sort_values(by='value')** - Sort by values (columns)\n",
    "\n",
    "**df['value']** - selects a single column that yields a Series \n",
    "\n",
    "**df[top:bottom]** - slices by rows \n",
    "\n",
    "**df.loc(value)** - selects row\n",
    "\n",
    "**df.shape[0]** - counts out how many rows you have in your DataFrame\n",
    "\n"
   ]
  },
  {
   "cell_type": "code",
   "execution_count": 4,
   "metadata": {
    "ExecuteTime": {
     "end_time": "2019-12-04T20:07:00.636262Z",
     "start_time": "2019-12-04T20:07:00.604847Z"
    }
   },
   "outputs": [
    {
     "name": "stdout",
     "output_type": "stream",
     "text": [
      "597\n",
      "Gender          0\n",
      "HSGPA           0\n",
      "TotalGPA        0\n",
      "FCIPre          0\n",
      "Ethnicity       0\n",
      "FirstGen        0\n",
      "Pell            0\n",
      "PhysPointGPA    0\n",
      "URM             0\n",
      "SATVerbal       0\n",
      "SATMath         0\n",
      "SATTotal        0\n",
      "dtype: int64\n"
     ]
    },
    {
     "data": {
      "text/html": [
       "<div>\n",
       "<style scoped>\n",
       "    .dataframe tbody tr th:only-of-type {\n",
       "        vertical-align: middle;\n",
       "    }\n",
       "\n",
       "    .dataframe tbody tr th {\n",
       "        vertical-align: top;\n",
       "    }\n",
       "\n",
       "    .dataframe thead th {\n",
       "        text-align: right;\n",
       "    }\n",
       "</style>\n",
       "<table border=\"1\" class=\"dataframe\">\n",
       "  <thead>\n",
       "    <tr style=\"text-align: right;\">\n",
       "      <th></th>\n",
       "      <th>Gender</th>\n",
       "      <th>HSGPA</th>\n",
       "      <th>TotalGPA</th>\n",
       "      <th>FCIPre</th>\n",
       "      <th>Ethnicity</th>\n",
       "      <th>FirstGen</th>\n",
       "      <th>Pell</th>\n",
       "      <th>PhysPointGPA</th>\n",
       "      <th>URM</th>\n",
       "      <th>SATVerbal</th>\n",
       "      <th>SATMath</th>\n",
       "      <th>SATTotal</th>\n",
       "    </tr>\n",
       "  </thead>\n",
       "  <tbody>\n",
       "    <tr>\n",
       "      <td>0</td>\n",
       "      <td>F</td>\n",
       "      <td>3.05</td>\n",
       "      <td>3.04</td>\n",
       "      <td>5</td>\n",
       "      <td>Asian Only</td>\n",
       "      <td>1</td>\n",
       "      <td>1</td>\n",
       "      <td>1.0</td>\n",
       "      <td>0</td>\n",
       "      <td>0</td>\n",
       "      <td>0</td>\n",
       "      <td>0</td>\n",
       "    </tr>\n",
       "    <tr>\n",
       "      <td>1</td>\n",
       "      <td>M</td>\n",
       "      <td>4.23</td>\n",
       "      <td>4.00</td>\n",
       "      <td>27</td>\n",
       "      <td>Asian Only</td>\n",
       "      <td>1</td>\n",
       "      <td>0</td>\n",
       "      <td>4.0</td>\n",
       "      <td>0</td>\n",
       "      <td>630</td>\n",
       "      <td>680</td>\n",
       "      <td>1310</td>\n",
       "    </tr>\n",
       "    <tr>\n",
       "      <td>2</td>\n",
       "      <td>M</td>\n",
       "      <td>3.05</td>\n",
       "      <td>3.36</td>\n",
       "      <td>7</td>\n",
       "      <td>Asian Only</td>\n",
       "      <td>1</td>\n",
       "      <td>1</td>\n",
       "      <td>4.0</td>\n",
       "      <td>0</td>\n",
       "      <td>400</td>\n",
       "      <td>410</td>\n",
       "      <td>810</td>\n",
       "    </tr>\n",
       "    <tr>\n",
       "      <td>3</td>\n",
       "      <td>M</td>\n",
       "      <td>3.86</td>\n",
       "      <td>3.35</td>\n",
       "      <td>4</td>\n",
       "      <td>Asian Only</td>\n",
       "      <td>1</td>\n",
       "      <td>0</td>\n",
       "      <td>4.0</td>\n",
       "      <td>0</td>\n",
       "      <td>700</td>\n",
       "      <td>670</td>\n",
       "      <td>1370</td>\n",
       "    </tr>\n",
       "    <tr>\n",
       "      <td>4</td>\n",
       "      <td>F</td>\n",
       "      <td>3.91</td>\n",
       "      <td>3.84</td>\n",
       "      <td>13</td>\n",
       "      <td>Asian Only</td>\n",
       "      <td>1</td>\n",
       "      <td>0</td>\n",
       "      <td>4.0</td>\n",
       "      <td>0</td>\n",
       "      <td>660</td>\n",
       "      <td>600</td>\n",
       "      <td>1260</td>\n",
       "    </tr>\n",
       "  </tbody>\n",
       "</table>\n",
       "</div>"
      ],
      "text/plain": [
       "  Gender  HSGPA  TotalGPA  FCIPre   Ethnicity  FirstGen  Pell  PhysPointGPA  \\\n",
       "0      F   3.05      3.04       5  Asian Only         1     1           1.0   \n",
       "1      M   4.23      4.00      27  Asian Only         1     0           4.0   \n",
       "2      M   3.05      3.36       7  Asian Only         1     1           4.0   \n",
       "3      M   3.86      3.35       4  Asian Only         1     0           4.0   \n",
       "4      F   3.91      3.84      13  Asian Only         1     0           4.0   \n",
       "\n",
       "   URM  SATVerbal  SATMath  SATTotal  \n",
       "0    0          0        0         0  \n",
       "1    0        630      680      1310  \n",
       "2    0        400      410       810  \n",
       "3    0        700      670      1370  \n",
       "4    0        660      600      1260  "
      ]
     },
     "execution_count": 4,
     "metadata": {},
     "output_type": "execute_result"
    }
   ],
   "source": [
    "# lets look at our table and find out how many rows we have, how many columns have null values \n",
    "# and the first five values from our table\n",
    "print(df.shape[0])\n",
    "print(df.isnull().sum())\n",
    "df.head()"
   ]
  },
  {
   "cell_type": "code",
   "execution_count": 5,
   "metadata": {
    "ExecuteTime": {
     "end_time": "2019-12-04T20:07:02.376444Z",
     "start_time": "2019-12-04T20:07:02.370463Z"
    }
   },
   "outputs": [
    {
     "name": "stdout",
     "output_type": "stream",
     "text": [
      "Index(['Gender', 'HSGPA', 'TotalGPA', 'FCIPre', 'Ethnicity', 'FirstGen',\n",
      "       'Pell', 'PhysPointGPA', 'URM', 'SATVerbal', 'SATMath', 'SATTotal'],\n",
      "      dtype='object')\n",
      "['Asian Only' 'Black/African American Only' 'Hispanic/Latino (any race)'\n",
      " 'Native Hawaiian or Other Pacific Islander Only' 'White Only']\n"
     ]
    }
   ],
   "source": [
    "# Lets print out our columns and see what features we have available to us\n",
    "\n",
    "print(df.columns)\n",
    "print(df['Ethnicity'].unique())"
   ]
  },
  {
   "cell_type": "code",
   "execution_count": 6,
   "metadata": {
    "ExecuteTime": {
     "end_time": "2019-12-04T20:07:03.548942Z",
     "start_time": "2019-12-04T20:07:03.529894Z"
    }
   },
   "outputs": [
    {
     "name": "stderr",
     "output_type": "stream",
     "text": [
      "C:\\Users\\ddagu\\Anaconda3\\lib\\site-packages\\ipykernel_launcher.py:16: SettingWithCopyWarning: \n",
      "A value is trying to be set on a copy of a slice from a DataFrame.\n",
      "Try using .loc[row_indexer,col_indexer] = value instead\n",
      "\n",
      "See the caveats in the documentation: http://pandas.pydata.org/pandas-docs/stable/user_guide/indexing.html#returning-a-view-versus-a-copy\n",
      "  app.launch_new_instance()\n"
     ]
    }
   ],
   "source": [
    "# now lets create a new column that is binary and splits\n",
    "# our student group between those who will fail (C- or worse) and those who suceed (C or better)\n",
    "\n",
    "\"\"\"\n",
    "\n",
    "I had trouble with this so here is some documentation for a solution\n",
    "\n",
    "https://cmdlinetips.com/2019/05/how-to-create-a-column-using-condition-on-another-column-in-pandas/\n",
    "\n",
    "\"\"\"\n",
    "\n",
    "# You can use either or of the codes below.\n",
    "\n",
    "# df['Success'] = np.where(df['PhysPointGPA'] > 1.7, 1, 0)\n",
    "\n",
    "df['Success'] = df['PhysPointGPA'].apply(lambda x: 1 if x > 1.8 else 0)"
   ]
  },
  {
   "cell_type": "code",
   "execution_count": 7,
   "metadata": {
    "ExecuteTime": {
     "end_time": "2019-12-04T20:07:04.812705Z",
     "start_time": "2019-12-04T20:07:04.804726Z"
    }
   },
   "outputs": [
    {
     "name": "stderr",
     "output_type": "stream",
     "text": [
      "C:\\Users\\ddagu\\Anaconda3\\lib\\site-packages\\ipykernel_launcher.py:15: SettingWithCopyWarning: \n",
      "A value is trying to be set on a copy of a slice from a DataFrame.\n",
      "Try using .loc[row_indexer,col_indexer] = value instead\n",
      "\n",
      "See the caveats in the documentation: http://pandas.pydata.org/pandas-docs/stable/user_guide/indexing.html#returning-a-view-versus-a-copy\n",
      "  from ipykernel import kernelapp as app\n",
      "C:\\Users\\ddagu\\Anaconda3\\lib\\site-packages\\ipykernel_launcher.py:16: SettingWithCopyWarning: \n",
      "A value is trying to be set on a copy of a slice from a DataFrame.\n",
      "Try using .loc[row_indexer,col_indexer] = value instead\n",
      "\n",
      "See the caveats in the documentation: http://pandas.pydata.org/pandas-docs/stable/user_guide/indexing.html#returning-a-view-versus-a-copy\n",
      "  app.launch_new_instance()\n"
     ]
    }
   ],
   "source": [
    "# for categorical values like sex and ethnicity lets switch to numeric values\n",
    "\n",
    "sex_values = {  'M' : 1,\n",
    "                'F' : 0\n",
    "             }\n",
    "\n",
    "ethnic_values = { 'Asian Only' : 1,\n",
    "                 'Black/African American Only' : 2,\n",
    "                 'Hispanic/Latino (any race)'   : 3,\n",
    "                 'Native Hawaiian or Other Pacific Islander Only' : 4,\n",
    "                'White Only' : 5,\n",
    "}\n",
    "\n",
    "\n",
    "df['Gender'] = df['Gender'].map(sex_values)\n",
    "df['Ethnicity'] = df['Ethnicity'].map(ethnic_values)"
   ]
  },
  {
   "cell_type": "code",
   "execution_count": 8,
   "metadata": {
    "ExecuteTime": {
     "end_time": "2019-12-04T20:07:06.247919Z",
     "start_time": "2019-12-04T20:07:06.213736Z"
    }
   },
   "outputs": [
    {
     "data": {
      "text/html": [
       "<div>\n",
       "<style scoped>\n",
       "    .dataframe tbody tr th:only-of-type {\n",
       "        vertical-align: middle;\n",
       "    }\n",
       "\n",
       "    .dataframe tbody tr th {\n",
       "        vertical-align: top;\n",
       "    }\n",
       "\n",
       "    .dataframe thead th {\n",
       "        text-align: right;\n",
       "    }\n",
       "</style>\n",
       "<table border=\"1\" class=\"dataframe\">\n",
       "  <thead>\n",
       "    <tr style=\"text-align: right;\">\n",
       "      <th></th>\n",
       "      <th>Gender</th>\n",
       "      <th>HSGPA</th>\n",
       "      <th>TotalGPA</th>\n",
       "      <th>FCIPre</th>\n",
       "      <th>Ethnicity</th>\n",
       "      <th>FirstGen</th>\n",
       "      <th>Pell</th>\n",
       "      <th>PhysPointGPA</th>\n",
       "      <th>URM</th>\n",
       "      <th>SATVerbal</th>\n",
       "      <th>SATMath</th>\n",
       "      <th>SATTotal</th>\n",
       "      <th>Success</th>\n",
       "    </tr>\n",
       "  </thead>\n",
       "  <tbody>\n",
       "    <tr>\n",
       "      <td>0</td>\n",
       "      <td>0</td>\n",
       "      <td>3.05</td>\n",
       "      <td>3.04</td>\n",
       "      <td>5</td>\n",
       "      <td>1</td>\n",
       "      <td>1</td>\n",
       "      <td>1</td>\n",
       "      <td>1.0</td>\n",
       "      <td>0</td>\n",
       "      <td>0</td>\n",
       "      <td>0</td>\n",
       "      <td>0</td>\n",
       "      <td>0</td>\n",
       "    </tr>\n",
       "    <tr>\n",
       "      <td>1</td>\n",
       "      <td>1</td>\n",
       "      <td>4.23</td>\n",
       "      <td>4.00</td>\n",
       "      <td>27</td>\n",
       "      <td>1</td>\n",
       "      <td>1</td>\n",
       "      <td>0</td>\n",
       "      <td>4.0</td>\n",
       "      <td>0</td>\n",
       "      <td>630</td>\n",
       "      <td>680</td>\n",
       "      <td>1310</td>\n",
       "      <td>1</td>\n",
       "    </tr>\n",
       "    <tr>\n",
       "      <td>2</td>\n",
       "      <td>1</td>\n",
       "      <td>3.05</td>\n",
       "      <td>3.36</td>\n",
       "      <td>7</td>\n",
       "      <td>1</td>\n",
       "      <td>1</td>\n",
       "      <td>1</td>\n",
       "      <td>4.0</td>\n",
       "      <td>0</td>\n",
       "      <td>400</td>\n",
       "      <td>410</td>\n",
       "      <td>810</td>\n",
       "      <td>1</td>\n",
       "    </tr>\n",
       "    <tr>\n",
       "      <td>3</td>\n",
       "      <td>1</td>\n",
       "      <td>3.86</td>\n",
       "      <td>3.35</td>\n",
       "      <td>4</td>\n",
       "      <td>1</td>\n",
       "      <td>1</td>\n",
       "      <td>0</td>\n",
       "      <td>4.0</td>\n",
       "      <td>0</td>\n",
       "      <td>700</td>\n",
       "      <td>670</td>\n",
       "      <td>1370</td>\n",
       "      <td>1</td>\n",
       "    </tr>\n",
       "    <tr>\n",
       "      <td>4</td>\n",
       "      <td>0</td>\n",
       "      <td>3.91</td>\n",
       "      <td>3.84</td>\n",
       "      <td>13</td>\n",
       "      <td>1</td>\n",
       "      <td>1</td>\n",
       "      <td>0</td>\n",
       "      <td>4.0</td>\n",
       "      <td>0</td>\n",
       "      <td>660</td>\n",
       "      <td>600</td>\n",
       "      <td>1260</td>\n",
       "      <td>1</td>\n",
       "    </tr>\n",
       "  </tbody>\n",
       "</table>\n",
       "</div>"
      ],
      "text/plain": [
       "   Gender  HSGPA  TotalGPA  FCIPre  Ethnicity  FirstGen  Pell  PhysPointGPA  \\\n",
       "0       0   3.05      3.04       5          1         1     1           1.0   \n",
       "1       1   4.23      4.00      27          1         1     0           4.0   \n",
       "2       1   3.05      3.36       7          1         1     1           4.0   \n",
       "3       1   3.86      3.35       4          1         1     0           4.0   \n",
       "4       0   3.91      3.84      13          1         1     0           4.0   \n",
       "\n",
       "   URM  SATVerbal  SATMath  SATTotal  Success  \n",
       "0    0          0        0         0        0  \n",
       "1    0        630      680      1310        1  \n",
       "2    0        400      410       810        1  \n",
       "3    0        700      670      1370        1  \n",
       "4    0        660      600      1260        1  "
      ]
     },
     "execution_count": 8,
     "metadata": {},
     "output_type": "execute_result"
    }
   ],
   "source": [
    "df.head()"
   ]
  },
  {
   "cell_type": "code",
   "execution_count": 9,
   "metadata": {
    "ExecuteTime": {
     "end_time": "2019-12-04T20:07:07.554475Z",
     "start_time": "2019-12-04T20:07:07.322693Z"
    }
   },
   "outputs": [
    {
     "data": {
      "image/png": "[encoded data removed]",
      "text/plain": [
       "<Figure size 900x600 with 1 Axes>"
      ]
     },
     "metadata": {
      "needs_background": "light"
     },
     "output_type": "display_data"
    }
   ],
   "source": [
    "# lets visualize our results with a bar chart\n",
    "\n",
    "ax = sns.countplot( x = 'Success',data = df)\n",
    "ax.set_xticklabels(\n",
    "    ['Failing Students','Suceeding Students'], \n",
    "    fontweight = 'light',\n",
    "    fontsize = 'x-small'\n",
    ")\n",
    "ax.set_title('Distribution of Students')\n",
    "\n",
    "# Calculate number of obs per group & median to position labels\n",
    "medians = df['Success'].value_counts()\n",
    "medians = medians/2\n",
    "nobs = df.groupby([\"Success\"], sort = False).size().values\n",
    "nobs = [str(x) for x in nobs.tolist()]\n",
    "nobs = [\"N:\" + i for i in nobs]\n",
    "\n",
    "# Add it to the plot\n",
    "pos = range(len(nobs))\n",
    "for tick,label in zip(pos,ax.get_xticklabels()):\n",
    "    plt.text(pos[tick], medians[tick], nobs[tick], horizontalalignment='center', size='x-small', color='w', weight='semibold')\n"
   ]
  },
  {
   "cell_type": "code",
   "execution_count": 10,
   "metadata": {
    "ExecuteTime": {
     "end_time": "2019-12-04T20:07:09.788113Z",
     "start_time": "2019-12-04T20:07:09.518258Z"
    }
   },
   "outputs": [
    {
     "data": {
      "image/png": "[encoded data removed]",
      "text/plain": [
       "<Figure size 900x600 with 1 Axes>"
      ]
     },
     "metadata": {
      "needs_background": "light"
     },
     "output_type": "display_data"
    }
   ],
   "source": [
    "# Lets also take the time to visualize the grade distribution of all our datapoints\n",
    "\n",
    "\"\"\"\n",
    "\n",
    "Lets do a Violin Plot Now\n",
    "\n",
    "https://blog.bioturing.com/2018/05/16/5-reasons-you-should-use-a-violin-graph/\n",
    "https://python-graph-gallery.com/violin-plot/\n",
    "\n",
    "\"\"\"\n",
    "\n",
    "ax = sns.violinplot(x = \"Success\", y = \"PhysPointGPA\" , data = df) # This is the only line changed\n",
    "\n",
    "# all the lines below are the same lines we had for the predceding graph\n",
    "\n",
    "ax.set_xticklabels(\n",
    "    ['Failing Students','Suceeding Students'], \n",
    "    fontweight = 'light',\n",
    "    fontsize = 'medium'\n",
    ")\n",
    "ax.set_title('PHYS Grade by Success Type for 2017 Academic YR')\n",
    "\n",
    "# Calculate number of obs per group & median to position labels\n",
    "medians = df.groupby([\"Success\"])[\"PhysPointGPA\"].median().values\n",
    "nobs = df.groupby(\"Success\").size().values\n",
    "nobs = [str(x) for x in nobs.tolist()]\n",
    "nobs = [\"N:\" + i for i in nobs]\n",
    " \n",
    "# Add it to the plot\n",
    "pos = range(len(nobs))\n",
    "for tick,label in zip(pos,ax.get_xticklabels()):\n",
    "    plt.text(pos[tick], medians[tick] + 0.1, nobs[tick], horizontalalignment='center', size='small', color='w', weight='semibold')\n",
    " "
   ]
  },
  {
   "cell_type": "markdown",
   "metadata": {},
   "source": [
    "Now that we've created our datasets and we know what kind of students we are going to be \n",
    "working with, \n",
    "lets begin using SKlearn to create our **failure detection algorithm**\n",
    "\n",
    "For Machine Learning we have to use SKLearn library,\n",
    "which is pretty much the golden standard when it comes\n",
    "to machine learning in Python.\n",
    "\n",
    "You can find documentation below\n",
    "\n",
    "[SKLearn](https://scikit-learn.org/stable/auto_examples/linear_model/plot_ols.html#sphx-glr-auto-examples-linear-model-plot-ols-py)\n",
    "\n"
   ]
  },
  {
   "cell_type": "code",
   "execution_count": 11,
   "metadata": {
    "ExecuteTime": {
     "end_time": "2019-12-04T20:07:13.311129Z",
     "start_time": "2019-12-04T20:07:12.582440Z"
    }
   },
   "outputs": [],
   "source": [
    "from sklearn.model_selection import train_test_split\n",
    "\n",
    "\n",
    "dataUse = df\n",
    "\n",
    "# there are missing values in SATTotal drop those\n",
    "\n",
    "# dataUse = df[df['SATTotal']!= 0]\n",
    "\n",
    "featuresUse = [\"Gender\",\"HSGPA\",\"TotalGPA\",\"FCIPre\",\"Ethnicity\",\"FirstGen\", \"Pell\",\"URM\",\"SATTotal\"]\n",
    "target = [\"Success\"]\n",
    "\n",
    "\n",
    "X = dataUse[featuresUse]\n",
    "y = dataUse[target]\n"
   ]
  },
  {
   "cell_type": "markdown",
   "metadata": {},
   "source": [
    "### Lets scale our features"
   ]
  },
  {
   "cell_type": "code",
   "execution_count": 12,
   "metadata": {
    "ExecuteTime": {
     "end_time": "2019-12-04T20:07:14.299353Z",
     "start_time": "2019-12-04T20:07:14.283761Z"
    },
    "scrolled": true
   },
   "outputs": [],
   "source": [
    "# Lets split our training data and then scale it\n",
    "\n",
    "X_train, X_test, y_train, y_test = train_test_split(X,y, test_size = 0.3, random_state = 0)\n",
    "\n",
    "from sklearn.preprocessing import StandardScaler\n",
    "\n",
    "sc = StandardScaler()\n",
    "\n",
    "X_train = sc.fit_transform(X_train)\n",
    "X_test = sc.transform(X_test)\n",
    "\n"
   ]
  },
  {
   "cell_type": "markdown",
   "metadata": {},
   "source": [
    "### Lets train our model"
   ]
  },
  {
   "cell_type": "markdown",
   "metadata": {},
   "source": [
    "For failure detection we will be making use of the Random Forest Algorithm.\n",
    "\n",
    "Examples and documentation will be available below.\n",
    "\n",
    "[StackAbuse Article](https://stackabuse.com/random-forest-algorithm-with-python-and-scikit-learn/)\n",
    "\n",
    "[Medium Article](https://medium.com/ampersand-academy/random-forest-regression-using-python-sklearn-from-scratch-9ad7cf2ec2bb)\n",
    "\n",
    "[Ehackz Aricle](https://ehackz.com/2018/03/23/python-scikit-learn-random-forest-classifier-tutorial/)"
   ]
  },
  {
   "cell_type": "code",
   "execution_count": 13,
   "metadata": {
    "ExecuteTime": {
     "end_time": "2019-12-04T20:07:15.919260Z",
     "start_time": "2019-12-04T20:07:15.731696Z"
    }
   },
   "outputs": [],
   "source": [
    "from sklearn.ensemble import RandomForestClassifier\n",
    "\n",
    "regressor = RandomForestClassifier(n_estimators=40, random_state=0)\n",
    "\n",
    "\"\"\" \n",
    "\n",
    "Encountered an error below:\n",
    "\n",
    "DataConversionWarning: A column-vector y was passed when a 1d array was expected. \n",
    "Please change the shape of y to (n_samples,), for example using ravel().\n",
    "\n",
    "Was fixed using help from this site\n",
    "\n",
    "https://stackoverflow.com/questions/34165731/a-column-vector-y-was-passed-when-a-1d-array-was-expected\n",
    "\n",
    "\"\"\"\n",
    "\n",
    "regressor.fit(X_train, y_train.values.ravel())\n",
    "y_pred = regressor.predict(X_test)"
   ]
  },
  {
   "cell_type": "markdown",
   "metadata": {},
   "source": [
    "### Lets go ahead and look at some characteristics of our model"
   ]
  },
  {
   "cell_type": "code",
   "execution_count": 14,
   "metadata": {
    "ExecuteTime": {
     "end_time": "2019-12-04T20:07:17.025832Z",
     "start_time": "2019-12-04T20:07:17.013348Z"
    }
   },
   "outputs": [
    {
     "name": "stdout",
     "output_type": "stream",
     "text": [
      "[[ 11  26]\n",
      " [ 11 132]]\n",
      "              precision    recall  f1-score   support\n",
      "\n",
      "           0       0.50      0.30      0.37        37\n",
      "           1       0.84      0.92      0.88       143\n",
      "\n",
      "    accuracy                           0.79       180\n",
      "   macro avg       0.67      0.61      0.62       180\n",
      "weighted avg       0.77      0.79      0.77       180\n",
      "\n",
      "0.7944444444444444\n"
     ]
    }
   ],
   "source": [
    "from sklearn.metrics import classification_report, confusion_matrix, accuracy_score\n",
    "\n",
    "cm = confusion_matrix(y_test,y_pred)\n",
    "cr = classification_report(y_test,y_pred)\n",
    "ac = accuracy_score(y_test,y_pred)\n",
    "\n",
    "print(cm)\n",
    "print(cr)\n",
    "print(ac)"
   ]
  },
  {
   "cell_type": "markdown",
   "metadata": {},
   "source": [
    "### Lets see if we can plot our Confusion Matrix"
   ]
  },
  {
   "cell_type": "code",
   "execution_count": 15,
   "metadata": {
    "ExecuteTime": {
     "end_time": "2019-12-04T20:07:22.053844Z",
     "start_time": "2019-12-04T20:07:21.900735Z"
    }
   },
   "outputs": [
    {
     "name": "stdout",
     "output_type": "stream",
     "text": [
      "              precision    recall  f1-score   support\n",
      "\n",
      "           0       0.50      0.30      0.37        37\n",
      "           1       0.84      0.92      0.88       143\n",
      "\n",
      "    accuracy                           0.79       180\n",
      "   macro avg       0.67      0.61      0.62       180\n",
      "weighted avg       0.77      0.79      0.77       180\n",
      "\n",
      "0.7944444444444444\n"
     ]
    },
    {
     "data": {
      "image/png": "[encoded data removed]",
      "text/plain": [
       "<Figure size 900x600 with 1 Axes>"
      ]
     },
     "metadata": {
      "needs_background": "light"
     },
     "output_type": "display_data"
    }
   ],
   "source": [
    "ax = sns.heatmap(cm, annot = True , cbar = False, fmt = 'g')\n",
    "ax.set_title('Confusion Matrix')\n",
    "plt.ylabel('Actual Value')\n",
    "plt.xlabel('Predicted Value')\n",
    "\n",
    "print(cr)\n",
    "print(ac)"
   ]
  },
  {
   "cell_type": "markdown",
   "metadata": {},
   "source": [
    "### Lets talk about our Classification Report & Confusion Matrix\n",
    "\n",
    "The classification report tells us a lot about our model. While I won't go into the theory behind it, you can extrapolate meaning from the official documentation [here](https://www.scikityb.org/en/latest/api/classifier/classification_report.html) (Sci-Kit Learn documentation) or a crash course blog post from [here](https://www.scikit-yb.org/en/latest/api/classifier/classification_report.html) (Blog Post on Classification Report and Confusion Matrix).\n",
    "\n",
    "**Classification Report**\n",
    "\n",
    "*Precision* is defined as $\\large\\frac{True~Positive}{True~Positive~+~False~Positive}$\n",
    "\n",
    "$\\large\\frac{132}{132~+~26} = \\small0.835$\n",
    "\n",
    "\n",
    "- The precision of our model is 83.5%\n",
    "\n",
    "*Recall* is defined as $\\large\\frac{True~Positive}{True~Positive~+~False~Negative}$\n",
    "\n",
    "$\\large\\frac{132}{132+~11} = \\small 0.923$\n",
    "\n",
    "\n",
    "- The recall of our model is 92.3%\n",
    "\n",
    "\n",
    "\n",
    "*F1-Score* is defined as $\\normalsize\\frac{2~*~Precision~*~Recall}{Precision+Recall}$\n",
    "\n",
    "$\\normalsize\\frac{2~*~0.835~*~0.923}{0.835+0.923} = \\small0.877$\n",
    "\n",
    "\n",
    "- The F1-Score of our model is 87.7%\n",
    "\n",
    "**Result**\n",
    "\n",
    "We have high enough F1 Scores, Recall and Precision scores to be confident about the strength of our model. We also have an accuracy score of 0.7944\n",
    "\n",
    "\n",
    "\n",
    "\n"
   ]
  },
  {
   "cell_type": "markdown",
   "metadata": {},
   "source": [
    "### ROC Curve\n",
    "\n",
    "We are learning how to do ROC Curve from [here](http://benalexkeen.com/scoring-classifier-models-using-scikit-learn/)\n",
    "\n",
    "Documentation on importance and implentation of the ROC Curve [here](https://towardsdatascience.com/understanding-auc-roc-curve-68b2303cc9c5) and [here](https://acutecaretesting.org/en/articles/roc-curves-what-are-they-and-how-are-they-used)"
   ]
  },
  {
   "cell_type": "code",
   "execution_count": 16,
   "metadata": {
    "ExecuteTime": {
     "end_time": "2019-12-04T20:07:25.282354Z",
     "start_time": "2019-12-04T20:07:25.062364Z"
    }
   },
   "outputs": [
    {
     "data": {
      "image/png": "[encoded data removed]",
      "text/plain": [
       "<Figure size 900x600 with 1 Axes>"
      ]
     },
     "metadata": {
      "needs_background": "light"
     },
     "output_type": "display_data"
    }
   ],
   "source": [
    "from sklearn.metrics import roc_curve, auc\n",
    "\n",
    "lr_predict_probabilities = regressor.predict_proba(X_test)[:,1]\n",
    "\n",
    "lr_fpr, lr_tpr, _ = roc_curve(y_test, lr_predict_probabilities)\n",
    "lr_roc_auc = auc(lr_fpr, lr_tpr)\n",
    "\n",
    "plt.figure()\n",
    "plt.plot(lr_fpr, lr_tpr, color='darkgreen',\n",
    "         lw=2, label='Logistic Regression (area = %0.2f)' % lr_roc_auc)\n",
    "plt.plot([0, 1], [0, 1], color='navy', lw=2, linestyle='--')\n",
    "plt.xlim([0.0, 1.0])\n",
    "plt.ylim([0.0, 1.05])\n",
    "plt.xlabel('False Positive Rate')\n",
    "plt.ylabel('True Positive Rate')\n",
    "plt.title('ROC Curve')\n",
    "plt.legend(loc=\"lower right\")\n",
    "plt.show()\n"
   ]
  },
  {
   "cell_type": "code",
   "execution_count": null,
   "metadata": {},
   "outputs": [],
   "source": [
    "model_1 = {'N' : 597 ,\n",
    "          'Number Features' : 9 ,\n",
    "          'Precision' : '83.5%',\n",
    "          'Recall' : '92.3%',\n",
    "          'F1-Score' : , '0.877'\n",
    "          'Accuracy' : '0.794',\n",
    "          'ROC-Area' : '0.78'}"
   ]
  },
  {
   "cell_type": "markdown",
   "metadata": {},
   "source": [
    "### Lets re-do this because of missing scores (The above was Ryan's work)\n",
    "\n",
    "There are missing values in the SAT Total feature"
   ]
  },
  {
   "cell_type": "code",
   "execution_count": 17,
   "metadata": {
    "ExecuteTime": {
     "end_time": "2019-12-04T20:07:28.368489Z",
     "start_time": "2019-12-04T20:07:28.164023Z"
    }
   },
   "outputs": [
    {
     "name": "stdout",
     "output_type": "stream",
     "text": [
      "Our new count for data points is N : 423\n"
     ]
    },
    {
     "data": {
      "image/png": "[encoded data removed]",
      "text/plain": [
       "<Figure size 900x600 with 1 Axes>"
      ]
     },
     "metadata": {
      "needs_background": "light"
     },
     "output_type": "display_data"
    }
   ],
   "source": [
    "dataUse = df\n",
    "\n",
    "# there are missing values in SATTotal drop those\n",
    "\n",
    "dataUse = df[df['SATTotal']!= 0]\n",
    "\n",
    "featuresUse = [\"Gender\",\"HSGPA\",\"TotalGPA\",\"FCIPre\",\"Ethnicity\",\"FirstGen\", \"Pell\",\"URM\",\"SATTotal\"]\n",
    "target = [\"Success\"]\n",
    "\n",
    "print('Our new count for data points is N : %s' % dataUse.shape[0])\n",
    "\n",
    "ax = sns.countplot( x = 'Success',data = dataUse)\n",
    "ax.set_xticklabels(\n",
    "    ['Failing Students','Suceeding Students'], \n",
    "    fontweight = 'light',\n",
    "    fontsize = 'x-small'\n",
    ")\n",
    "ax.set_title('Distribution of Students')\n",
    "\n",
    "# Calculate number of obs per group & median to position labels\n",
    "medians = dataUse['Success'].value_counts()\n",
    "medians = medians/2\n",
    "nobs = dataUse.groupby([\"Success\"]).size().values\n",
    "nobs = [str(x) for x in nobs.tolist()]\n",
    "nobs = [\"N:\" + i for i in nobs]\n",
    "\n",
    "# Add it to the plot\n",
    "pos = range(len(nobs))\n",
    "for tick,label in zip(pos,ax.get_xticklabels()):\n",
    "    plt.text(pos[tick], medians[tick], nobs[tick], horizontalalignment='center', size='x-small', color='w', weight='semibold')\n",
    "\n"
   ]
  },
  {
   "cell_type": "code",
   "execution_count": 18,
   "metadata": {
    "ExecuteTime": {
     "end_time": "2019-12-04T20:07:32.153474Z",
     "start_time": "2019-12-04T20:07:31.956364Z"
    }
   },
   "outputs": [
    {
     "name": "stdout",
     "output_type": "stream",
     "text": [
      "              precision    recall  f1-score   support\n",
      "\n",
      "           0       0.56      0.19      0.29        26\n",
      "           1       0.82      0.96      0.89       101\n",
      "\n",
      "    accuracy                           0.80       127\n",
      "   macro avg       0.69      0.58      0.59       127\n",
      "weighted avg       0.77      0.80      0.76       127\n",
      "\n",
      "0.8031496062992126\n"
     ]
    },
    {
     "data": {
      "image/png": "[encoded data removed]",
      "text/plain": [
       "<Figure size 900x600 with 1 Axes>"
      ]
     },
     "metadata": {
      "needs_background": "light"
     },
     "output_type": "display_data"
    }
   ],
   "source": [
    "# This cell will be used for logistic regression\n",
    "\n",
    "X = dataUse[featuresUse]\n",
    "y = dataUse[target]\n",
    "\n",
    "# Lets split our training data and then scale it\n",
    "\n",
    "X_train, X_test, y_train, y_test = train_test_split(X,y, test_size = 0.3, random_state = 0)\n",
    "\n",
    "from sklearn.preprocessing import StandardScaler\n",
    "\n",
    "sc = StandardScaler()\n",
    "\n",
    "X_train = sc.fit_transform(X_train)\n",
    "X_test = sc.transform(X_test)\n",
    "\n",
    "from sklearn.ensemble import RandomForestClassifier\n",
    "\n",
    "regressor = RandomForestClassifier(n_estimators=40, random_state=0 )\n",
    "regressor.fit(X_train, y_train.values.ravel())\n",
    "y_pred = regressor.predict(X_test)\n",
    "\n",
    "from sklearn.metrics import classification_report, confusion_matrix, accuracy_score\n",
    "\n",
    "cm = confusion_matrix(y_test,y_pred)\n",
    "cr = classification_report(y_test,y_pred)\n",
    "ac = accuracy_score(y_test,y_pred)\n",
    "\n",
    "ax = sns.heatmap(cm, annot = True , cbar = False)\n",
    "ax.set_title('Confusion Matrix')\n",
    "plt.ylabel('Actual Value')\n",
    "plt.xlabel('Predicted Value')\n",
    "\n",
    "print(cr)\n",
    "print(ac)"
   ]
  },
  {
   "cell_type": "code",
   "execution_count": 19,
   "metadata": {
    "ExecuteTime": {
     "end_time": "2019-12-04T20:07:35.065081Z",
     "start_time": "2019-12-04T20:07:34.845649Z"
    }
   },
   "outputs": [
    {
     "data": {
      "image/png": "[encoded data removed]",
      "text/plain": [
       "<Figure size 900x600 with 1 Axes>"
      ]
     },
     "metadata": {
      "needs_background": "light"
     },
     "output_type": "display_data"
    }
   ],
   "source": [
    "from sklearn.metrics import roc_curve, auc\n",
    "\n",
    "lr_predict_probabilities = regressor.predict_proba(X_test)[:,1]\n",
    "\n",
    "lr_fpr, lr_tpr, _ = roc_curve(y_test, lr_predict_probabilities)\n",
    "lr_roc_auc = auc(lr_fpr, lr_tpr)\n",
    "\n",
    "plt.figure()\n",
    "plt.plot(lr_fpr, lr_tpr, color='darkgreen',\n",
    "         lw=2, label='Logistic Regression (area = %0.2f)' % lr_roc_auc)\n",
    "plt.plot([0, 1], [0, 1], color='navy', lw=2, linestyle='--')\n",
    "plt.xlim([0.0, 1.0])\n",
    "plt.ylim([0.0, 1.05])\n",
    "plt.xlabel('False Positive Rate')\n",
    "plt.ylabel('True Positive Rate')\n",
    "plt.title('ROC Curve')\n",
    "plt.legend(loc=\"lower right\")\n",
    "plt.show()"
   ]
  },
  {
   "cell_type": "markdown",
   "metadata": {},
   "source": [
    "## Lets do better\n",
    "\n",
    "Great! We seemed to have increase our accuracy. However we should try and get the best results. We can do it manually, or we can scour through the internet and find it ourselves!\n",
    "\n",
    "Here is a [site](https://ehackz.com/2018/03/23/python-scikit-learn-random-forest-classifier-tutorial/) that fits our needs!\n",
    "\n",
    "Also\n",
    "\n",
    "[Improving Random Forest](https://towardsdatascience.com/improving-random-forest-in-python-part-1-893916666cd)"
   ]
  },
  {
   "cell_type": "code",
   "execution_count": 20,
   "metadata": {
    "ExecuteTime": {
     "end_time": "2019-12-04T20:08:11.014172Z",
     "start_time": "2019-12-04T20:07:37.691573Z"
    }
   },
   "outputs": [
    {
     "data": {
      "text/plain": [
       "GridSearchCV(cv=5, error_score='raise-deprecating',\n",
       "             estimator=RandomForestClassifier(bootstrap=True, class_weight=None,\n",
       "                                              criterion='gini', max_depth=None,\n",
       "                                              max_features='auto',\n",
       "                                              max_leaf_nodes=None,\n",
       "                                              min_impurity_decrease=0.0,\n",
       "                                              min_impurity_split=None,\n",
       "                                              min_samples_leaf=1,\n",
       "                                              min_samples_split=2,\n",
       "                                              min_weight_fraction_leaf=0.0,\n",
       "                                              n_estimators='warn', n_jobs=None,\n",
       "                                              oob_score=False,\n",
       "                                              random_state=None, verbose=0,\n",
       "                                              warm_start=False),\n",
       "             iid='warn', n_jobs=None,\n",
       "             param_grid={'max_depth': [5, 8, 15], 'min_samples_leaf': [1, 2, 4],\n",
       "                         'n_estimators': [100, 300, 500]},\n",
       "             pre_dispatch='2*n_jobs', refit=True, return_train_score=False,\n",
       "             scoring=None, verbose=0)"
      ]
     },
     "execution_count": 20,
     "metadata": {},
     "output_type": "execute_result"
    }
   ],
   "source": [
    "from sklearn.model_selection import GridSearchCV\n",
    "\n",
    "gridsearch_forest = RandomForestClassifier()\n",
    "\n",
    "params = {\n",
    "    \"n_estimators\": [100, 300, 500],\n",
    "    \"max_depth\": [5,8,15],\n",
    "    \"min_samples_leaf\" : [1, 2, 4]\n",
    "}\n",
    "\n",
    "clf = GridSearchCV(gridsearch_forest, param_grid=params, cv=5 )\n",
    "clf.fit(X,y.values.ravel())"
   ]
  },
  {
   "cell_type": "code",
   "execution_count": 21,
   "metadata": {
    "ExecuteTime": {
     "end_time": "2019-12-04T20:08:16.524749Z",
     "start_time": "2019-12-04T20:08:16.518764Z"
    }
   },
   "outputs": [
    {
     "data": {
      "text/plain": [
       "{'max_depth': 5, 'min_samples_leaf': 4, 'n_estimators': 100}"
      ]
     },
     "execution_count": 21,
     "metadata": {},
     "output_type": "execute_result"
    }
   ],
   "source": [
    "clf.best_params_"
   ]
  },
  {
   "cell_type": "code",
   "execution_count": 22,
   "metadata": {
    "ExecuteTime": {
     "end_time": "2019-12-04T20:08:18.522919Z",
     "start_time": "2019-12-04T20:08:18.515938Z"
    }
   },
   "outputs": [
    {
     "data": {
      "text/plain": [
       "0.8037825059101655"
      ]
     },
     "execution_count": 22,
     "metadata": {},
     "output_type": "execute_result"
    }
   ],
   "source": [
    "clf.best_score_"
   ]
  },
  {
   "cell_type": "markdown",
   "metadata": {},
   "source": [
    "Using the values we get from GridSeach \n",
    "\n",
    "{'max_depth': 4, 'min_samples_leaf': 4, 'n_estimators': 100}\n",
    "\n",
    "we get the results below"
   ]
  },
  {
   "cell_type": "code",
   "execution_count": 23,
   "metadata": {
    "ExecuteTime": {
     "end_time": "2019-12-04T20:08:50.945866Z",
     "start_time": "2019-12-04T20:08:50.677309Z"
    }
   },
   "outputs": [
    {
     "name": "stdout",
     "output_type": "stream",
     "text": [
      "              precision    recall  f1-score   support\n",
      "\n",
      "           0       0.83      0.19      0.31        26\n",
      "           1       0.83      0.99      0.90       101\n",
      "\n",
      "    accuracy                           0.83       127\n",
      "   macro avg       0.83      0.59      0.61       127\n",
      "weighted avg       0.83      0.83      0.78       127\n",
      "\n",
      "Our accuracy score is 0.83\n"
     ]
    },
    {
     "data": {
      "text/html": [
       "<div>\n",
       "<style scoped>\n",
       "    .dataframe tbody tr th:only-of-type {\n",
       "        vertical-align: middle;\n",
       "    }\n",
       "\n",
       "    .dataframe tbody tr th {\n",
       "        vertical-align: top;\n",
       "    }\n",
       "\n",
       "    .dataframe thead th {\n",
       "        text-align: right;\n",
       "    }\n",
       "</style>\n",
       "<table border=\"1\" class=\"dataframe\">\n",
       "  <thead>\n",
       "    <tr style=\"text-align: right;\">\n",
       "      <th></th>\n",
       "      <th>0</th>\n",
       "      <th>1</th>\n",
       "      <th>accuracy</th>\n",
       "      <th>macro avg</th>\n",
       "      <th>weighted avg</th>\n",
       "    </tr>\n",
       "  </thead>\n",
       "  <tbody>\n",
       "    <tr>\n",
       "      <td>precision</td>\n",
       "      <td>0.833333</td>\n",
       "      <td>0.826446</td>\n",
       "      <td>0.826772</td>\n",
       "      <td>0.829890</td>\n",
       "      <td>0.827856</td>\n",
       "    </tr>\n",
       "    <tr>\n",
       "      <td>recall</td>\n",
       "      <td>0.192308</td>\n",
       "      <td>0.990099</td>\n",
       "      <td>0.826772</td>\n",
       "      <td>0.591203</td>\n",
       "      <td>0.826772</td>\n",
       "    </tr>\n",
       "    <tr>\n",
       "      <td>f1-score</td>\n",
       "      <td>0.312500</td>\n",
       "      <td>0.900901</td>\n",
       "      <td>0.826772</td>\n",
       "      <td>0.606700</td>\n",
       "      <td>0.780441</td>\n",
       "    </tr>\n",
       "    <tr>\n",
       "      <td>support</td>\n",
       "      <td>26.000000</td>\n",
       "      <td>101.000000</td>\n",
       "      <td>0.826772</td>\n",
       "      <td>127.000000</td>\n",
       "      <td>127.000000</td>\n",
       "    </tr>\n",
       "  </tbody>\n",
       "</table>\n",
       "</div>"
      ],
      "text/plain": [
       "                   0           1  accuracy   macro avg  weighted avg\n",
       "precision   0.833333    0.826446  0.826772    0.829890      0.827856\n",
       "recall      0.192308    0.990099  0.826772    0.591203      0.826772\n",
       "f1-score    0.312500    0.900901  0.826772    0.606700      0.780441\n",
       "support    26.000000  101.000000  0.826772  127.000000    127.000000"
      ]
     },
     "execution_count": 23,
     "metadata": {},
     "output_type": "execute_result"
    },
    {
     "data": {
      "image/png": "[encoded data removed]",
      "text/plain": [
       "<Figure size 900x600 with 1 Axes>"
      ]
     },
     "metadata": {
      "needs_background": "light"
     },
     "output_type": "display_data"
    }
   ],
   "source": [
    "dataUse = df\n",
    "\n",
    "# there are missing values in SATTotal drop those\n",
    "\n",
    "dataUse = df[df['SATTotal']!= 0]\n",
    "\n",
    "featuresUse = [\"Gender\",\"HSGPA\",\"TotalGPA\",\"FCIPre\",\"Ethnicity\",\"FirstGen\", \"Pell\",\"URM\",\"SATTotal\"]\n",
    "target = [\"Success\"]\n",
    "\n",
    "\n",
    "X = dataUse[featuresUse]\n",
    "y = dataUse[target]\n",
    "\n",
    "# Lets split our training data and then scale it\n",
    "\n",
    "X_train, X_test, y_train, y_test = train_test_split(X,y, test_size = 0.3, random_state = 0)\n",
    "\n",
    "from sklearn.preprocessing import StandardScaler\n",
    "\n",
    "sc = StandardScaler()\n",
    "\n",
    "X_train = sc.fit_transform(X_train)\n",
    "X_test = sc.transform(X_test)\n",
    "\n",
    "from sklearn.ensemble import RandomForestClassifier\n",
    "\n",
    "regressor = RandomForestClassifier(n_estimators = 100, max_depth = 5, \n",
    "                                   min_samples_leaf = 4, random_state = 0)\n",
    "regressor.fit(X_train, y_train.values.ravel())\n",
    "y_pred = regressor.predict(X_test)\n",
    "\n",
    "from sklearn.metrics import classification_report, confusion_matrix, accuracy_score\n",
    "\n",
    "cm = confusion_matrix(y_test,y_pred)\n",
    "cr = classification_report(y_test,y_pred)\n",
    "ac = accuracy_score(y_test,y_pred)\n",
    "\n",
    "ax = sns.heatmap(cm, annot = True , cbar = False, fmt = 'g') \n",
    "ax.set_title('Confusion Matrix')\n",
    "plt.ylabel('Actual Value')\n",
    "plt.xlabel('Predicted Value')\n",
    "\n",
    "print(cr)\n",
    "print(\"Our accuracy score is %.2f\" % ac)\n",
    "\n",
    "# for classification report like a DataFrame\n",
    "\n",
    "cr = classification_report(y_test,y_pred, output_dict = True )\n",
    "pd.DataFrame(cr)"
   ]
  },
  {
   "cell_type": "code",
   "execution_count": 24,
   "metadata": {
    "ExecuteTime": {
     "end_time": "2019-12-04T20:09:13.151296Z",
     "start_time": "2019-12-04T20:09:12.908731Z"
    }
   },
   "outputs": [
    {
     "data": {
      "image/png": "[encoded data removed]",
      "text/plain": [
       "<Figure size 900x600 with 1 Axes>"
      ]
     },
     "metadata": {
      "needs_background": "light"
     },
     "output_type": "display_data"
    }
   ],
   "source": [
    "from sklearn.metrics import roc_curve, auc\n",
    "\n",
    "lr_predict_probabilities = regressor.predict_proba(X_test)[:,1]\n",
    "\n",
    "lr_fpr, lr_tpr, _ = roc_curve(y_test, lr_predict_probabilities)\n",
    "lr_roc_auc = auc(lr_fpr, lr_tpr)\n",
    "\n",
    "plt.figure()\n",
    "plt.plot(lr_fpr, lr_tpr, color='darkgreen',\n",
    "         lw=2, label='Logistic Regression (area = %0.2f)' % lr_roc_auc)\n",
    "plt.plot([0, 1], [0, 1], color='navy', lw=2, linestyle='--')\n",
    "plt.xlim([0.0, 1.0])\n",
    "plt.ylim([0.0, 1.05])\n",
    "plt.xlabel('False Positive Rate')\n",
    "plt.ylabel('True Positive Rate')\n",
    "plt.title('ROC Curve')\n",
    "plt.legend(loc=\"lower right\")\n",
    "plt.show()"
   ]
  },
  {
   "cell_type": "markdown",
   "metadata": {},
   "source": [
    "### Lets start thinking about feature importance\n",
    "\n",
    "The code below was reformmated from the **Improving Random Forest** site"
   ]
  },
  {
   "cell_type": "code",
   "execution_count": 25,
   "metadata": {
    "ExecuteTime": {
     "end_time": "2019-12-04T20:09:17.601306Z",
     "start_time": "2019-12-04T20:09:17.572872Z"
    }
   },
   "outputs": [
    {
     "name": "stdout",
     "output_type": "stream",
     "text": [
      "Variable: TotalGPA             Importance: 0.26\n",
      "Variable: SATTotal             Importance: 0.26\n",
      "Variable: HSGPA                Importance: 0.21\n",
      "Variable: FCIPre               Importance: 0.18\n",
      "Variable: Ethnicity            Importance: 0.04\n",
      "Variable: Gender               Importance: 0.02\n",
      "Variable: Pell                 Importance: 0.02\n",
      "Variable: URM                  Importance: 0.02\n",
      "Variable: FirstGen             Importance: 0.0\n"
     ]
    },
    {
     "data": {
      "text/plain": [
       "[None, None, None, None, None, None, None, None, None]"
      ]
     },
     "execution_count": 25,
     "metadata": {},
     "output_type": "execute_result"
    }
   ],
   "source": [
    "# Get numerical feature importances\n",
    "\n",
    "importances = list(regressor.feature_importances_)\n",
    "\n",
    "# List of tuples with variable and importance\n",
    "\n",
    "feature_importances = [(feature, round(importance, 2)) for feature, importance in zip(featuresUse, importances)]\n",
    "\n",
    "# Sort the feature importances by most important first\n",
    "\n",
    "feature_importances = sorted(feature_importances, key = lambda x: x[1], reverse = True)\n",
    "\n",
    "# Print out the feature and importances \n",
    "\n",
    "[print('Variable: {:20} Importance: {}'.format(*pair)) for pair in feature_importances]"
   ]
  },
  {
   "cell_type": "markdown",
   "metadata": {},
   "source": [
    "### Feature selection\n",
    "\n",
    "**Lets take a second to talk about the results from above**\n",
    "\n",
    "For most classification/regression models we ideally want features whose sum importance is around 80-95 ideally. For this last model we worked with we had a dataset that had only 492 values. \n",
    "\n",
    "Lets think about feature selection. The most important features for our model are\n",
    "\n",
    "- SAT Total - 0.26\n",
    "- Total GPA - 0.26\n",
    "- HS GPA - 0.21\n",
    "- FCI Pre - 0.18\n",
    "\n",
    "Random Forests dont really care much for missing values, even though I filtered them out. Why don't we recreate the model, but instead of dropping missing values we instead aggregrate and fill the missing values with the median for the column\n"
   ]
  },
  {
   "cell_type": "markdown",
   "metadata": {},
   "source": [
    "## Let's Run It Again\n",
    "\n",
    "Our current model has around under 500 data points.\n",
    "\n",
    "What if we worked with a model that had more datapoints? The dataset we had before was already cleaned. The reason why we took away datapoints was because we had missing datapoints for\n",
    "\n",
    "- FCI Pre\n",
    "- SAT Scores (Total, Math, Verbal)\n",
    "- High School GPA\n",
    "- Total GPA\n",
    "\n",
    "We could add more rows in the data by filling in the missing values in the columns with the **median** value for that column. Lets see if this would improve our model.\n",
    "\n",
    "\n",
    "### Importing our new dataset"
   ]
  },
  {
   "cell_type": "code",
   "execution_count": 26,
   "metadata": {
    "ExecuteTime": {
     "end_time": "2019-12-04T20:09:47.893544Z",
     "start_time": "2019-12-04T20:09:47.771934Z"
    }
   },
   "outputs": [
    {
     "name": "stdout",
     "output_type": "stream",
     "text": [
      "Index(['Bronco ID', 'Sex', 'Admit Type', 'IPEDS Ethnic Group', 'URM Status',\n",
      "       'First Generation Status', 'Native Freshman Cohort Year',\n",
      "       'Current College', 'Current Major', 'Current Subplan', 'STEM Status',\n",
      "       'Pell Status', 'HS GPA', 'Total GPA', 'SAT Verbal', 'SAT Math',\n",
      "       'SAT Total', 'ACT English', 'ACT Math', 'ACT Reading', 'ACT Science',\n",
      "       'ACT Composite', 'Total GPA (at start of the Enrolled Term)',\n",
      "       'MAT Catalog #', 'MAT Course Name', 'MAT Instructor',\n",
      "       'MAT Enrollment Term', 'MAT Section', 'MAT Grade', 'MAT Grade (Point)',\n",
      "       'PHY Catalog #', 'PHY Course Name', 'PHY Instructor',\n",
      "       'PHY Enrollment Term', 'PHY Section', 'PHY Grade', 'FCI Pre',\n",
      "       'FCI Post'],\n",
      "      dtype='object')\n",
      "1255\n",
      "<class 'pandas.core.frame.DataFrame'>\n",
      "RangeIndex: 1255 entries, 0 to 1254\n",
      "Data columns (total 38 columns):\n",
      "Bronco ID                                    1255 non-null int64\n",
      "Sex                                          1255 non-null object\n",
      "Admit Type                                   1255 non-null object\n",
      "IPEDS Ethnic Group                           1255 non-null object\n",
      "URM Status                                   1255 non-null object\n",
      "First Generation Status                      1255 non-null object\n",
      "Native Freshman Cohort Year                  1255 non-null object\n",
      "Current College                              1255 non-null object\n",
      "Current Major                                1255 non-null object\n",
      "Current Subplan                              357 non-null object\n",
      "STEM Status                                  1255 non-null object\n",
      "Pell Status                                  1255 non-null object\n",
      "HS GPA                                       1255 non-null float64\n",
      "Total GPA                                    1255 non-null float64\n",
      "SAT Verbal                                   1255 non-null int64\n",
      "SAT Math                                     1255 non-null int64\n",
      "SAT Total                                    1255 non-null int64\n",
      "ACT English                                  1255 non-null int64\n",
      "ACT Math                                     1255 non-null int64\n",
      "ACT Reading                                  1255 non-null int64\n",
      "ACT Science                                  1255 non-null int64\n",
      "ACT Composite                                1255 non-null int64\n",
      "Total GPA (at start of the Enrolled Term)    1255 non-null float64\n",
      "MAT Catalog #                                574 non-null float64\n",
      "MAT Course Name                              575 non-null object\n",
      "MAT Instructor                               575 non-null object\n",
      "MAT Enrollment Term                          575 non-null object\n",
      "MAT Section                                  575 non-null object\n",
      "MAT Grade                                    575 non-null object\n",
      "MAT Grade (Point)                            572 non-null float64\n",
      "PHY Catalog #                                1255 non-null int64\n",
      "PHY Course Name                              1255 non-null object\n",
      "PHY Instructor                               1255 non-null object\n",
      "PHY Enrollment Term                          1255 non-null object\n",
      "PHY Section                                  1255 non-null object\n",
      "PHY Grade                                    1255 non-null object\n",
      "FCI Pre                                      700 non-null float64\n",
      "FCI Post                                     700 non-null float64\n",
      "dtypes: float64(7), int64(10), object(21)\n",
      "memory usage: 372.7+ KB\n",
      "None\n"
     ]
    },
    {
     "data": {
      "text/html": [
       "<div>\n",
       "<style scoped>\n",
       "    .dataframe tbody tr th:only-of-type {\n",
       "        vertical-align: middle;\n",
       "    }\n",
       "\n",
       "    .dataframe tbody tr th {\n",
       "        vertical-align: top;\n",
       "    }\n",
       "\n",
       "    .dataframe thead th {\n",
       "        text-align: right;\n",
       "    }\n",
       "</style>\n",
       "<table border=\"1\" class=\"dataframe\">\n",
       "  <thead>\n",
       "    <tr style=\"text-align: right;\">\n",
       "      <th></th>\n",
       "      <th>Bronco ID</th>\n",
       "      <th>Sex</th>\n",
       "      <th>Admit Type</th>\n",
       "      <th>IPEDS Ethnic Group</th>\n",
       "      <th>URM Status</th>\n",
       "      <th>First Generation Status</th>\n",
       "      <th>Native Freshman Cohort Year</th>\n",
       "      <th>Current College</th>\n",
       "      <th>Current Major</th>\n",
       "      <th>Current Subplan</th>\n",
       "      <th>...</th>\n",
       "      <th>MAT Grade</th>\n",
       "      <th>MAT Grade (Point)</th>\n",
       "      <th>PHY Catalog #</th>\n",
       "      <th>PHY Course Name</th>\n",
       "      <th>PHY Instructor</th>\n",
       "      <th>PHY Enrollment Term</th>\n",
       "      <th>PHY Section</th>\n",
       "      <th>PHY Grade</th>\n",
       "      <th>FCI Pre</th>\n",
       "      <th>FCI Post</th>\n",
       "    </tr>\n",
       "  </thead>\n",
       "  <tbody>\n",
       "    <tr>\n",
       "      <td>0</td>\n",
       "      <td>7892066</td>\n",
       "      <td>M</td>\n",
       "      <td>Upper Division Transfer</td>\n",
       "      <td>Hispanic/Latino (any race)</td>\n",
       "      <td>Y</td>\n",
       "      <td>First College</td>\n",
       "      <td>2087</td>\n",
       "      <td>Environmental Design</td>\n",
       "      <td>Landscape Architecture</td>\n",
       "      <td>NaN</td>\n",
       "      <td>...</td>\n",
       "      <td>C+</td>\n",
       "      <td>0.7</td>\n",
       "      <td>131</td>\n",
       "      <td>General Physics</td>\n",
       "      <td>Povich,Matthew S</td>\n",
       "      <td>F 2017</td>\n",
       "      <td>07</td>\n",
       "      <td>D</td>\n",
       "      <td>NaN</td>\n",
       "      <td>NaN</td>\n",
       "    </tr>\n",
       "    <tr>\n",
       "      <td>1</td>\n",
       "      <td>8608587</td>\n",
       "      <td>M</td>\n",
       "      <td>Upper Division Transfer</td>\n",
       "      <td>Hispanic/Latino (any race)</td>\n",
       "      <td>Y</td>\n",
       "      <td>First Degree</td>\n",
       "      <td></td>\n",
       "      <td>Science</td>\n",
       "      <td>Chemistry</td>\n",
       "      <td>Industrial Chemistry Opt DNU</td>\n",
       "      <td>...</td>\n",
       "      <td>NaN</td>\n",
       "      <td>NaN</td>\n",
       "      <td>131</td>\n",
       "      <td>General Physics</td>\n",
       "      <td>Povich,Matthew S</td>\n",
       "      <td>F 2017</td>\n",
       "      <td>07</td>\n",
       "      <td>F</td>\n",
       "      <td>NaN</td>\n",
       "      <td>NaN</td>\n",
       "    </tr>\n",
       "    <tr>\n",
       "      <td>2</td>\n",
       "      <td>8652033</td>\n",
       "      <td>F</td>\n",
       "      <td>Upper Division Transfer</td>\n",
       "      <td>Asian Only</td>\n",
       "      <td>N</td>\n",
       "      <td>Not First Gen</td>\n",
       "      <td></td>\n",
       "      <td>Science</td>\n",
       "      <td>Mathematics</td>\n",
       "      <td>Sec Teach Prep/Pure Option</td>\n",
       "      <td>...</td>\n",
       "      <td>B-</td>\n",
       "      <td>2.7</td>\n",
       "      <td>131</td>\n",
       "      <td>General Physics</td>\n",
       "      <td>Povich,Matthew S</td>\n",
       "      <td>F 2017</td>\n",
       "      <td>07</td>\n",
       "      <td>C</td>\n",
       "      <td>NaN</td>\n",
       "      <td>NaN</td>\n",
       "    </tr>\n",
       "    <tr>\n",
       "      <td>3</td>\n",
       "      <td>9252919</td>\n",
       "      <td>F</td>\n",
       "      <td>Upper Division Transfer</td>\n",
       "      <td>Hispanic/Latino (any race)</td>\n",
       "      <td>Y</td>\n",
       "      <td>No Response</td>\n",
       "      <td></td>\n",
       "      <td>Science</td>\n",
       "      <td>Biology</td>\n",
       "      <td>Microbiology DNU</td>\n",
       "      <td>...</td>\n",
       "      <td>NaN</td>\n",
       "      <td>NaN</td>\n",
       "      <td>131</td>\n",
       "      <td>General Physics</td>\n",
       "      <td>Povich,Matthew S</td>\n",
       "      <td>F 2017</td>\n",
       "      <td>07</td>\n",
       "      <td>D</td>\n",
       "      <td>6.0</td>\n",
       "      <td>6.0</td>\n",
       "    </tr>\n",
       "    <tr>\n",
       "      <td>4</td>\n",
       "      <td>9796449</td>\n",
       "      <td>M</td>\n",
       "      <td>Upper Division Transfer</td>\n",
       "      <td>Hispanic/Latino (any race)</td>\n",
       "      <td>Y</td>\n",
       "      <td>No Response</td>\n",
       "      <td></td>\n",
       "      <td>Engineering</td>\n",
       "      <td>Construction Engr Tech DNU</td>\n",
       "      <td>NaN</td>\n",
       "      <td>...</td>\n",
       "      <td>NaN</td>\n",
       "      <td>NaN</td>\n",
       "      <td>131</td>\n",
       "      <td>General Physics</td>\n",
       "      <td>Povich,Matthew S</td>\n",
       "      <td>F 2017</td>\n",
       "      <td>07</td>\n",
       "      <td>D</td>\n",
       "      <td>NaN</td>\n",
       "      <td>NaN</td>\n",
       "    </tr>\n",
       "  </tbody>\n",
       "</table>\n",
       "<p>5 rows × 38 columns</p>\n",
       "</div>"
      ],
      "text/plain": [
       "   Bronco ID Sex               Admit Type          IPEDS Ethnic Group  \\\n",
       "0    7892066   M  Upper Division Transfer  Hispanic/Latino (any race)   \n",
       "1    8608587   M  Upper Division Transfer  Hispanic/Latino (any race)   \n",
       "2    8652033   F  Upper Division Transfer                  Asian Only   \n",
       "3    9252919   F  Upper Division Transfer  Hispanic/Latino (any race)   \n",
       "4    9796449   M  Upper Division Transfer  Hispanic/Latino (any race)   \n",
       "\n",
       "  URM Status First Generation Status Native Freshman Cohort Year  \\\n",
       "0          Y           First College                        2087   \n",
       "1          Y            First Degree                               \n",
       "2          N           Not First Gen                               \n",
       "3          Y             No Response                               \n",
       "4          Y             No Response                               \n",
       "\n",
       "        Current College               Current Major  \\\n",
       "0  Environmental Design      Landscape Architecture   \n",
       "1               Science                   Chemistry   \n",
       "2               Science                 Mathematics   \n",
       "3               Science                     Biology   \n",
       "4           Engineering  Construction Engr Tech DNU   \n",
       "\n",
       "                Current Subplan  ... MAT Grade MAT Grade (Point)  \\\n",
       "0                           NaN  ...        C+               0.7   \n",
       "1  Industrial Chemistry Opt DNU  ...       NaN               NaN   \n",
       "2    Sec Teach Prep/Pure Option  ...        B-               2.7   \n",
       "3              Microbiology DNU  ...       NaN               NaN   \n",
       "4                           NaN  ...       NaN               NaN   \n",
       "\n",
       "   PHY Catalog #  PHY Course Name    PHY Instructor  PHY Enrollment Term  \\\n",
       "0            131  General Physics  Povich,Matthew S               F 2017   \n",
       "1            131  General Physics  Povich,Matthew S               F 2017   \n",
       "2            131  General Physics  Povich,Matthew S               F 2017   \n",
       "3            131  General Physics  Povich,Matthew S               F 2017   \n",
       "4            131  General Physics  Povich,Matthew S               F 2017   \n",
       "\n",
       "   PHY Section  PHY Grade  FCI Pre  FCI Post  \n",
       "0           07          D      NaN       NaN  \n",
       "1           07          F      NaN       NaN  \n",
       "2           07          C      NaN       NaN  \n",
       "3           07          D      6.0       6.0  \n",
       "4           07          D      NaN       NaN  \n",
       "\n",
       "[5 rows x 38 columns]"
      ]
     },
     "execution_count": 26,
     "metadata": {},
     "output_type": "execute_result"
    }
   ],
   "source": [
    "# Lets import the main dataset that everything came from\n",
    "\n",
    "datafile = 'Academic YR 2017 (OG).csv'\n",
    "\n",
    "data2 = pd.read_csv(datafile)\n",
    "\n",
    "df2 = data2\n",
    "\n",
    "# lets print out some statistics\n",
    "\n",
    "print(df2.columns)\n",
    "print(df2.shape[0])\n",
    "print(df2.info())\n",
    "df2.head()"
   ]
  },
  {
   "cell_type": "markdown",
   "metadata": {},
   "source": [
    "### Cleaning our dataset and also filling in values\n",
    "\n",
    "\n",
    "As we can see from above, this data still needs to be cleaned a little bit so lets make a list\n",
    "\n",
    "We have to :\n",
    "\n",
    "- calculate the physics gpa scores (because apparently they arent there)\n",
    "- find out how many missing values we have \n",
    "- create the better category we had before"
   ]
  },
  {
   "cell_type": "code",
   "execution_count": 27,
   "metadata": {
    "ExecuteTime": {
     "end_time": "2019-12-04T20:09:52.327621Z",
     "start_time": "2019-12-04T20:09:52.300552Z"
    }
   },
   "outputs": [],
   "source": [
    "# lets drop those two columns and also create a column at the end that will\n",
    "# hold all the values for the physics grades\n",
    "\n",
    "# we will use a dictionary to map values for the column\n",
    "\n",
    "phys_grade = {'A+': 4, 'A': 4, 'A-': 3.7,\n",
    "              'B+': 3.3, 'B': 3, 'B-': 2.7,\n",
    "              'C+': 2.3, 'C': 2, 'C-': 1.7,\n",
    "              'D+': 1.3, 'D': 1, 'D-': .7,\n",
    "              'F': 0\n",
    "              }\n",
    "\n",
    "df2['PHY Point'] = df2['PHY Grade'].map(phys_grade)"
   ]
  },
  {
   "cell_type": "code",
   "execution_count": 28,
   "metadata": {
    "ExecuteTime": {
     "end_time": "2019-12-04T20:09:53.865226Z",
     "start_time": "2019-12-04T20:09:53.846864Z"
    }
   },
   "outputs": [],
   "source": [
    "## lets fill in values that missing (i.e. 0) for FCI Pre, HS GPA and Total GPA\n",
    "\n",
    "\n",
    "df2['FCI Pre'].fillna(df2['FCI Pre'].median(), inplace=True)\n",
    "df2['HS GPA'].replace(0, df2['HS GPA'].median(), inplace = True)\n",
    "df2['Total GPA'].replace(0, df2['Total GPA'].median(), inplace = True)\n",
    "\n",
    "# now lets create the better category we had before\n",
    "\n",
    "df2['Success'] = df2['PHY Point'].apply(lambda x: 1 if x > 1.8 else 0)\n"
   ]
  },
  {
   "cell_type": "markdown",
   "metadata": {},
   "source": [
    "### Lets visualize this dataset"
   ]
  },
  {
   "cell_type": "code",
   "execution_count": 29,
   "metadata": {
    "ExecuteTime": {
     "end_time": "2019-12-04T20:09:59.046032Z",
     "start_time": "2019-12-04T20:09:58.866990Z"
    }
   },
   "outputs": [
    {
     "data": {
      "image/png": "[encoded data removed]",
      "text/plain": [
       "<Figure size 900x600 with 1 Axes>"
      ]
     },
     "metadata": {
      "needs_background": "light"
     },
     "output_type": "display_data"
    }
   ],
   "source": [
    "# lets visualize our results with a bar chart\n",
    "\n",
    "ax = sns.countplot( x = 'Success',data = df2)\n",
    "ax.set_xticklabels(\n",
    "    ['Failing Students','Suceeding Students'], \n",
    "    fontweight = 'light',\n",
    "    fontsize = 'medium'\n",
    ")\n",
    "ax.set_title('Distribution of Students')\n",
    "\n",
    "# Calculate number of obs per group & median to position labels\n",
    "medians = df2['Success'].value_counts()\n",
    "medians = medians/2\n",
    "nobs = df2.groupby([\"Success\"], sort = False).size().values\n",
    "nobs = [str(x) for x in nobs.tolist()]\n",
    "nobs = [\"N:\" + i for i in nobs]\n",
    "\n",
    "# Add it to the plot\n",
    "pos = range(len(nobs))\n",
    "for tick,label in zip(pos,ax.get_xticklabels()):\n",
    "    plt.text(pos[tick], medians[tick], nobs[tick], horizontalalignment='center', size='medium', color='w', weight='semibold')\n"
   ]
  },
  {
   "cell_type": "markdown",
   "metadata": {},
   "source": [
    "### Now we can begin to train our model\n",
    "\n",
    "The steps are as always\n",
    "\n",
    "- Define predictants and target\n",
    "- Split and scale our data\n",
    "- Train our model\n",
    "- **PROFIT**"
   ]
  },
  {
   "cell_type": "code",
   "execution_count": 30,
   "metadata": {
    "ExecuteTime": {
     "end_time": "2019-12-04T20:10:03.994827Z",
     "start_time": "2019-12-04T20:10:03.987819Z"
    }
   },
   "outputs": [],
   "source": [
    "dataUse2 = df2\n",
    "\n",
    "# there are missing values in SATTotal drop those\n",
    "\n",
    "# dataUse = df[df['SATTotal']!= 0]\n",
    "\n",
    "\n",
    "\n",
    "# we already know what features we want to use so lets print them out here\n",
    "\n",
    "featuresUse2 = ['SAT Total', 'Total GPA', 'HS GPA','FCI Pre']\n",
    "target2 = [\"Success\"]\n",
    "\n",
    "X = dataUse2[featuresUse2]\n",
    "y = dataUse2[target2]"
   ]
  },
  {
   "cell_type": "code",
   "execution_count": 31,
   "metadata": {
    "ExecuteTime": {
     "end_time": "2019-12-04T20:10:06.738059Z",
     "start_time": "2019-12-04T20:10:06.469263Z"
    }
   },
   "outputs": [
    {
     "name": "stdout",
     "output_type": "stream",
     "text": [
      "              precision    recall  f1-score   support\n",
      "\n",
      "           0       0.46      0.29      0.35        90\n",
      "           1       0.80      0.89      0.84       287\n",
      "\n",
      "    accuracy                           0.75       377\n",
      "   macro avg       0.63      0.59      0.60       377\n",
      "weighted avg       0.72      0.75      0.73       377\n",
      "\n",
      "Our accuracy score is 0.75\n"
     ]
    },
    {
     "data": {
      "text/html": [
       "<div>\n",
       "<style scoped>\n",
       "    .dataframe tbody tr th:only-of-type {\n",
       "        vertical-align: middle;\n",
       "    }\n",
       "\n",
       "    .dataframe tbody tr th {\n",
       "        vertical-align: top;\n",
       "    }\n",
       "\n",
       "    .dataframe thead th {\n",
       "        text-align: right;\n",
       "    }\n",
       "</style>\n",
       "<table border=\"1\" class=\"dataframe\">\n",
       "  <thead>\n",
       "    <tr style=\"text-align: right;\">\n",
       "      <th></th>\n",
       "      <th>0</th>\n",
       "      <th>1</th>\n",
       "      <th>accuracy</th>\n",
       "      <th>macro avg</th>\n",
       "      <th>weighted avg</th>\n",
       "    </tr>\n",
       "  </thead>\n",
       "  <tbody>\n",
       "    <tr>\n",
       "      <td>precision</td>\n",
       "      <td>0.456140</td>\n",
       "      <td>0.800000</td>\n",
       "      <td>0.748011</td>\n",
       "      <td>0.628070</td>\n",
       "      <td>0.717911</td>\n",
       "    </tr>\n",
       "    <tr>\n",
       "      <td>recall</td>\n",
       "      <td>0.288889</td>\n",
       "      <td>0.891986</td>\n",
       "      <td>0.748011</td>\n",
       "      <td>0.590437</td>\n",
       "      <td>0.748011</td>\n",
       "    </tr>\n",
       "    <tr>\n",
       "      <td>f1-score</td>\n",
       "      <td>0.353741</td>\n",
       "      <td>0.843493</td>\n",
       "      <td>0.748011</td>\n",
       "      <td>0.598617</td>\n",
       "      <td>0.726576</td>\n",
       "    </tr>\n",
       "    <tr>\n",
       "      <td>support</td>\n",
       "      <td>90.000000</td>\n",
       "      <td>287.000000</td>\n",
       "      <td>0.748011</td>\n",
       "      <td>377.000000</td>\n",
       "      <td>377.000000</td>\n",
       "    </tr>\n",
       "  </tbody>\n",
       "</table>\n",
       "</div>"
      ],
      "text/plain": [
       "                   0           1  accuracy   macro avg  weighted avg\n",
       "precision   0.456140    0.800000  0.748011    0.628070      0.717911\n",
       "recall      0.288889    0.891986  0.748011    0.590437      0.748011\n",
       "f1-score    0.353741    0.843493  0.748011    0.598617      0.726576\n",
       "support    90.000000  287.000000  0.748011  377.000000    377.000000"
      ]
     },
     "execution_count": 31,
     "metadata": {},
     "output_type": "execute_result"
    },
    {
     "data": {
      "image/png": "[encoded data removed]",
      "text/plain": [
       "<Figure size 900x600 with 1 Axes>"
      ]
     },
     "metadata": {
      "needs_background": "light"
     },
     "output_type": "display_data"
    }
   ],
   "source": [
    "# Lets split our training data and then scale it\n",
    "\n",
    "X_train, X_test, y_train, y_test = train_test_split(X,y, test_size = 0.3, random_state = 0)\n",
    "\n",
    "from sklearn.preprocessing import StandardScaler\n",
    "\n",
    "sc = StandardScaler()\n",
    "\n",
    "X_train = sc.fit_transform(X_train)\n",
    "X_test = sc.transform(X_test)\n",
    "\n",
    "from sklearn.ensemble import RandomForestClassifier\n",
    "\n",
    "regressor = RandomForestClassifier(n_estimators = 100, max_depth = 5, \n",
    "                                   min_samples_leaf = 2, random_state = 0)\n",
    "regressor.fit(X_train, y_train.values.ravel())\n",
    "y_pred = regressor.predict(X_test)\n",
    "\n",
    "from sklearn.metrics import classification_report, confusion_matrix, accuracy_score\n",
    "\n",
    "cm = confusion_matrix(y_test,y_pred)\n",
    "cr = classification_report(y_test,y_pred)\n",
    "ac = accuracy_score(y_test,y_pred)\n",
    "\n",
    "ax = sns.heatmap(cm, annot = True , cbar = False, fmt = 'g') \n",
    "ax.set_title('Confusion Matrix')\n",
    "plt.ylabel('Actual Value')\n",
    "plt.xlabel('Predicted Value')\n",
    "\n",
    "print(cr)\n",
    "print(\"Our accuracy score is %.2f\" % ac)\n",
    "\n",
    "# for classification report like a DataFrame\n",
    "\n",
    "cr = classification_report(y_test,y_pred, output_dict = True )\n",
    "pd.DataFrame(cr)"
   ]
  },
  {
   "cell_type": "markdown",
   "metadata": {},
   "source": [
    "### Lets try and find better parameters"
   ]
  },
  {
   "cell_type": "code",
   "execution_count": 32,
   "metadata": {
    "ExecuteTime": {
     "end_time": "2019-12-04T20:11:04.154406Z",
     "start_time": "2019-12-04T20:10:16.161357Z"
    }
   },
   "outputs": [
    {
     "data": {
      "text/plain": [
       "{'max_depth': 5, 'min_samples_leaf': 1, 'n_estimators': 300}"
      ]
     },
     "execution_count": 32,
     "metadata": {},
     "output_type": "execute_result"
    }
   ],
   "source": [
    "from sklearn.model_selection import GridSearchCV\n",
    "\n",
    "gridsearch_forest = RandomForestClassifier()\n",
    "\n",
    "params = {\n",
    "    \"n_estimators\": [100, 300, 500],\n",
    "    \"max_depth\": [5,8,15],\n",
    "    \"min_samples_leaf\" : [1, 2, 4]\n",
    "}\n",
    "\n",
    "clf = GridSearchCV(gridsearch_forest, param_grid=params, cv=5 )\n",
    "clf.fit(X,y.values.ravel())\n",
    "\n",
    "clf.best_params_"
   ]
  },
  {
   "cell_type": "code",
   "execution_count": 33,
   "metadata": {
    "ExecuteTime": {
     "end_time": "2019-12-04T20:11:07.552852Z",
     "start_time": "2019-12-04T20:11:07.539770Z"
    }
   },
   "outputs": [
    {
     "data": {
      "text/plain": [
       "0.7266932270916334"
      ]
     },
     "execution_count": 33,
     "metadata": {},
     "output_type": "execute_result"
    }
   ],
   "source": [
    "clf.best_score_"
   ]
  },
  {
   "cell_type": "code",
   "execution_count": 34,
   "metadata": {
    "ExecuteTime": {
     "end_time": "2019-12-04T20:11:18.138559Z",
     "start_time": "2019-12-04T20:11:17.665235Z"
    }
   },
   "outputs": [
    {
     "name": "stdout",
     "output_type": "stream",
     "text": [
      "              precision    recall  f1-score   support\n",
      "\n",
      "           0       0.46      0.28      0.35        90\n",
      "           1       0.80      0.90      0.85       287\n",
      "\n",
      "    accuracy                           0.75       377\n",
      "   macro avg       0.63      0.59      0.60       377\n",
      "weighted avg       0.72      0.75      0.73       377\n",
      "\n",
      "Our accuracy score is 0.75\n"
     ]
    },
    {
     "data": {
      "text/html": [
       "<div>\n",
       "<style scoped>\n",
       "    .dataframe tbody tr th:only-of-type {\n",
       "        vertical-align: middle;\n",
       "    }\n",
       "\n",
       "    .dataframe tbody tr th {\n",
       "        vertical-align: top;\n",
       "    }\n",
       "\n",
       "    .dataframe thead th {\n",
       "        text-align: right;\n",
       "    }\n",
       "</style>\n",
       "<table border=\"1\" class=\"dataframe\">\n",
       "  <thead>\n",
       "    <tr style=\"text-align: right;\">\n",
       "      <th></th>\n",
       "      <th>0</th>\n",
       "      <th>1</th>\n",
       "      <th>accuracy</th>\n",
       "      <th>macro avg</th>\n",
       "      <th>weighted avg</th>\n",
       "    </tr>\n",
       "  </thead>\n",
       "  <tbody>\n",
       "    <tr>\n",
       "      <td>precision</td>\n",
       "      <td>0.462963</td>\n",
       "      <td>0.798762</td>\n",
       "      <td>0.750663</td>\n",
       "      <td>0.630862</td>\n",
       "      <td>0.718597</td>\n",
       "    </tr>\n",
       "    <tr>\n",
       "      <td>recall</td>\n",
       "      <td>0.277778</td>\n",
       "      <td>0.898955</td>\n",
       "      <td>0.750663</td>\n",
       "      <td>0.588366</td>\n",
       "      <td>0.750663</td>\n",
       "    </tr>\n",
       "    <tr>\n",
       "      <td>f1-score</td>\n",
       "      <td>0.347222</td>\n",
       "      <td>0.845902</td>\n",
       "      <td>0.750663</td>\n",
       "      <td>0.596562</td>\n",
       "      <td>0.726854</td>\n",
       "    </tr>\n",
       "    <tr>\n",
       "      <td>support</td>\n",
       "      <td>90.000000</td>\n",
       "      <td>287.000000</td>\n",
       "      <td>0.750663</td>\n",
       "      <td>377.000000</td>\n",
       "      <td>377.000000</td>\n",
       "    </tr>\n",
       "  </tbody>\n",
       "</table>\n",
       "</div>"
      ],
      "text/plain": [
       "                   0           1  accuracy   macro avg  weighted avg\n",
       "precision   0.462963    0.798762  0.750663    0.630862      0.718597\n",
       "recall      0.277778    0.898955  0.750663    0.588366      0.750663\n",
       "f1-score    0.347222    0.845902  0.750663    0.596562      0.726854\n",
       "support    90.000000  287.000000  0.750663  377.000000    377.000000"
      ]
     },
     "execution_count": 34,
     "metadata": {},
     "output_type": "execute_result"
    },
    {
     "data": {
      "image/png": "[encoded data removed]",
      "text/plain": [
       "<Figure size 900x600 with 1 Axes>"
      ]
     },
     "metadata": {
      "needs_background": "light"
     },
     "output_type": "display_data"
    }
   ],
   "source": [
    "# Testing out data with the \"best values\"\n",
    "\n",
    "X_train, X_test, y_train, y_test = train_test_split(X,y, test_size = 0.3, random_state = 0)\n",
    "\n",
    "from sklearn.preprocessing import StandardScaler\n",
    "\n",
    "sc = StandardScaler()\n",
    "\n",
    "X_train = sc.fit_transform(X_train)\n",
    "X_test = sc.transform(X_test)\n",
    "\n",
    "from sklearn.ensemble import RandomForestClassifier\n",
    "\n",
    "regressor = RandomForestClassifier(n_estimators = 300, max_depth = 5, \n",
    "                                   min_samples_leaf = 1, random_state = 0)\n",
    "regressor.fit(X_train, y_train.values.ravel())\n",
    "y_pred = regressor.predict(X_test)\n",
    "\n",
    "from sklearn.metrics import classification_report, confusion_matrix, accuracy_score\n",
    "\n",
    "cm = confusion_matrix(y_test,y_pred)\n",
    "cr = classification_report(y_test,y_pred)\n",
    "ac = accuracy_score(y_test,y_pred)\n",
    "\n",
    "ax = sns.heatmap(cm, annot = True , cbar = False, fmt = 'g') \n",
    "ax.set_title('Confusion Matrix')\n",
    "plt.ylabel('Actual Value')\n",
    "plt.xlabel('Predicted Value')\n",
    "\n",
    "print(cr)\n",
    "print(\"Our accuracy score is %.2f\" % ac)\n",
    "\n",
    "\n",
    "# for classification report like a DataFrame\n",
    "\n",
    "cr = classification_report(y_test,y_pred, output_dict = True )\n",
    "pd.DataFrame(cr)"
   ]
  },
  {
   "cell_type": "markdown",
   "metadata": {
    "ExecuteTime": {
     "end_time": "2019-12-04T07:59:52.457810Z",
     "start_time": "2019-12-04T07:59:52.443352Z"
    }
   },
   "source": [
    "### ROC Curve\n"
   ]
  },
  {
   "cell_type": "code",
   "execution_count": 35,
   "metadata": {
    "ExecuteTime": {
     "end_time": "2019-12-04T20:11:23.905025Z",
     "start_time": "2019-12-04T20:11:23.630142Z"
    }
   },
   "outputs": [
    {
     "data": {
      "image/png": "[encoded data removed]",
      "text/plain": [
       "<Figure size 900x600 with 1 Axes>"
      ]
     },
     "metadata": {
      "needs_background": "light"
     },
     "output_type": "display_data"
    }
   ],
   "source": [
    "from sklearn.metrics import roc_curve, auc\n",
    "\n",
    "lr_predict_probabilities = regressor.predict_proba(X_test)[:,1]\n",
    "\n",
    "lr_fpr, lr_tpr, _ = roc_curve(y_test, lr_predict_probabilities)\n",
    "lr_roc_auc = auc(lr_fpr, lr_tpr)\n",
    "\n",
    "plt.figure()\n",
    "plt.plot(lr_fpr, lr_tpr, color='darkgreen',\n",
    "         lw=2, label='Logistic Regression (area = %0.2f)' % lr_roc_auc)\n",
    "plt.plot([0, 1], [0, 1], color='navy', lw=2, linestyle='--')\n",
    "plt.xlim([0.0, 1.0])\n",
    "plt.ylim([0.0, 1.05])\n",
    "plt.xlabel('False Positive Rate')\n",
    "plt.ylabel('True Positive Rate')\n",
    "plt.title('ROC Curve')\n",
    "plt.legend(loc=\"lower right\")\n",
    "plt.show()"
   ]
  },
  {
   "cell_type": "markdown",
   "metadata": {},
   "source": [
    "# Results\n",
    "\n",
    "In this section we will talk about the three different models we have, any conclusions we can extrapolate and any grounds for future work"
   ]
  },
  {
   "cell_type": "markdown",
   "metadata": {},
   "source": [
    "## Models"
   ]
  },
  {
   "cell_type": "markdown",
   "metadata": {},
   "source": [
    "### Model 1 "
   ]
  },
  {
   "cell_type": "code",
   "execution_count": 39,
   "metadata": {
    "ExecuteTime": {
     "end_time": "2019-12-04T21:00:50.791387Z",
     "start_time": "2019-12-04T21:00:50.718480Z"
    },
    "hide_input": true
   },
   "outputs": [
    {
     "data": {
      "text/html": [
       "<style  type=\"text/css\" >\n",
       "</style><table id=\"T_271884d8_16d9_11ea_a6e6_2816a84e3ece\" ><thead>    <tr>        <th class=\"col_heading level0 col0\" >N</th>        <th class=\"col_heading level0 col1\" >Number Features</th>        <th class=\"col_heading level0 col2\" >Precision</th>        <th class=\"col_heading level0 col3\" >Recall</th>        <th class=\"col_heading level0 col4\" >F1-Score</th>        <th class=\"col_heading level0 col5\" >Accuracy</th>        <th class=\"col_heading level0 col6\" >ROC-Area</th>    </tr></thead><tbody>\n",
       "                <tr>\n",
       "                                <td id=\"T_271884d8_16d9_11ea_a6e6_2816a84e3ecerow0_col0\" class=\"data row0 col0\" >597</td>\n",
       "                        <td id=\"T_271884d8_16d9_11ea_a6e6_2816a84e3ecerow0_col1\" class=\"data row0 col1\" >9</td>\n",
       "                        <td id=\"T_271884d8_16d9_11ea_a6e6_2816a84e3ecerow0_col2\" class=\"data row0 col2\" >83.5%</td>\n",
       "                        <td id=\"T_271884d8_16d9_11ea_a6e6_2816a84e3ecerow0_col3\" class=\"data row0 col3\" >92.3%</td>\n",
       "                        <td id=\"T_271884d8_16d9_11ea_a6e6_2816a84e3ecerow0_col4\" class=\"data row0 col4\" >0.877</td>\n",
       "                        <td id=\"T_271884d8_16d9_11ea_a6e6_2816a84e3ecerow0_col5\" class=\"data row0 col5\" >0.794</td>\n",
       "                        <td id=\"T_271884d8_16d9_11ea_a6e6_2816a84e3ecerow0_col6\" class=\"data row0 col6\" >0.78</td>\n",
       "            </tr>\n",
       "    </tbody></table>"
      ],
      "text/plain": [
       "<pandas.io.formats.style.Styler at 0x22e93d44a08>"
      ]
     },
     "execution_count": 39,
     "metadata": {},
     "output_type": "execute_result"
    }
   ],
   "source": [
    "model_1 = {'N' : ['597'] ,\n",
    "          'Number Features' : ['9'] ,\n",
    "          'Precision' : ['83.5%'],\n",
    "          'Recall' : ['92.3%'],\n",
    "          'F1-Score' : ['0.877'],\n",
    "          'Accuracy' : ['0.794'],\n",
    "          'ROC-Area' : ['0.78']}\n",
    "\n",
    "m1 = pd.DataFrame(model_1, index = None, columns= ['N', 'Number Features','Precision','Recall','F1-Score','Accuracy','ROC-Area'])\n",
    "\n",
    "m1.style.hide_index()"
   ]
  },
  {
   "cell_type": "markdown",
   "metadata": {},
   "source": [
    "### Model 2"
   ]
  },
  {
   "cell_type": "code",
   "execution_count": 41,
   "metadata": {
    "ExecuteTime": {
     "end_time": "2019-12-04T21:13:38.020173Z",
     "start_time": "2019-12-04T21:13:38.004231Z"
    },
    "hide_input": true
   },
   "outputs": [
    {
     "data": {
      "text/html": [
       "<style  type=\"text/css\" >\n",
       "</style><table id=\"T_f066570a_16da_11ea_8c52_2816a84e3ece\" ><thead>    <tr>        <th class=\"col_heading level0 col0\" >N</th>        <th class=\"col_heading level0 col1\" >Number Features</th>        <th class=\"col_heading level0 col2\" >Precision</th>        <th class=\"col_heading level0 col3\" >Recall</th>        <th class=\"col_heading level0 col4\" >F1-Score</th>        <th class=\"col_heading level0 col5\" >Accuracy</th>        <th class=\"col_heading level0 col6\" >ROC-Area</th>    </tr></thead><tbody>\n",
       "                <tr>\n",
       "                                <td id=\"T_f066570a_16da_11ea_8c52_2816a84e3ecerow0_col0\" class=\"data row0 col0\" >423</td>\n",
       "                        <td id=\"T_f066570a_16da_11ea_8c52_2816a84e3ecerow0_col1\" class=\"data row0 col1\" >9</td>\n",
       "                        <td id=\"T_f066570a_16da_11ea_8c52_2816a84e3ecerow0_col2\" class=\"data row0 col2\" >82.2%</td>\n",
       "                        <td id=\"T_f066570a_16da_11ea_8c52_2816a84e3ecerow0_col3\" class=\"data row0 col3\" >96.0%</td>\n",
       "                        <td id=\"T_f066570a_16da_11ea_8c52_2816a84e3ecerow0_col4\" class=\"data row0 col4\" >0.886</td>\n",
       "                        <td id=\"T_f066570a_16da_11ea_8c52_2816a84e3ecerow0_col5\" class=\"data row0 col5\" >0.803</td>\n",
       "                        <td id=\"T_f066570a_16da_11ea_8c52_2816a84e3ecerow0_col6\" class=\"data row0 col6\" >0.74</td>\n",
       "            </tr>\n",
       "    </tbody></table>"
      ],
      "text/plain": [
       "<pandas.io.formats.style.Styler at 0x22e94839748>"
      ]
     },
     "execution_count": 41,
     "metadata": {},
     "output_type": "execute_result"
    }
   ],
   "source": [
    "model_2 = {'N' : ['423'] ,\n",
    "          'Number Features' : ['9'] ,\n",
    "          'Precision' : ['82.2%'],\n",
    "          'Recall' : ['96.0%'],\n",
    "          'F1-Score' : ['0.886'],\n",
    "          'Accuracy' : ['0.803'],\n",
    "          'ROC-Area' : ['0.74']}\n",
    "\n",
    "m2 = pd.DataFrame(model_2, index = None, columns= ['N', 'Number Features','Precision','Recall','F1-Score','Accuracy','ROC-Area'])\n",
    "\n",
    "m2.style.hide_index()"
   ]
  },
  {
   "cell_type": "markdown",
   "metadata": {},
   "source": [
    "### Model 2.5"
   ]
  },
  {
   "cell_type": "code",
   "execution_count": 42,
   "metadata": {
    "ExecuteTime": {
     "end_time": "2019-12-04T21:13:44.501248Z",
     "start_time": "2019-12-04T21:13:44.481389Z"
    },
    "hide_input": true
   },
   "outputs": [
    {
     "data": {
      "text/html": [
       "<style  type=\"text/css\" >\n",
       "</style><table id=\"T_f441284a_16da_11ea_814a_2816a84e3ece\" ><thead>    <tr>        <th class=\"col_heading level0 col0\" >N</th>        <th class=\"col_heading level0 col1\" >Number Features</th>        <th class=\"col_heading level0 col2\" >Precision</th>        <th class=\"col_heading level0 col3\" >Recall</th>        <th class=\"col_heading level0 col4\" >F1-Score</th>        <th class=\"col_heading level0 col5\" >Accuracy</th>        <th class=\"col_heading level0 col6\" >ROC-Area</th>    </tr></thead><tbody>\n",
       "                <tr>\n",
       "                                <td id=\"T_f441284a_16da_11ea_814a_2816a84e3ecerow0_col0\" class=\"data row0 col0\" >423</td>\n",
       "                        <td id=\"T_f441284a_16da_11ea_814a_2816a84e3ecerow0_col1\" class=\"data row0 col1\" >9</td>\n",
       "                        <td id=\"T_f441284a_16da_11ea_814a_2816a84e3ecerow0_col2\" class=\"data row0 col2\" >82.6%</td>\n",
       "                        <td id=\"T_f441284a_16da_11ea_814a_2816a84e3ecerow0_col3\" class=\"data row0 col3\" >99.0%</td>\n",
       "                        <td id=\"T_f441284a_16da_11ea_814a_2816a84e3ecerow0_col4\" class=\"data row0 col4\" >0.900</td>\n",
       "                        <td id=\"T_f441284a_16da_11ea_814a_2816a84e3ecerow0_col5\" class=\"data row0 col5\" >0.83</td>\n",
       "                        <td id=\"T_f441284a_16da_11ea_814a_2816a84e3ecerow0_col6\" class=\"data row0 col6\" >0.77</td>\n",
       "            </tr>\n",
       "    </tbody></table>"
      ],
      "text/plain": [
       "<pandas.io.formats.style.Styler at 0x22e94855448>"
      ]
     },
     "execution_count": 42,
     "metadata": {},
     "output_type": "execute_result"
    }
   ],
   "source": [
    "model_2_5 = {'N' : ['423'] ,\n",
    "          'Number Features' : ['9'] ,\n",
    "          'Precision' : ['82.6%'],\n",
    "          'Recall' : ['99.0%'],\n",
    "          'F1-Score' : ['0.900'],\n",
    "          'Accuracy' : ['0.83'],\n",
    "          'ROC-Area' : ['0.77']}\n",
    "\n",
    "m2_5 = pd.DataFrame(model_2_5, index = None, columns= ['N', 'Number Features','Precision','Recall','F1-Score','Accuracy','ROC-Area'])\n",
    "\n",
    "m2_5.style.hide_index()"
   ]
  },
  {
   "cell_type": "markdown",
   "metadata": {},
   "source": [
    "#### Feature Selection\n",
    "\n",
    "Here are the feature importances that we calculated from what is considered our **best** model"
   ]
  },
  {
   "cell_type": "code",
   "execution_count": 47,
   "metadata": {
    "ExecuteTime": {
     "end_time": "2019-12-04T21:22:04.920948Z",
     "start_time": "2019-12-04T21:22:04.909979Z"
    },
    "hide_input": true
   },
   "outputs": [
    {
     "data": {
      "text/html": [
       "<div>\n",
       "<style scoped>\n",
       "    .dataframe tbody tr th:only-of-type {\n",
       "        vertical-align: middle;\n",
       "    }\n",
       "\n",
       "    .dataframe tbody tr th {\n",
       "        vertical-align: top;\n",
       "    }\n",
       "\n",
       "    .dataframe thead th {\n",
       "        text-align: right;\n",
       "    }\n",
       "</style>\n",
       "<table border=\"1\" class=\"dataframe\">\n",
       "  <thead>\n",
       "    <tr style=\"text-align: right;\">\n",
       "      <th></th>\n",
       "      <th>SAT Total</th>\n",
       "      <th>Total GPA</th>\n",
       "      <th>HS GPA</th>\n",
       "      <th>FCI Pre</th>\n",
       "    </tr>\n",
       "  </thead>\n",
       "  <tbody>\n",
       "    <tr>\n",
       "      <td>Importance</td>\n",
       "      <td>0.26</td>\n",
       "      <td>0.26</td>\n",
       "      <td>0.21</td>\n",
       "      <td>0.18</td>\n",
       "    </tr>\n",
       "  </tbody>\n",
       "</table>\n",
       "</div>"
      ],
      "text/plain": [
       "            SAT Total  Total GPA  HS GPA  FCI Pre\n",
       "Importance       0.26       0.26    0.21     0.18"
      ]
     },
     "execution_count": 47,
     "metadata": {},
     "output_type": "execute_result"
    }
   ],
   "source": [
    "importance_dict = {'SAT Total': 0.26,\n",
    "                   'Total GPA': 0.26,\n",
    "                   'HS GPA': 0.21,\n",
    "                   'FCI Pre': 0.18}\n",
    "\n",
    "feature_import = pd.DataFrame(importance_dict, index = ['Importance'], columns= ['SAT Total', 'Total GPA','HS GPA','FCI Pre'])\n",
    "\n",
    "feature_import"
   ]
  },
  {
   "cell_type": "markdown",
   "metadata": {},
   "source": [
    "### Model 3"
   ]
  },
  {
   "cell_type": "code",
   "execution_count": 44,
   "metadata": {
    "ExecuteTime": {
     "end_time": "2019-12-04T21:17:56.091872Z",
     "start_time": "2019-12-04T21:17:56.081874Z"
    },
    "hide_input": true
   },
   "outputs": [
    {
     "data": {
      "text/html": [
       "<style  type=\"text/css\" >\n",
       "</style><table id=\"T_8a3941f8_16db_11ea_afd5_2816a84e3ece\" ><thead>    <tr>        <th class=\"col_heading level0 col0\" >N</th>        <th class=\"col_heading level0 col1\" >Number Features</th>        <th class=\"col_heading level0 col2\" >Precision</th>        <th class=\"col_heading level0 col3\" >Recall</th>        <th class=\"col_heading level0 col4\" >F1-Score</th>        <th class=\"col_heading level0 col5\" >Accuracy</th>        <th class=\"col_heading level0 col6\" >ROC-Area</th>    </tr></thead><tbody>\n",
       "                <tr>\n",
       "                                <td id=\"T_8a3941f8_16db_11ea_afd5_2816a84e3ecerow0_col0\" class=\"data row0 col0\" >1255</td>\n",
       "                        <td id=\"T_8a3941f8_16db_11ea_afd5_2816a84e3ecerow0_col1\" class=\"data row0 col1\" >4</td>\n",
       "                        <td id=\"T_8a3941f8_16db_11ea_afd5_2816a84e3ecerow0_col2\" class=\"data row0 col2\" >79.88%</td>\n",
       "                        <td id=\"T_8a3941f8_16db_11ea_afd5_2816a84e3ecerow0_col3\" class=\"data row0 col3\" >89.90%</td>\n",
       "                        <td id=\"T_8a3941f8_16db_11ea_afd5_2816a84e3ecerow0_col4\" class=\"data row0 col4\" >0.846</td>\n",
       "                        <td id=\"T_8a3941f8_16db_11ea_afd5_2816a84e3ecerow0_col5\" class=\"data row0 col5\" >0.75</td>\n",
       "                        <td id=\"T_8a3941f8_16db_11ea_afd5_2816a84e3ecerow0_col6\" class=\"data row0 col6\" >0.76</td>\n",
       "            </tr>\n",
       "    </tbody></table>"
      ],
      "text/plain": [
       "<pandas.io.formats.style.Styler at 0x22e948490c8>"
      ]
     },
     "execution_count": 44,
     "metadata": {},
     "output_type": "execute_result"
    }
   ],
   "source": [
    "model_3 = {'N' : ['1255'] ,\n",
    "          'Number Features' : ['4'] ,\n",
    "          'Precision' : ['79.88%'],\n",
    "          'Recall' : ['89.90%'],\n",
    "          'F1-Score' : ['0.846'],\n",
    "          'Accuracy' : ['0.75'],\n",
    "          'ROC-Area' : ['0.76']}\n",
    "\n",
    "m3 = pd.DataFrame(model_3, index = None, columns= ['N', 'Number Features','Precision','Recall','F1-Score','Accuracy','ROC-Area'])\n",
    "\n",
    "m3.style.hide_index()"
   ]
  }
 ],
 "metadata": {
  "kernelspec": {
   "display_name": "Python 3",
   "language": "python",
   "name": "python3"
  },
  "language_info": {
   "codemirror_mode": {
    "name": "ipython",
    "version": 3
   },
   "file_extension": ".py",
   "mimetype": "text/x-python",
   "name": "python",
   "nbconvert_exporter": "python",
   "pygments_lexer": "ipython3",
   "version": "3.7.4"
  },
  "toc": {
   "base_numbering": 1,
   "nav_menu": {},
   "number_sections": true,
   "sideBar": true,
   "skip_h1_title": false,
   "title_cell": "Table of Contents",
   "title_sidebar": "Contents",
   "toc_cell": true,
   "toc_position": {
    "height": "calc(100% - 180px)",
    "left": "10px",
    "top": "150px",
    "width": "273.6px"
   },
   "toc_section_display": true,
   "toc_window_display": false
  },
  "varInspector": {
   "cols": {
    "lenName": 16,
    "lenType": 16,
    "lenVar": 40
   },
   "kernels_config": {
    "python": {
     "delete_cmd_postfix": "",
     "delete_cmd_prefix": "del ",
     "library": "var_list.py",
     "varRefreshCmd": "print(var_dic_list())"
    },
    "r": {
     "delete_cmd_postfix": ") ",
     "delete_cmd_prefix": "rm(",
     "library": "var_list.r",
     "varRefreshCmd": "cat(var_dic_list()) "
    }
   },
   "types_to_exclude": [
    "module",
    "function",
    "builtin_function_or_method",
    "instance",
    "_Feature"
   ],
   "window_display": false
  }
 },
 "nbformat": 4,
 "nbformat_minor": 2
}
