{
 "cells": [
  {
   "cell_type": "markdown",
   "metadata": {
    "toc": true
   },
   "source": [
    "<h1>Table of Contents<span class=\"tocSkip\"></span></h1>\n",
    "<div class=\"toc\"><ul class=\"toc-item\"><li><span><a href=\"#Introduction\" data-toc-modified-id=\"Introduction-1\"><span class=\"toc-item-num\">1&nbsp;&nbsp;</span>Introduction</a></span><ul class=\"toc-item\"><li><span><a href=\"#The-Data\" data-toc-modified-id=\"The-Data-1.1\"><span class=\"toc-item-num\">1.1&nbsp;&nbsp;</span>The Data</a></span><ul class=\"toc-item\"><li><span><a href=\"#Imports\" data-toc-modified-id=\"Imports-1.1.1\"><span class=\"toc-item-num\">1.1.1&nbsp;&nbsp;</span>Imports</a></span></li></ul></li></ul></li><li><span><a href=\"#Analysis/Modeling\" data-toc-modified-id=\"Analysis/Modeling-2\"><span class=\"toc-item-num\">2&nbsp;&nbsp;</span>Analysis/Modeling</a></span><ul class=\"toc-item\"><li><span><a href=\"#Exploring-Prices.csv\" data-toc-modified-id=\"Exploring-Prices.csv-2.1\"><span class=\"toc-item-num\">2.1&nbsp;&nbsp;</span>Exploring Prices.csv</a></span></li><li><span><a href=\"#Creating-our-Single-Variate-LSTM-Model\" data-toc-modified-id=\"Creating-our-Single-Variate-LSTM-Model-2.2\"><span class=\"toc-item-num\">2.2&nbsp;&nbsp;</span>Creating our Single Variate LSTM Model</a></span><ul class=\"toc-item\"><li><span><a href=\"#Data-Preprocessing\" data-toc-modified-id=\"Data-Preprocessing-2.2.1\"><span class=\"toc-item-num\">2.2.1&nbsp;&nbsp;</span>Data Preprocessing</a></span></li><li><span><a href=\"#Creating-the-Model\" data-toc-modified-id=\"Creating-the-Model-2.2.2\"><span class=\"toc-item-num\">2.2.2&nbsp;&nbsp;</span>Creating the Model</a></span></li><li><span><a href=\"#Results-for-Single-Variate\" data-toc-modified-id=\"Results-for-Single-Variate-2.2.3\"><span class=\"toc-item-num\">2.2.3&nbsp;&nbsp;</span>Results for Single Variate</a></span></li></ul></li><li><span><a href=\"#A-more-complex-model\" data-toc-modified-id=\"A-more-complex-model-2.3\"><span class=\"toc-item-num\">2.3&nbsp;&nbsp;</span>A more complex model</a></span></li></ul></li><li><span><a href=\"#Conclusions\" data-toc-modified-id=\"Conclusions-3\"><span class=\"toc-item-num\">3&nbsp;&nbsp;</span>Conclusions</a></span></li></ul></div>"
   ]
  },
  {
   "cell_type": "markdown",
   "metadata": {},
   "source": [
    "# Introduction\n",
    "\n",
    "The purpose of this notebook is to the explore the [New York Stock Exchange](https://www.kaggle.com/dgawlik/nyse/data#) presented on Kaggle. We will use this Notebook to apply LSTMs for closing stock price predictions.\n",
    "\n",
    "## The Data\n",
    "\n",
    "As explained in the introduction, the data is the [New York Stock Exchange](https://www.kaggle.com/dgawlik/nyse/data#) dataset presented on Kaggle. Characteristics of the data are below\n",
    "\n",
    "- 4 CSV Files: prices.csv, prices-split-adjusted.csv, securities.csv, fundamentals.csv\n",
    "- Sources: Yahoo Finance, NASDAQ Financials, EDGAR SEC\n",
    "\n",
    "**prices.csv:** raw, as-is daily prices. Data spans from 2010 to the end of 2016. New companies have a stock market date range that is shorter. There are approximately 140 stock splits in that time.\n",
    "\n",
    "**prices-split-adjust.csv:** Same as prices, but added adjustments for splits\n",
    "\n",
    "**securities.csv**: general description of each company with division on sectors\n",
    "\n",
    "**fundamentals.csv** metrics extracted from annual SEC 10K fillings (2012-2016), should be enough to derive most of fundamental indicators. \n"
   ]
  },
  {
   "cell_type": "markdown",
   "metadata": {},
   "source": [
    "### Imports\n",
    "\n",
    "Import libraries and write settings here."
   ]
  },
  {
   "cell_type": "code",
   "execution_count": 1,
   "metadata": {
    "ExecuteTime": {
     "end_time": "2020-04-08T00:27:27.883980Z",
     "start_time": "2020-04-08T00:27:23.611650Z"
    }
   },
   "outputs": [],
   "source": [
    "# Data manipulation\n",
    "\n",
    "import numpy as np\n",
    "import pandas as pd\n",
    "\n",
    "# Data Visualization\n",
    "import matplotlib.pyplot as plt\n",
    "import seaborn as sns\n",
    "%matplotlib inline\n",
    "\n",
    "import mplfinance as mpf\n",
    "\n",
    "# Preprocessing\n",
    "from sklearn.preprocessing import MinMaxScaler\n",
    "\n",
    "# Tensorflow \n",
    "from tensorflow.keras.models import Sequential\n",
    "from tensorflow.keras.layers import Dense, LSTM\n",
    "from tensorflow.keras.preprocessing.sequence import TimeseriesGenerator\n",
    "from tensorflow.keras.callbacks import EarlyStopping"
   ]
  },
  {
   "cell_type": "markdown",
   "metadata": {},
   "source": [
    "# Analysis/Modeling\n",
    "\n",
    "## Exploring Prices.csv\n",
    "\n",
    "We will begin by exploring the **prices.csv** table. Since we are trying to build simple LSTM models we only need previous closing prices to create predictions. But to get an idea of what we are working with, lets explore the data. A better in-depth exploration notebook can be found inside the repository.\n"
   ]
  },
  {
   "cell_type": "code",
   "execution_count": 2,
   "metadata": {
    "ExecuteTime": {
     "end_time": "2020-04-08T00:27:28.535944Z",
     "start_time": "2020-04-08T00:27:27.885653Z"
    }
   },
   "outputs": [],
   "source": [
    "prices = pd.read_csv('data/prices.csv')"
   ]
  },
  {
   "cell_type": "code",
   "execution_count": 3,
   "metadata": {
    "ExecuteTime": {
     "end_time": "2020-04-08T00:27:28.635152Z",
     "start_time": "2020-04-08T00:27:28.537901Z"
    }
   },
   "outputs": [
    {
     "name": "stdout",
     "output_type": "stream",
     "text": [
      "<class 'pandas.core.frame.DataFrame'>\n",
      "RangeIndex: 851264 entries, 0 to 851263\n",
      "Data columns (total 7 columns):\n",
      " #   Column  Non-Null Count   Dtype  \n",
      "---  ------  --------------   -----  \n",
      " 0   date    851264 non-null  object \n",
      " 1   symbol  851264 non-null  object \n",
      " 2   open    851264 non-null  float64\n",
      " 3   close   851264 non-null  float64\n",
      " 4   low     851264 non-null  float64\n",
      " 5   high    851264 non-null  float64\n",
      " 6   volume  851264 non-null  float64\n",
      "dtypes: float64(5), object(2)\n",
      "memory usage: 45.5+ MB\n"
     ]
    }
   ],
   "source": [
    "# Grab basic information of our table\n",
    "prices.info()"
   ]
  },
  {
   "cell_type": "code",
   "execution_count": 4,
   "metadata": {
    "ExecuteTime": {
     "end_time": "2020-04-08T00:27:28.652107Z",
     "start_time": "2020-04-08T00:27:28.636149Z"
    }
   },
   "outputs": [
    {
     "data": {
      "text/html": [
       "<div>\n",
       "<style scoped>\n",
       "    .dataframe tbody tr th:only-of-type {\n",
       "        vertical-align: middle;\n",
       "    }\n",
       "\n",
       "    .dataframe tbody tr th {\n",
       "        vertical-align: top;\n",
       "    }\n",
       "\n",
       "    .dataframe thead th {\n",
       "        text-align: right;\n",
       "    }\n",
       "</style>\n",
       "<table border=\"1\" class=\"dataframe\">\n",
       "  <thead>\n",
       "    <tr style=\"text-align: right;\">\n",
       "      <th></th>\n",
       "      <th>date</th>\n",
       "      <th>symbol</th>\n",
       "      <th>open</th>\n",
       "      <th>close</th>\n",
       "      <th>low</th>\n",
       "      <th>high</th>\n",
       "      <th>volume</th>\n",
       "    </tr>\n",
       "  </thead>\n",
       "  <tbody>\n",
       "    <tr>\n",
       "      <th>0</th>\n",
       "      <td>2016-01-05 00:00:00</td>\n",
       "      <td>WLTW</td>\n",
       "      <td>123.430000</td>\n",
       "      <td>125.839996</td>\n",
       "      <td>122.309998</td>\n",
       "      <td>126.250000</td>\n",
       "      <td>2163600.0</td>\n",
       "    </tr>\n",
       "    <tr>\n",
       "      <th>1</th>\n",
       "      <td>2016-01-06 00:00:00</td>\n",
       "      <td>WLTW</td>\n",
       "      <td>125.239998</td>\n",
       "      <td>119.980003</td>\n",
       "      <td>119.940002</td>\n",
       "      <td>125.540001</td>\n",
       "      <td>2386400.0</td>\n",
       "    </tr>\n",
       "    <tr>\n",
       "      <th>2</th>\n",
       "      <td>2016-01-07 00:00:00</td>\n",
       "      <td>WLTW</td>\n",
       "      <td>116.379997</td>\n",
       "      <td>114.949997</td>\n",
       "      <td>114.930000</td>\n",
       "      <td>119.739998</td>\n",
       "      <td>2489500.0</td>\n",
       "    </tr>\n",
       "    <tr>\n",
       "      <th>3</th>\n",
       "      <td>2016-01-08 00:00:00</td>\n",
       "      <td>WLTW</td>\n",
       "      <td>115.480003</td>\n",
       "      <td>116.620003</td>\n",
       "      <td>113.500000</td>\n",
       "      <td>117.440002</td>\n",
       "      <td>2006300.0</td>\n",
       "    </tr>\n",
       "    <tr>\n",
       "      <th>4</th>\n",
       "      <td>2016-01-11 00:00:00</td>\n",
       "      <td>WLTW</td>\n",
       "      <td>117.010002</td>\n",
       "      <td>114.970001</td>\n",
       "      <td>114.089996</td>\n",
       "      <td>117.330002</td>\n",
       "      <td>1408600.0</td>\n",
       "    </tr>\n",
       "  </tbody>\n",
       "</table>\n",
       "</div>"
      ],
      "text/plain": [
       "                  date symbol        open       close         low        high  \\\n",
       "0  2016-01-05 00:00:00   WLTW  123.430000  125.839996  122.309998  126.250000   \n",
       "1  2016-01-06 00:00:00   WLTW  125.239998  119.980003  119.940002  125.540001   \n",
       "2  2016-01-07 00:00:00   WLTW  116.379997  114.949997  114.930000  119.739998   \n",
       "3  2016-01-08 00:00:00   WLTW  115.480003  116.620003  113.500000  117.440002   \n",
       "4  2016-01-11 00:00:00   WLTW  117.010002  114.970001  114.089996  117.330002   \n",
       "\n",
       "      volume  \n",
       "0  2163600.0  \n",
       "1  2386400.0  \n",
       "2  2489500.0  \n",
       "3  2006300.0  \n",
       "4  1408600.0  "
      ]
     },
     "execution_count": 4,
     "metadata": {},
     "output_type": "execute_result"
    }
   ],
   "source": [
    "# Grab the first five values\n",
    "prices.head()"
   ]
  },
  {
   "cell_type": "code",
   "execution_count": 5,
   "metadata": {
    "ExecuteTime": {
     "end_time": "2020-04-08T00:27:29.073071Z",
     "start_time": "2020-04-08T00:27:28.654103Z"
    }
   },
   "outputs": [
    {
     "data": {
      "text/html": [
       "<div>\n",
       "<style scoped>\n",
       "    .dataframe tbody tr th:only-of-type {\n",
       "        vertical-align: middle;\n",
       "    }\n",
       "\n",
       "    .dataframe tbody tr th {\n",
       "        vertical-align: top;\n",
       "    }\n",
       "\n",
       "    .dataframe thead th {\n",
       "        text-align: right;\n",
       "    }\n",
       "</style>\n",
       "<table border=\"1\" class=\"dataframe\">\n",
       "  <thead>\n",
       "    <tr style=\"text-align: right;\">\n",
       "      <th></th>\n",
       "      <th>date</th>\n",
       "      <th>symbol</th>\n",
       "      <th>open</th>\n",
       "      <th>close</th>\n",
       "      <th>low</th>\n",
       "      <th>high</th>\n",
       "      <th>volume</th>\n",
       "    </tr>\n",
       "  </thead>\n",
       "  <tbody>\n",
       "    <tr>\n",
       "      <th>0</th>\n",
       "      <td>2016-01-05</td>\n",
       "      <td>WLTW</td>\n",
       "      <td>123.430000</td>\n",
       "      <td>125.839996</td>\n",
       "      <td>122.309998</td>\n",
       "      <td>126.250000</td>\n",
       "      <td>2163600.0</td>\n",
       "    </tr>\n",
       "    <tr>\n",
       "      <th>1</th>\n",
       "      <td>2016-01-06</td>\n",
       "      <td>WLTW</td>\n",
       "      <td>125.239998</td>\n",
       "      <td>119.980003</td>\n",
       "      <td>119.940002</td>\n",
       "      <td>125.540001</td>\n",
       "      <td>2386400.0</td>\n",
       "    </tr>\n",
       "    <tr>\n",
       "      <th>2</th>\n",
       "      <td>2016-01-07</td>\n",
       "      <td>WLTW</td>\n",
       "      <td>116.379997</td>\n",
       "      <td>114.949997</td>\n",
       "      <td>114.930000</td>\n",
       "      <td>119.739998</td>\n",
       "      <td>2489500.0</td>\n",
       "    </tr>\n",
       "    <tr>\n",
       "      <th>3</th>\n",
       "      <td>2016-01-08</td>\n",
       "      <td>WLTW</td>\n",
       "      <td>115.480003</td>\n",
       "      <td>116.620003</td>\n",
       "      <td>113.500000</td>\n",
       "      <td>117.440002</td>\n",
       "      <td>2006300.0</td>\n",
       "    </tr>\n",
       "    <tr>\n",
       "      <th>4</th>\n",
       "      <td>2016-01-11</td>\n",
       "      <td>WLTW</td>\n",
       "      <td>117.010002</td>\n",
       "      <td>114.970001</td>\n",
       "      <td>114.089996</td>\n",
       "      <td>117.330002</td>\n",
       "      <td>1408600.0</td>\n",
       "    </tr>\n",
       "    <tr>\n",
       "      <th>...</th>\n",
       "      <td>...</td>\n",
       "      <td>...</td>\n",
       "      <td>...</td>\n",
       "      <td>...</td>\n",
       "      <td>...</td>\n",
       "      <td>...</td>\n",
       "      <td>...</td>\n",
       "    </tr>\n",
       "    <tr>\n",
       "      <th>851259</th>\n",
       "      <td>2016-12-30</td>\n",
       "      <td>ZBH</td>\n",
       "      <td>103.309998</td>\n",
       "      <td>103.199997</td>\n",
       "      <td>102.849998</td>\n",
       "      <td>103.930000</td>\n",
       "      <td>973800.0</td>\n",
       "    </tr>\n",
       "    <tr>\n",
       "      <th>851260</th>\n",
       "      <td>2016-12-30</td>\n",
       "      <td>ZION</td>\n",
       "      <td>43.070000</td>\n",
       "      <td>43.040001</td>\n",
       "      <td>42.689999</td>\n",
       "      <td>43.310001</td>\n",
       "      <td>1938100.0</td>\n",
       "    </tr>\n",
       "    <tr>\n",
       "      <th>851261</th>\n",
       "      <td>2016-12-30</td>\n",
       "      <td>ZTS</td>\n",
       "      <td>53.639999</td>\n",
       "      <td>53.529999</td>\n",
       "      <td>53.270000</td>\n",
       "      <td>53.740002</td>\n",
       "      <td>1701200.0</td>\n",
       "    </tr>\n",
       "    <tr>\n",
       "      <th>851262</th>\n",
       "      <td>2016-12-30</td>\n",
       "      <td>AIV</td>\n",
       "      <td>44.730000</td>\n",
       "      <td>45.450001</td>\n",
       "      <td>44.410000</td>\n",
       "      <td>45.590000</td>\n",
       "      <td>1380900.0</td>\n",
       "    </tr>\n",
       "    <tr>\n",
       "      <th>851263</th>\n",
       "      <td>2016-12-30</td>\n",
       "      <td>FTV</td>\n",
       "      <td>54.200001</td>\n",
       "      <td>53.630001</td>\n",
       "      <td>53.389999</td>\n",
       "      <td>54.480000</td>\n",
       "      <td>705100.0</td>\n",
       "    </tr>\n",
       "  </tbody>\n",
       "</table>\n",
       "<p>851264 rows × 7 columns</p>\n",
       "</div>"
      ],
      "text/plain": [
       "              date symbol        open       close         low        high  \\\n",
       "0       2016-01-05   WLTW  123.430000  125.839996  122.309998  126.250000   \n",
       "1       2016-01-06   WLTW  125.239998  119.980003  119.940002  125.540001   \n",
       "2       2016-01-07   WLTW  116.379997  114.949997  114.930000  119.739998   \n",
       "3       2016-01-08   WLTW  115.480003  116.620003  113.500000  117.440002   \n",
       "4       2016-01-11   WLTW  117.010002  114.970001  114.089996  117.330002   \n",
       "...            ...    ...         ...         ...         ...         ...   \n",
       "851259  2016-12-30    ZBH  103.309998  103.199997  102.849998  103.930000   \n",
       "851260  2016-12-30   ZION   43.070000   43.040001   42.689999   43.310001   \n",
       "851261  2016-12-30    ZTS   53.639999   53.529999   53.270000   53.740002   \n",
       "851262  2016-12-30    AIV   44.730000   45.450001   44.410000   45.590000   \n",
       "851263  2016-12-30    FTV   54.200001   53.630001   53.389999   54.480000   \n",
       "\n",
       "           volume  \n",
       "0       2163600.0  \n",
       "1       2386400.0  \n",
       "2       2489500.0  \n",
       "3       2006300.0  \n",
       "4       1408600.0  \n",
       "...           ...  \n",
       "851259   973800.0  \n",
       "851260  1938100.0  \n",
       "851261  1701200.0  \n",
       "851262  1380900.0  \n",
       "851263   705100.0  \n",
       "\n",
       "[851264 rows x 7 columns]"
      ]
     },
     "execution_count": 5,
     "metadata": {},
     "output_type": "execute_result"
    }
   ],
   "source": [
    "# Changing datetime column to date\n",
    "prices['date'] = pd.to_datetime(prices['date']).dt.date\n",
    "prices"
   ]
  },
  {
   "cell_type": "code",
   "execution_count": 6,
   "metadata": {
    "ExecuteTime": {
     "end_time": "2020-04-08T00:27:29.278487Z",
     "start_time": "2020-04-08T00:27:29.075031Z"
    }
   },
   "outputs": [
    {
     "data": {
      "text/html": [
       "<div>\n",
       "<style scoped>\n",
       "    .dataframe tbody tr th:only-of-type {\n",
       "        vertical-align: middle;\n",
       "    }\n",
       "\n",
       "    .dataframe tbody tr th {\n",
       "        vertical-align: top;\n",
       "    }\n",
       "\n",
       "    .dataframe thead th {\n",
       "        text-align: right;\n",
       "    }\n",
       "</style>\n",
       "<table border=\"1\" class=\"dataframe\">\n",
       "  <thead>\n",
       "    <tr style=\"text-align: right;\">\n",
       "      <th></th>\n",
       "      <th>count</th>\n",
       "      <th>mean</th>\n",
       "      <th>std</th>\n",
       "      <th>min</th>\n",
       "      <th>25%</th>\n",
       "      <th>50%</th>\n",
       "      <th>75%</th>\n",
       "      <th>max</th>\n",
       "    </tr>\n",
       "  </thead>\n",
       "  <tbody>\n",
       "    <tr>\n",
       "      <th>open</th>\n",
       "      <td>851264.0</td>\n",
       "      <td>7.083699e+01</td>\n",
       "      <td>8.369588e+01</td>\n",
       "      <td>0.85</td>\n",
       "      <td>3.384000e+01</td>\n",
       "      <td>5.277000e+01</td>\n",
       "      <td>7.988000e+01</td>\n",
       "      <td>1.584440e+03</td>\n",
       "    </tr>\n",
       "    <tr>\n",
       "      <th>close</th>\n",
       "      <td>851264.0</td>\n",
       "      <td>7.085711e+01</td>\n",
       "      <td>8.368969e+01</td>\n",
       "      <td>0.86</td>\n",
       "      <td>3.385000e+01</td>\n",
       "      <td>5.280000e+01</td>\n",
       "      <td>7.989000e+01</td>\n",
       "      <td>1.578130e+03</td>\n",
       "    </tr>\n",
       "    <tr>\n",
       "      <th>low</th>\n",
       "      <td>851264.0</td>\n",
       "      <td>7.011841e+01</td>\n",
       "      <td>8.287729e+01</td>\n",
       "      <td>0.83</td>\n",
       "      <td>3.348000e+01</td>\n",
       "      <td>5.223000e+01</td>\n",
       "      <td>7.911000e+01</td>\n",
       "      <td>1.549940e+03</td>\n",
       "    </tr>\n",
       "    <tr>\n",
       "      <th>high</th>\n",
       "      <td>851264.0</td>\n",
       "      <td>7.154348e+01</td>\n",
       "      <td>8.446550e+01</td>\n",
       "      <td>0.88</td>\n",
       "      <td>3.419000e+01</td>\n",
       "      <td>5.331000e+01</td>\n",
       "      <td>8.061000e+01</td>\n",
       "      <td>1.600930e+03</td>\n",
       "    </tr>\n",
       "    <tr>\n",
       "      <th>volume</th>\n",
       "      <td>851264.0</td>\n",
       "      <td>5.415113e+06</td>\n",
       "      <td>1.249468e+07</td>\n",
       "      <td>0.00</td>\n",
       "      <td>1.221500e+06</td>\n",
       "      <td>2.476250e+06</td>\n",
       "      <td>5.222500e+06</td>\n",
       "      <td>8.596434e+08</td>\n",
       "    </tr>\n",
       "  </tbody>\n",
       "</table>\n",
       "</div>"
      ],
      "text/plain": [
       "           count          mean           std   min           25%  \\\n",
       "open    851264.0  7.083699e+01  8.369588e+01  0.85  3.384000e+01   \n",
       "close   851264.0  7.085711e+01  8.368969e+01  0.86  3.385000e+01   \n",
       "low     851264.0  7.011841e+01  8.287729e+01  0.83  3.348000e+01   \n",
       "high    851264.0  7.154348e+01  8.446550e+01  0.88  3.419000e+01   \n",
       "volume  851264.0  5.415113e+06  1.249468e+07  0.00  1.221500e+06   \n",
       "\n",
       "                 50%           75%           max  \n",
       "open    5.277000e+01  7.988000e+01  1.584440e+03  \n",
       "close   5.280000e+01  7.989000e+01  1.578130e+03  \n",
       "low     5.223000e+01  7.911000e+01  1.549940e+03  \n",
       "high    5.331000e+01  8.061000e+01  1.600930e+03  \n",
       "volume  2.476250e+06  5.222500e+06  8.596434e+08  "
      ]
     },
     "execution_count": 6,
     "metadata": {},
     "output_type": "execute_result"
    }
   ],
   "source": [
    "# Statistical Summary of the prices table\n",
    "prices.describe().T"
   ]
  },
  {
   "cell_type": "markdown",
   "metadata": {},
   "source": [
    "Calling the info(),head() and describe() methods we have learned:\n",
    "- prices.csv has 6 columns\n",
    "    - date: representative of when the column was created\n",
    "    - symbol: the company in question\n",
    "    - open: stock price when the market opened\n",
    "    - close: stock price when the market closed\n",
    "    - low: the lowest selling price for the stock on this day\n",
    "    - high: the highest selling price for the stock on this day\n",
    "    - volume: the amount of stock that traded hands in this day\n",
    "- there are 851264 samples in our dataset\n",
    "\n",
    "**QUESTIONS TO ASK**\n",
    "\n",
    "- Which company has the lowest stock?\n",
    "- Which company has the highest stock?\n",
    "- How does volume vary given time?\n",
    "- How do opening and closing stocks vary over time?\n",
    "- Which company has sold the most volume?\n",
    "- Which company has had the most profit?\n",
    "- How many companies do we have?"
   ]
  },
  {
   "cell_type": "code",
   "execution_count": 7,
   "metadata": {
    "ExecuteTime": {
     "end_time": "2020-04-08T00:27:29.454017Z",
     "start_time": "2020-04-08T00:27:29.281497Z"
    }
   },
   "outputs": [
    {
     "name": "stdout",
     "output_type": "stream",
     "text": [
      "Stocks from 2010-01-04 to 2016-12-30\n",
      "\n",
      "Lowest Stock Sold: LVLT @ 0.83\n",
      "Highest Stock Sold: PCLN @ 1600.93\n",
      "Max Disparity Stock Sold: PCLN @ 96.44\n"
     ]
    }
   ],
   "source": [
    "# Grab the stock that sold the lowest\n",
    "lowest_idx = prices.loc[:,'low'].idxmin()\n",
    "lowest_stock = prices.iloc[lowest_idx,:]\n",
    "\n",
    "# Grab the stock that sold the highest\n",
    "highest_idx = prices.loc[:,'high'].idxmax()\n",
    "highest_stock = prices.iloc[highest_idx,:]\n",
    "\n",
    "# Grab the stock with the highest range disparity\n",
    "max_disparity = (prices.loc[:,'high']-prices.loc[:,'low']).max()\n",
    "max_disparity_idx = (prices.loc[:,'high']-prices.loc[:,'low']).idxmax()\n",
    "max_disparity_stock = prices.iloc[max_disparity_idx,:]\n",
    "\n",
    "print('Stocks from {} to {}'.format(prices['date'].min(),prices['date'].max()))\n",
    "print()\n",
    "print('Lowest Stock Sold: {company} @ {price:.2f}'.format(company=lowest_stock['symbol'],price=lowest_stock['low']))\n",
    "print('Highest Stock Sold: {company} @ {price:.2f}'.format(company=highest_stock['symbol'],price=highest_stock['high']))\n",
    "print('Max Disparity Stock Sold: {company} @ {price:.2f}'.format(company=max_disparity_stock['symbol'],price=max_disparity))"
   ]
  },
  {
   "cell_type": "code",
   "execution_count": 8,
   "metadata": {
    "ExecuteTime": {
     "end_time": "2020-04-08T00:27:29.533804Z",
     "start_time": "2020-04-08T00:27:29.456012Z"
    }
   },
   "outputs": [
    {
     "name": "stdout",
     "output_type": "stream",
     "text": [
      "Number Of Companies: 501\n",
      "\n",
      "['WLTW' 'A' 'AAL' 'AAP' 'AAPL' 'ABC' 'ABT' 'ACN' 'ADBE' 'ADI' 'ADM' 'ADP'\n",
      " 'ADS' 'ADSK' 'AEE' 'AEP' 'AES' 'AET' 'AFL' 'AGN' 'AIG' 'AIZ' 'AJG' 'AKAM'\n",
      " 'ALB' 'ALK' 'ALL' 'ALXN' 'AMAT' 'AME' 'AMG' 'AMGN' 'AMP' 'AMT' 'AMZN'\n",
      " 'AN' 'ANTM' 'AON' 'APA' 'APC' 'APD' 'APH' 'ARNC' 'ATVI' 'AVB' 'AVGO'\n",
      " 'AVY' 'AWK' 'AXP' 'AYI' 'AZO' 'BA' 'BAC' 'BAX' 'BBBY' 'BBT' 'BBY' 'BCR'\n",
      " 'BDX' 'BEN' 'BHI' 'BIIB' 'BK' 'BLK' 'BLL' 'BMY' 'BSX' 'BWA' 'BXP' 'C'\n",
      " 'CA' 'CAG' 'CAH' 'CAT' 'CB' 'CBG' 'CBS' 'CCI' 'CCL' 'CELG' 'CERN' 'CF'\n",
      " 'CHD' 'CHK' 'CHRW' 'CI' 'CINF' 'CL' 'CLX' 'CMA' 'CMCSA' 'CME' 'CMG' 'CMI'\n",
      " 'CMS' 'CNC' 'CNP' 'COF' 'COG' 'COH' 'COL' 'COO' 'COP' 'COST' 'CPB' 'CRM'\n",
      " 'CSCO' 'CSX' 'CTAS' 'CTL' 'CTSH' 'CTXS' 'CVS' 'CVX' 'CXO' 'D' 'DAL' 'DD'\n",
      " 'DE' 'DFS' 'DG' 'DGX' 'DHI' 'DHR' 'DIS' 'DISCA' 'DISCK' 'DLR' 'DLTR'\n",
      " 'DNB' 'DOV' 'DOW' 'DPS' 'DRI' 'DTE' 'DUK' 'DVA' 'DVN' 'EA' 'EBAY' 'ECL'\n",
      " 'ED' 'EFX' 'EIX' 'EL' 'EMN' 'EMR' 'ENDP' 'EOG' 'EQIX' 'EQR' 'EQT' 'ES'\n",
      " 'ESRX' 'ESS' 'ETFC' 'ETN' 'ETR' 'EW' 'EXC' 'EXPD' 'EXPE' 'EXR' 'F' 'FAST'\n",
      " 'FCX' 'FDX' 'FE' 'FFIV' 'FIS' 'FISV' 'FITB' 'FL' 'FLIR' 'FLR' 'FLS' 'FMC'\n",
      " 'FOX' 'FOXA' 'FRT' 'FSLR' 'FTI' 'FTR' 'GD' 'GE' 'GGP' 'GILD' 'GIS' 'GLW'\n",
      " 'GOOG' 'GOOGL' 'GPC' 'GPN' 'GPS' 'GRMN' 'GS' 'GT' 'GWW' 'HAL' 'HAR' 'HAS'\n",
      " 'HBAN' 'HBI' 'HCN' 'HCP' 'HD' 'HES' 'HIG' 'HOG' 'HOLX' 'HON' 'HP' 'HPQ'\n",
      " 'HRB' 'HRL' 'HRS' 'HSIC' 'HST' 'HSY' 'HUM' 'IBM' 'ICE' 'IDXX' 'IFF'\n",
      " 'ILMN' 'INTC' 'INTU' 'IP' 'IPG' 'IR' 'IRM' 'ISRG' 'ITW' 'IVZ' 'JBHT'\n",
      " 'JCI' 'JEC' 'JNJ' 'JNPR' 'JPM' 'JWN' 'K' 'KEY' 'KIM' 'KLAC' 'KMB' 'KMX'\n",
      " 'KO' 'KR' 'KSS' 'KSU' 'L' 'LB' 'LEG' 'LEN' 'LH' 'LKQ' 'LLL' 'LLTC' 'LLY'\n",
      " 'LMT' 'LNC' 'LNT' 'LOW' 'LRCX' 'LUK' 'LUV' 'LVLT' 'M' 'MA' 'MAA' 'MAC'\n",
      " 'MAR' 'MAS' 'MAT' 'MCD' 'MCHP' 'MCK' 'MCO' 'MDLZ' 'MDT' 'MET' 'MHK' 'MJN'\n",
      " 'MKC' 'MLM' 'MMC' 'MMM' 'MNST' 'MO' 'MON' 'MOS' 'MRK' 'MRO' 'MSFT' 'MSI'\n",
      " 'MTB' 'MTD' 'MU' 'MUR' 'MYL' 'NBL' 'NDAQ' 'NEE' 'NEM' 'NFLX' 'NFX' 'NI'\n",
      " 'NKE' 'NOC' 'NOV' 'NRG' 'NSC' 'NTAP' 'NTRS' 'NUE' 'NVDA' 'NWL' 'O' 'OKE'\n",
      " 'OMC' 'ORCL' 'ORLY' 'OXY' 'PAYX' 'PBCT' 'PBI' 'PCAR' 'PCG' 'PCLN' 'PDCO'\n",
      " 'PEG' 'PEP' 'PFE' 'PFG' 'PG' 'PGR' 'PH' 'PHM' 'PKI' 'PLD' 'PM' 'PNC'\n",
      " 'PNR' 'PNW' 'PPG' 'PPL' 'PRGO' 'PRU' 'PSA' 'PVH' 'PWR' 'PX' 'PXD' 'QCOM'\n",
      " 'R' 'RAI' 'RCL' 'REGN' 'RF' 'RHI' 'RHT' 'RIG' 'RL' 'ROK' 'ROP' 'ROST'\n",
      " 'RRC' 'RSG' 'RTN' 'SBUX' 'SCG' 'SCHW' 'SE' 'SEE' 'SHW' 'SIG' 'SJM' 'SLB'\n",
      " 'SLG' 'SNA' 'SNI' 'SO' 'SPG' 'SPGI' 'SPLS' 'SRCL' 'SRE' 'STI' 'STT' 'STX'\n",
      " 'STZ' 'SWK' 'SWKS' 'SWN' 'SYK' 'SYMC' 'SYY' 'T' 'TAP' 'TDC' 'TEL' 'TGNA'\n",
      " 'TGT' 'TIF' 'TJX' 'TMK' 'TMO' 'TROW' 'TRV' 'TSCO' 'TSN' 'TSO' 'TSS' 'TWX'\n",
      " 'TXN' 'TXT' 'UAA' 'UAL' 'UDR' 'UHS' 'ULTA' 'UNH' 'UNM' 'UNP' 'UPS' 'URBN'\n",
      " 'URI' 'USB' 'UTX' 'V' 'VAR' 'VFC' 'VIAB' 'VLO' 'VMC' 'VNO' 'VRSK' 'VRSN'\n",
      " 'VRTX' 'VTR' 'VZ' 'WAT' 'WBA' 'WDC' 'WEC' 'WFC' 'WFM' 'WHR' 'WM' 'WMB'\n",
      " 'WMT' 'WU' 'WY' 'WYN' 'WYNN' 'XEC' 'XEL' 'XL' 'XLNX' 'XOM' 'XRAY' 'XRX'\n",
      " 'YHOO' 'YUM' 'ZBH' 'ZION' 'AIV' 'CHTR' 'LYB' 'GM' 'ABBV' 'DLPH' 'FB'\n",
      " 'FBHS' 'HCA' 'KMI' 'KORS' 'MPC' 'NLSN' 'PSX' 'TDG' 'TRIP' 'XYL' 'ZTS'\n",
      " 'COTY' 'MNK' 'NWS' 'NWSA' 'EVHC' 'ALLE' 'CFG' 'NAVI' 'QRVO' 'SYF' 'WRK'\n",
      " 'KHC' 'PYPL' 'HPE' 'CSRA' 'FTV']\n"
     ]
    }
   ],
   "source": [
    "# Grab how many unique companies there are, and what are there names\n",
    "num_companies = prices.loc[:,'symbol'].nunique()\n",
    "company_array = prices.loc[:,'symbol'].unique()\n",
    "\n",
    "print(f'Number Of Companies: {num_companies}')\n",
    "print()\n",
    "print(company_array)"
   ]
  },
  {
   "cell_type": "code",
   "execution_count": 9,
   "metadata": {
    "ExecuteTime": {
     "end_time": "2020-04-08T00:27:29.614505Z",
     "start_time": "2020-04-08T00:27:29.535798Z"
    }
   },
   "outputs": [
    {
     "data": {
      "text/html": [
       "<div>\n",
       "<style scoped>\n",
       "    .dataframe tbody tr th:only-of-type {\n",
       "        vertical-align: middle;\n",
       "    }\n",
       "\n",
       "    .dataframe tbody tr th {\n",
       "        vertical-align: top;\n",
       "    }\n",
       "\n",
       "    .dataframe thead th {\n",
       "        text-align: right;\n",
       "    }\n",
       "</style>\n",
       "<table border=\"1\" class=\"dataframe\">\n",
       "  <thead>\n",
       "    <tr style=\"text-align: right;\">\n",
       "      <th></th>\n",
       "      <th>date</th>\n",
       "      <th>symbol</th>\n",
       "      <th>open</th>\n",
       "      <th>close</th>\n",
       "      <th>low</th>\n",
       "      <th>high</th>\n",
       "      <th>volume</th>\n",
       "    </tr>\n",
       "  </thead>\n",
       "  <tbody>\n",
       "    <tr>\n",
       "      <th>439</th>\n",
       "      <td>2010-01-04</td>\n",
       "      <td>GOOG</td>\n",
       "      <td>626.951088</td>\n",
       "      <td>626.751061</td>\n",
       "      <td>624.241073</td>\n",
       "      <td>629.511067</td>\n",
       "      <td>3927000.0</td>\n",
       "    </tr>\n",
       "    <tr>\n",
       "      <th>907</th>\n",
       "      <td>2010-01-05</td>\n",
       "      <td>GOOG</td>\n",
       "      <td>627.181073</td>\n",
       "      <td>623.991055</td>\n",
       "      <td>621.541045</td>\n",
       "      <td>627.841071</td>\n",
       "      <td>6031900.0</td>\n",
       "    </tr>\n",
       "    <tr>\n",
       "      <th>1375</th>\n",
       "      <td>2010-01-06</td>\n",
       "      <td>GOOG</td>\n",
       "      <td>625.861078</td>\n",
       "      <td>608.261023</td>\n",
       "      <td>606.361042</td>\n",
       "      <td>625.861078</td>\n",
       "      <td>7987100.0</td>\n",
       "    </tr>\n",
       "    <tr>\n",
       "      <th>1843</th>\n",
       "      <td>2010-01-07</td>\n",
       "      <td>GOOG</td>\n",
       "      <td>609.401025</td>\n",
       "      <td>594.101005</td>\n",
       "      <td>592.651008</td>\n",
       "      <td>610.001045</td>\n",
       "      <td>12876600.0</td>\n",
       "    </tr>\n",
       "    <tr>\n",
       "      <th>2311</th>\n",
       "      <td>2010-01-08</td>\n",
       "      <td>GOOG</td>\n",
       "      <td>592.000997</td>\n",
       "      <td>602.021036</td>\n",
       "      <td>589.110988</td>\n",
       "      <td>603.251034</td>\n",
       "      <td>9483900.0</td>\n",
       "    </tr>\n",
       "    <tr>\n",
       "      <th>...</th>\n",
       "      <td>...</td>\n",
       "      <td>...</td>\n",
       "      <td>...</td>\n",
       "      <td>...</td>\n",
       "      <td>...</td>\n",
       "      <td>...</td>\n",
       "      <td>...</td>\n",
       "    </tr>\n",
       "    <tr>\n",
       "      <th>848963</th>\n",
       "      <td>2016-12-23</td>\n",
       "      <td>GOOG</td>\n",
       "      <td>790.900024</td>\n",
       "      <td>789.909973</td>\n",
       "      <td>787.280029</td>\n",
       "      <td>792.739990</td>\n",
       "      <td>623400.0</td>\n",
       "    </tr>\n",
       "    <tr>\n",
       "      <th>849463</th>\n",
       "      <td>2016-12-27</td>\n",
       "      <td>GOOG</td>\n",
       "      <td>790.679993</td>\n",
       "      <td>791.549988</td>\n",
       "      <td>787.656982</td>\n",
       "      <td>797.859985</td>\n",
       "      <td>789100.0</td>\n",
       "    </tr>\n",
       "    <tr>\n",
       "      <th>849963</th>\n",
       "      <td>2016-12-28</td>\n",
       "      <td>GOOG</td>\n",
       "      <td>793.700012</td>\n",
       "      <td>785.049988</td>\n",
       "      <td>783.200012</td>\n",
       "      <td>794.229980</td>\n",
       "      <td>1132700.0</td>\n",
       "    </tr>\n",
       "    <tr>\n",
       "      <th>850463</th>\n",
       "      <td>2016-12-29</td>\n",
       "      <td>GOOG</td>\n",
       "      <td>783.330017</td>\n",
       "      <td>782.789978</td>\n",
       "      <td>778.919983</td>\n",
       "      <td>785.929993</td>\n",
       "      <td>742200.0</td>\n",
       "    </tr>\n",
       "    <tr>\n",
       "      <th>850963</th>\n",
       "      <td>2016-12-30</td>\n",
       "      <td>GOOG</td>\n",
       "      <td>782.750000</td>\n",
       "      <td>771.820007</td>\n",
       "      <td>770.409973</td>\n",
       "      <td>782.780029</td>\n",
       "      <td>1760200.0</td>\n",
       "    </tr>\n",
       "  </tbody>\n",
       "</table>\n",
       "<p>1762 rows × 7 columns</p>\n",
       "</div>"
      ],
      "text/plain": [
       "              date symbol        open       close         low        high  \\\n",
       "439     2010-01-04   GOOG  626.951088  626.751061  624.241073  629.511067   \n",
       "907     2010-01-05   GOOG  627.181073  623.991055  621.541045  627.841071   \n",
       "1375    2010-01-06   GOOG  625.861078  608.261023  606.361042  625.861078   \n",
       "1843    2010-01-07   GOOG  609.401025  594.101005  592.651008  610.001045   \n",
       "2311    2010-01-08   GOOG  592.000997  602.021036  589.110988  603.251034   \n",
       "...            ...    ...         ...         ...         ...         ...   \n",
       "848963  2016-12-23   GOOG  790.900024  789.909973  787.280029  792.739990   \n",
       "849463  2016-12-27   GOOG  790.679993  791.549988  787.656982  797.859985   \n",
       "849963  2016-12-28   GOOG  793.700012  785.049988  783.200012  794.229980   \n",
       "850463  2016-12-29   GOOG  783.330017  782.789978  778.919983  785.929993   \n",
       "850963  2016-12-30   GOOG  782.750000  771.820007  770.409973  782.780029   \n",
       "\n",
       "            volume  \n",
       "439      3927000.0  \n",
       "907      6031900.0  \n",
       "1375     7987100.0  \n",
       "1843    12876600.0  \n",
       "2311     9483900.0  \n",
       "...            ...  \n",
       "848963    623400.0  \n",
       "849463    789100.0  \n",
       "849963   1132700.0  \n",
       "850463    742200.0  \n",
       "850963   1760200.0  \n",
       "\n",
       "[1762 rows x 7 columns]"
      ]
     },
     "execution_count": 9,
     "metadata": {},
     "output_type": "execute_result"
    }
   ],
   "source": [
    "# For now, lets focus on just one company Google\n",
    "goog = prices[prices.loc[:,'symbol'] == 'GOOG']\n",
    "goog"
   ]
  },
  {
   "cell_type": "code",
   "execution_count": 10,
   "metadata": {
    "ExecuteTime": {
     "end_time": "2020-04-08T00:27:30.121209Z",
     "start_time": "2020-04-08T00:27:29.615463Z"
    },
    "scrolled": false
   },
   "outputs": [
    {
     "name": "stderr",
     "output_type": "stream",
     "text": [
      "C:\\Users\\ddagu\\Anaconda3\\lib\\site-packages\\ipykernel_launcher.py:5: SettingWithCopyWarning: \n",
      "A value is trying to be set on a copy of a slice from a DataFrame.\n",
      "Try using .loc[row_indexer,col_indexer] = value instead\n",
      "\n",
      "See the caveats in the documentation: https://pandas.pydata.org/pandas-docs/stable/user_guide/indexing.html#returning-a-view-versus-a-copy\n",
      "  \"\"\"\n"
     ]
    },
    {
     "data": {
      "text/plain": [
       "<matplotlib.legend.Legend at 0x25a796c4a88>"
      ]
     },
     "execution_count": 10,
     "metadata": {},
     "output_type": "execute_result"
    },
    {
     "data": {
      "image/png": "[encoded data removed]",
      "text/plain": [
       "<Figure size 1500x750 with 2 Axes>"
      ]
     },
     "metadata": {
      "needs_background": "light"
     },
     "output_type": "display_data"
    }
   ],
   "source": [
    "# In this cell we want to change datetime to just date, and set that as our index\n",
    "# then visualize our dataframe\n",
    "\n",
    "# Lets set the index to dates\n",
    "goog['date'] = pd.to_datetime(goog['date'])\n",
    "goog.set_index('date', inplace = True)\n",
    "\n",
    "# open, close, low & high are all in the same magnitude\n",
    "# However, volumne is different.\n",
    "# Lets create subplots to visualize the data\n",
    "\n",
    "# Create the canvas\n",
    "fig = plt.figure(figsize=(12,6),dpi=125)\n",
    "ax1 = plt.subplot2grid((8,1),(0,0),rowspan=5,colspan=1)\n",
    "ax2 = plt.subplot2grid((8,1),(6,0),rowspan=2,colspan=1)\n",
    "plt.tight_layout()\n",
    "\n",
    "# Plotting\n",
    "ax1.plot(goog.index,goog['high'],label='high')\n",
    "ax1.plot(goog.index,goog['low'],label='low')\n",
    "ax1.plot(goog.index,goog['open'],label='open')\n",
    "ax1.plot(goog.index,goog['close'],label='close')\n",
    "ax2.plot(goog.index,goog['volume'],label='volume')\n",
    "\n",
    "# Miscellaneous \n",
    "ax1.set_title('GOOG Stock From 2010 to 2016')\n",
    "ax1.legend()"
   ]
  },
  {
   "cell_type": "code",
   "execution_count": 11,
   "metadata": {
    "ExecuteTime": {
     "end_time": "2020-04-08T00:27:30.135203Z",
     "start_time": "2020-04-08T00:27:30.123203Z"
    }
   },
   "outputs": [],
   "source": [
    "# lets create resample data for 10 days and\n",
    "# aggregrate adjusted close and volume\n",
    "\n",
    "goog_ohlc = goog['close'].resample('10D').ohlc()\n",
    "goog_volume = goog['volume'].resample('10D').sum()"
   ]
  },
  {
   "cell_type": "code",
   "execution_count": 14,
   "metadata": {
    "ExecuteTime": {
     "end_time": "2020-04-08T00:28:10.952912Z",
     "start_time": "2020-04-08T00:28:09.919843Z"
    },
    "scrolled": false
   },
   "outputs": [
    {
     "data": {
      "image/png": "[encoded data removed]",
      "text/plain": [
       "<Figure size 1620x1080 with 4 Axes>"
      ]
     },
     "metadata": {
      "needs_background": "light"
     },
     "output_type": "display_data"
    }
   ],
   "source": [
    "# Create concatenated dataframe and rename the columns\n",
    "goog_concat = pd.concat([goog_ohlc,goog_volume],axis=1)\n",
    "goog_concat.columns = ['Open','Close','Low','High','Volume']\n",
    "\n",
    "# For custom plotting with MPL Finance\n",
    "# https://github.com/matplotlib/mplfinance/blob/master/examples/customization_and_styles.ipynb\n",
    "mpf.plot(goog_concat,type='candle',volume=True,\n",
    "        figratio=(15,10),figscale=1.5, style='charles')"
   ]
  },
  {
   "cell_type": "markdown",
   "metadata": {},
   "source": [
    "We did most of our exploratory data analysis in a previous notebook, for now we will explore just creating a simple stock market prediction algorithm. For this, I want to just create predictions on closing prices for stocks."
   ]
  },
  {
   "cell_type": "markdown",
   "metadata": {},
   "source": [
    "## Creating our Single Variate LSTM Model\n",
    "### Data Preprocessing\n",
    "\n",
    "In this section we focus on getting our data into the right format for our ML model. The format is companies for columns, adjusted close for values and time is sampled every 10 days."
   ]
  },
  {
   "cell_type": "code",
   "execution_count": 65,
   "metadata": {
    "ExecuteTime": {
     "end_time": "2020-04-08T01:20:43.420096Z",
     "start_time": "2020-04-08T01:20:42.641438Z"
    }
   },
   "outputs": [
    {
     "data": {
      "text/html": [
       "<div>\n",
       "<style scoped>\n",
       "    .dataframe tbody tr th:only-of-type {\n",
       "        vertical-align: middle;\n",
       "    }\n",
       "\n",
       "    .dataframe tbody tr th {\n",
       "        vertical-align: top;\n",
       "    }\n",
       "\n",
       "    .dataframe thead th {\n",
       "        text-align: right;\n",
       "    }\n",
       "</style>\n",
       "<table border=\"1\" class=\"dataframe\">\n",
       "  <thead>\n",
       "    <tr style=\"text-align: right;\">\n",
       "      <th></th>\n",
       "      <th>symbol</th>\n",
       "      <th>open</th>\n",
       "      <th>close</th>\n",
       "      <th>low</th>\n",
       "      <th>high</th>\n",
       "      <th>volume</th>\n",
       "    </tr>\n",
       "    <tr>\n",
       "      <th>date</th>\n",
       "      <th></th>\n",
       "      <th></th>\n",
       "      <th></th>\n",
       "      <th></th>\n",
       "      <th></th>\n",
       "      <th></th>\n",
       "    </tr>\n",
       "  </thead>\n",
       "  <tbody>\n",
       "    <tr>\n",
       "      <th>2016-01-05</th>\n",
       "      <td>WLTW</td>\n",
       "      <td>123.430000</td>\n",
       "      <td>125.839996</td>\n",
       "      <td>122.309998</td>\n",
       "      <td>126.250000</td>\n",
       "      <td>2163600.0</td>\n",
       "    </tr>\n",
       "    <tr>\n",
       "      <th>2016-01-06</th>\n",
       "      <td>WLTW</td>\n",
       "      <td>125.239998</td>\n",
       "      <td>119.980003</td>\n",
       "      <td>119.940002</td>\n",
       "      <td>125.540001</td>\n",
       "      <td>2386400.0</td>\n",
       "    </tr>\n",
       "    <tr>\n",
       "      <th>2016-01-07</th>\n",
       "      <td>WLTW</td>\n",
       "      <td>116.379997</td>\n",
       "      <td>114.949997</td>\n",
       "      <td>114.930000</td>\n",
       "      <td>119.739998</td>\n",
       "      <td>2489500.0</td>\n",
       "    </tr>\n",
       "    <tr>\n",
       "      <th>2016-01-08</th>\n",
       "      <td>WLTW</td>\n",
       "      <td>115.480003</td>\n",
       "      <td>116.620003</td>\n",
       "      <td>113.500000</td>\n",
       "      <td>117.440002</td>\n",
       "      <td>2006300.0</td>\n",
       "    </tr>\n",
       "    <tr>\n",
       "      <th>2016-01-11</th>\n",
       "      <td>WLTW</td>\n",
       "      <td>117.010002</td>\n",
       "      <td>114.970001</td>\n",
       "      <td>114.089996</td>\n",
       "      <td>117.330002</td>\n",
       "      <td>1408600.0</td>\n",
       "    </tr>\n",
       "  </tbody>\n",
       "</table>\n",
       "</div>"
      ],
      "text/plain": [
       "           symbol        open       close         low        high     volume\n",
       "date                                                                        \n",
       "2016-01-05   WLTW  123.430000  125.839996  122.309998  126.250000  2163600.0\n",
       "2016-01-06   WLTW  125.239998  119.980003  119.940002  125.540001  2386400.0\n",
       "2016-01-07   WLTW  116.379997  114.949997  114.930000  119.739998  2489500.0\n",
       "2016-01-08   WLTW  115.480003  116.620003  113.500000  117.440002  2006300.0\n",
       "2016-01-11   WLTW  117.010002  114.970001  114.089996  117.330002  1408600.0"
      ]
     },
     "execution_count": 65,
     "metadata": {},
     "output_type": "execute_result"
    }
   ],
   "source": [
    "adj_prices = pd.read_csv('data/prices-split-adjusted.csv',parse_dates=True,index_col='date')\n",
    "adj_prices.head()"
   ]
  },
  {
   "cell_type": "code",
   "execution_count": 66,
   "metadata": {
    "ExecuteTime": {
     "end_time": "2020-04-08T01:20:44.045783Z",
     "start_time": "2020-04-08T01:20:43.958949Z"
    }
   },
   "outputs": [],
   "source": [
    "# Lets create a rolling average for the close and then do our analysis on the rolling avereage\n",
    "adj_prices['mac'] = adj_prices['close'].rolling(window=10,min_periods=0).mean()"
   ]
  },
  {
   "cell_type": "code",
   "execution_count": 67,
   "metadata": {
    "ExecuteTime": {
     "end_time": "2020-04-08T01:20:44.970327Z",
     "start_time": "2020-04-08T01:20:44.599432Z"
    }
   },
   "outputs": [
    {
     "name": "stdout",
     "output_type": "stream",
     "text": [
      "<class 'pandas.core.frame.DataFrame'>\n",
      "DatetimeIndex: 1762 entries, 2010-01-04 to 2016-12-30\n",
      "Columns: 501 entries, A to ZTS\n",
      "dtypes: float64(501)\n",
      "memory usage: 6.7 MB\n",
      "None\n"
     ]
    },
    {
     "data": {
      "text/html": [
       "<div>\n",
       "<style scoped>\n",
       "    .dataframe tbody tr th:only-of-type {\n",
       "        vertical-align: middle;\n",
       "    }\n",
       "\n",
       "    .dataframe tbody tr th {\n",
       "        vertical-align: top;\n",
       "    }\n",
       "\n",
       "    .dataframe thead th {\n",
       "        text-align: right;\n",
       "    }\n",
       "</style>\n",
       "<table border=\"1\" class=\"dataframe\">\n",
       "  <thead>\n",
       "    <tr style=\"text-align: right;\">\n",
       "      <th>symbol</th>\n",
       "      <th>A</th>\n",
       "      <th>AAL</th>\n",
       "      <th>AAP</th>\n",
       "      <th>AAPL</th>\n",
       "      <th>ABBV</th>\n",
       "      <th>ABC</th>\n",
       "      <th>ABT</th>\n",
       "      <th>ACN</th>\n",
       "      <th>ADBE</th>\n",
       "      <th>ADI</th>\n",
       "      <th>...</th>\n",
       "      <th>XLNX</th>\n",
       "      <th>XOM</th>\n",
       "      <th>XRAY</th>\n",
       "      <th>XRX</th>\n",
       "      <th>XYL</th>\n",
       "      <th>YHOO</th>\n",
       "      <th>YUM</th>\n",
       "      <th>ZBH</th>\n",
       "      <th>ZION</th>\n",
       "      <th>ZTS</th>\n",
       "    </tr>\n",
       "    <tr>\n",
       "      <th>date</th>\n",
       "      <th></th>\n",
       "      <th></th>\n",
       "      <th></th>\n",
       "      <th></th>\n",
       "      <th></th>\n",
       "      <th></th>\n",
       "      <th></th>\n",
       "      <th></th>\n",
       "      <th></th>\n",
       "      <th></th>\n",
       "      <th></th>\n",
       "      <th></th>\n",
       "      <th></th>\n",
       "      <th></th>\n",
       "      <th></th>\n",
       "      <th></th>\n",
       "      <th></th>\n",
       "      <th></th>\n",
       "      <th></th>\n",
       "      <th></th>\n",
       "      <th></th>\n",
       "    </tr>\n",
       "  </thead>\n",
       "  <tbody>\n",
       "    <tr>\n",
       "      <th>2010-01-04</th>\n",
       "      <td>113.129911</td>\n",
       "      <td>101.243911</td>\n",
       "      <td>92.897912</td>\n",
       "      <td>83.656197</td>\n",
       "      <td>NaN</td>\n",
       "      <td>74.034198</td>\n",
       "      <td>64.198186</td>\n",
       "      <td>55.977186</td>\n",
       "      <td>47.448187</td>\n",
       "      <td>38.398187</td>\n",
       "      <td>...</td>\n",
       "      <td>33.980643</td>\n",
       "      <td>39.134000</td>\n",
       "      <td>37.244000</td>\n",
       "      <td>36.198000</td>\n",
       "      <td>NaN</td>\n",
       "      <td>33.480000</td>\n",
       "      <td>33.974646</td>\n",
       "      <td>33.580646</td>\n",
       "      <td>29.396646</td>\n",
       "      <td>NaN</td>\n",
       "    </tr>\n",
       "    <tr>\n",
       "      <th>2010-01-05</th>\n",
       "      <td>29.227238</td>\n",
       "      <td>27.220238</td>\n",
       "      <td>24.319238</td>\n",
       "      <td>23.848809</td>\n",
       "      <td>NaN</td>\n",
       "      <td>25.629809</td>\n",
       "      <td>26.511687</td>\n",
       "      <td>28.222041</td>\n",
       "      <td>25.990041</td>\n",
       "      <td>27.819041</td>\n",
       "      <td>...</td>\n",
       "      <td>34.386654</td>\n",
       "      <td>39.544999</td>\n",
       "      <td>37.666999</td>\n",
       "      <td>36.629999</td>\n",
       "      <td>NaN</td>\n",
       "      <td>33.830999</td>\n",
       "      <td>34.274018</td>\n",
       "      <td>33.681018</td>\n",
       "      <td>29.554018</td>\n",
       "      <td>NaN</td>\n",
       "    </tr>\n",
       "    <tr>\n",
       "      <th>2010-01-06</th>\n",
       "      <td>29.454742</td>\n",
       "      <td>27.457742</td>\n",
       "      <td>24.564743</td>\n",
       "      <td>24.087600</td>\n",
       "      <td>NaN</td>\n",
       "      <td>25.842600</td>\n",
       "      <td>26.725871</td>\n",
       "      <td>28.489852</td>\n",
       "      <td>26.059853</td>\n",
       "      <td>27.835852</td>\n",
       "      <td>...</td>\n",
       "      <td>34.291533</td>\n",
       "      <td>39.452000</td>\n",
       "      <td>37.609000</td>\n",
       "      <td>36.565000</td>\n",
       "      <td>NaN</td>\n",
       "      <td>33.810000</td>\n",
       "      <td>34.196046</td>\n",
       "      <td>33.690046</td>\n",
       "      <td>29.691046</td>\n",
       "      <td>NaN</td>\n",
       "    </tr>\n",
       "    <tr>\n",
       "      <th>2010-01-07</th>\n",
       "      <td>29.632908</td>\n",
       "      <td>27.667909</td>\n",
       "      <td>24.713909</td>\n",
       "      <td>24.208195</td>\n",
       "      <td>NaN</td>\n",
       "      <td>25.929195</td>\n",
       "      <td>26.840057</td>\n",
       "      <td>28.618011</td>\n",
       "      <td>26.117011</td>\n",
       "      <td>27.748011</td>\n",
       "      <td>...</td>\n",
       "      <td>34.341490</td>\n",
       "      <td>39.493000</td>\n",
       "      <td>37.693000</td>\n",
       "      <td>36.592000</td>\n",
       "      <td>NaN</td>\n",
       "      <td>33.810000</td>\n",
       "      <td>34.198327</td>\n",
       "      <td>33.691327</td>\n",
       "      <td>29.947327</td>\n",
       "      <td>NaN</td>\n",
       "    </tr>\n",
       "    <tr>\n",
       "      <th>2010-01-08</th>\n",
       "      <td>29.958475</td>\n",
       "      <td>28.008475</td>\n",
       "      <td>25.092474</td>\n",
       "      <td>24.560760</td>\n",
       "      <td>NaN</td>\n",
       "      <td>26.305760</td>\n",
       "      <td>27.277057</td>\n",
       "      <td>29.038730</td>\n",
       "      <td>26.375730</td>\n",
       "      <td>27.856730</td>\n",
       "      <td>...</td>\n",
       "      <td>34.355164</td>\n",
       "      <td>39.464000</td>\n",
       "      <td>37.691000</td>\n",
       "      <td>36.568000</td>\n",
       "      <td>NaN</td>\n",
       "      <td>33.827000</td>\n",
       "      <td>34.237046</td>\n",
       "      <td>33.646046</td>\n",
       "      <td>29.774046</td>\n",
       "      <td>NaN</td>\n",
       "    </tr>\n",
       "  </tbody>\n",
       "</table>\n",
       "<p>5 rows × 501 columns</p>\n",
       "</div>"
      ],
      "text/plain": [
       "symbol               A         AAL        AAP       AAPL  ABBV        ABC  \\\n",
       "date                                                                        \n",
       "2010-01-04  113.129911  101.243911  92.897912  83.656197   NaN  74.034198   \n",
       "2010-01-05   29.227238   27.220238  24.319238  23.848809   NaN  25.629809   \n",
       "2010-01-06   29.454742   27.457742  24.564743  24.087600   NaN  25.842600   \n",
       "2010-01-07   29.632908   27.667909  24.713909  24.208195   NaN  25.929195   \n",
       "2010-01-08   29.958475   28.008475  25.092474  24.560760   NaN  26.305760   \n",
       "\n",
       "symbol            ABT        ACN       ADBE        ADI  ...       XLNX  \\\n",
       "date                                                    ...              \n",
       "2010-01-04  64.198186  55.977186  47.448187  38.398187  ...  33.980643   \n",
       "2010-01-05  26.511687  28.222041  25.990041  27.819041  ...  34.386654   \n",
       "2010-01-06  26.725871  28.489852  26.059853  27.835852  ...  34.291533   \n",
       "2010-01-07  26.840057  28.618011  26.117011  27.748011  ...  34.341490   \n",
       "2010-01-08  27.277057  29.038730  26.375730  27.856730  ...  34.355164   \n",
       "\n",
       "symbol            XOM       XRAY        XRX  XYL       YHOO        YUM  \\\n",
       "date                                                                     \n",
       "2010-01-04  39.134000  37.244000  36.198000  NaN  33.480000  33.974646   \n",
       "2010-01-05  39.544999  37.666999  36.629999  NaN  33.830999  34.274018   \n",
       "2010-01-06  39.452000  37.609000  36.565000  NaN  33.810000  34.196046   \n",
       "2010-01-07  39.493000  37.693000  36.592000  NaN  33.810000  34.198327   \n",
       "2010-01-08  39.464000  37.691000  36.568000  NaN  33.827000  34.237046   \n",
       "\n",
       "symbol            ZBH       ZION  ZTS  \n",
       "date                                   \n",
       "2010-01-04  33.580646  29.396646  NaN  \n",
       "2010-01-05  33.681018  29.554018  NaN  \n",
       "2010-01-06  33.690046  29.691046  NaN  \n",
       "2010-01-07  33.691327  29.947327  NaN  \n",
       "2010-01-08  33.646046  29.774046  NaN  \n",
       "\n",
       "[5 rows x 501 columns]"
      ]
     },
     "execution_count": 67,
     "metadata": {},
     "output_type": "execute_result"
    }
   ],
   "source": [
    "adj_mac = adj_prices.pivot(columns='symbol',values='mac')\n",
    "print(adj_mac.info())\n",
    "adj_mac.head()"
   ]
  },
  {
   "cell_type": "markdown",
   "metadata": {},
   "source": [
    "Great, so now we got our data in a format that satisfies these conditions\n",
    "\n",
    "- Date is the index ranging from 2010 to end of 2016\n",
    "- Columns are individual companies\n",
    "- Rows are filled with the 10 day rolling average for the closing price\n",
    "\n",
    "If we want to do actual stock price predictions now we will have to choose a certain company to make those predictions on. We can grab these companies by grabbing the columns for our pivoted table"
   ]
  },
  {
   "cell_type": "code",
   "execution_count": 68,
   "metadata": {
    "ExecuteTime": {
     "end_time": "2020-04-08T01:20:45.529844Z",
     "start_time": "2020-04-08T01:20:45.514850Z"
    }
   },
   "outputs": [
    {
     "data": {
      "text/plain": [
       "['A',\n",
       " 'AAL',\n",
       " 'AAP',\n",
       " 'AAPL',\n",
       " 'ABBV',\n",
       " 'ABC',\n",
       " 'ABT',\n",
       " 'ACN',\n",
       " 'ADBE',\n",
       " 'ADI',\n",
       " 'ADM',\n",
       " 'ADP',\n",
       " 'ADS',\n",
       " 'ADSK',\n",
       " 'AEE',\n",
       " 'AEP',\n",
       " 'AES',\n",
       " 'AET',\n",
       " 'AFL',\n",
       " 'AGN',\n",
       " 'AIG',\n",
       " 'AIV',\n",
       " 'AIZ',\n",
       " 'AJG',\n",
       " 'AKAM',\n",
       " 'ALB',\n",
       " 'ALK',\n",
       " 'ALL',\n",
       " 'ALLE',\n",
       " 'ALXN',\n",
       " 'AMAT',\n",
       " 'AME',\n",
       " 'AMG',\n",
       " 'AMGN',\n",
       " 'AMP',\n",
       " 'AMT',\n",
       " 'AMZN',\n",
       " 'AN',\n",
       " 'ANTM',\n",
       " 'AON',\n",
       " 'APA',\n",
       " 'APC',\n",
       " 'APD',\n",
       " 'APH',\n",
       " 'ARNC',\n",
       " 'ATVI',\n",
       " 'AVB',\n",
       " 'AVGO',\n",
       " 'AVY',\n",
       " 'AWK',\n",
       " 'AXP',\n",
       " 'AYI',\n",
       " 'AZO',\n",
       " 'BA',\n",
       " 'BAC',\n",
       " 'BAX',\n",
       " 'BBBY',\n",
       " 'BBT',\n",
       " 'BBY',\n",
       " 'BCR',\n",
       " 'BDX',\n",
       " 'BEN',\n",
       " 'BHI',\n",
       " 'BIIB',\n",
       " 'BK',\n",
       " 'BLK',\n",
       " 'BLL',\n",
       " 'BMY',\n",
       " 'BSX',\n",
       " 'BWA',\n",
       " 'BXP',\n",
       " 'C',\n",
       " 'CA',\n",
       " 'CAG',\n",
       " 'CAH',\n",
       " 'CAT',\n",
       " 'CB',\n",
       " 'CBG',\n",
       " 'CBS',\n",
       " 'CCI',\n",
       " 'CCL',\n",
       " 'CELG',\n",
       " 'CERN',\n",
       " 'CF',\n",
       " 'CFG',\n",
       " 'CHD',\n",
       " 'CHK',\n",
       " 'CHRW',\n",
       " 'CHTR',\n",
       " 'CI',\n",
       " 'CINF',\n",
       " 'CL',\n",
       " 'CLX',\n",
       " 'CMA',\n",
       " 'CMCSA',\n",
       " 'CME',\n",
       " 'CMG',\n",
       " 'CMI',\n",
       " 'CMS',\n",
       " 'CNC',\n",
       " 'CNP',\n",
       " 'COF',\n",
       " 'COG',\n",
       " 'COH',\n",
       " 'COL',\n",
       " 'COO',\n",
       " 'COP',\n",
       " 'COST',\n",
       " 'COTY',\n",
       " 'CPB',\n",
       " 'CRM',\n",
       " 'CSCO',\n",
       " 'CSRA',\n",
       " 'CSX',\n",
       " 'CTAS',\n",
       " 'CTL',\n",
       " 'CTSH',\n",
       " 'CTXS',\n",
       " 'CVS',\n",
       " 'CVX',\n",
       " 'CXO',\n",
       " 'D',\n",
       " 'DAL',\n",
       " 'DD',\n",
       " 'DE',\n",
       " 'DFS',\n",
       " 'DG',\n",
       " 'DGX',\n",
       " 'DHI',\n",
       " 'DHR',\n",
       " 'DIS',\n",
       " 'DISCA',\n",
       " 'DISCK',\n",
       " 'DLPH',\n",
       " 'DLR',\n",
       " 'DLTR',\n",
       " 'DNB',\n",
       " 'DOV',\n",
       " 'DOW',\n",
       " 'DPS',\n",
       " 'DRI',\n",
       " 'DTE',\n",
       " 'DUK',\n",
       " 'DVA',\n",
       " 'DVN',\n",
       " 'EA',\n",
       " 'EBAY',\n",
       " 'ECL',\n",
       " 'ED',\n",
       " 'EFX',\n",
       " 'EIX',\n",
       " 'EL',\n",
       " 'EMN',\n",
       " 'EMR',\n",
       " 'ENDP',\n",
       " 'EOG',\n",
       " 'EQIX',\n",
       " 'EQR',\n",
       " 'EQT',\n",
       " 'ES',\n",
       " 'ESRX',\n",
       " 'ESS',\n",
       " 'ETFC',\n",
       " 'ETN',\n",
       " 'ETR',\n",
       " 'EVHC',\n",
       " 'EW',\n",
       " 'EXC',\n",
       " 'EXPD',\n",
       " 'EXPE',\n",
       " 'EXR',\n",
       " 'F',\n",
       " 'FAST',\n",
       " 'FB',\n",
       " 'FBHS',\n",
       " 'FCX',\n",
       " 'FDX',\n",
       " 'FE',\n",
       " 'FFIV',\n",
       " 'FIS',\n",
       " 'FISV',\n",
       " 'FITB',\n",
       " 'FL',\n",
       " 'FLIR',\n",
       " 'FLR',\n",
       " 'FLS',\n",
       " 'FMC',\n",
       " 'FOX',\n",
       " 'FOXA',\n",
       " 'FRT',\n",
       " 'FSLR',\n",
       " 'FTI',\n",
       " 'FTR',\n",
       " 'FTV',\n",
       " 'GD',\n",
       " 'GE',\n",
       " 'GGP',\n",
       " 'GILD',\n",
       " 'GIS',\n",
       " 'GLW',\n",
       " 'GM',\n",
       " 'GOOG',\n",
       " 'GOOGL',\n",
       " 'GPC',\n",
       " 'GPN',\n",
       " 'GPS',\n",
       " 'GRMN',\n",
       " 'GS',\n",
       " 'GT',\n",
       " 'GWW',\n",
       " 'HAL',\n",
       " 'HAR',\n",
       " 'HAS',\n",
       " 'HBAN',\n",
       " 'HBI',\n",
       " 'HCA',\n",
       " 'HCN',\n",
       " 'HCP',\n",
       " 'HD',\n",
       " 'HES',\n",
       " 'HIG',\n",
       " 'HOG',\n",
       " 'HOLX',\n",
       " 'HON',\n",
       " 'HP',\n",
       " 'HPE',\n",
       " 'HPQ',\n",
       " 'HRB',\n",
       " 'HRL',\n",
       " 'HRS',\n",
       " 'HSIC',\n",
       " 'HST',\n",
       " 'HSY',\n",
       " 'HUM',\n",
       " 'IBM',\n",
       " 'ICE',\n",
       " 'IDXX',\n",
       " 'IFF',\n",
       " 'ILMN',\n",
       " 'INTC',\n",
       " 'INTU',\n",
       " 'IP',\n",
       " 'IPG',\n",
       " 'IR',\n",
       " 'IRM',\n",
       " 'ISRG',\n",
       " 'ITW',\n",
       " 'IVZ',\n",
       " 'JBHT',\n",
       " 'JCI',\n",
       " 'JEC',\n",
       " 'JNJ',\n",
       " 'JNPR',\n",
       " 'JPM',\n",
       " 'JWN',\n",
       " 'K',\n",
       " 'KEY',\n",
       " 'KHC',\n",
       " 'KIM',\n",
       " 'KLAC',\n",
       " 'KMB',\n",
       " 'KMI',\n",
       " 'KMX',\n",
       " 'KO',\n",
       " 'KORS',\n",
       " 'KR',\n",
       " 'KSS',\n",
       " 'KSU',\n",
       " 'L',\n",
       " 'LB',\n",
       " 'LEG',\n",
       " 'LEN',\n",
       " 'LH',\n",
       " 'LKQ',\n",
       " 'LLL',\n",
       " 'LLTC',\n",
       " 'LLY',\n",
       " 'LMT',\n",
       " 'LNC',\n",
       " 'LNT',\n",
       " 'LOW',\n",
       " 'LRCX',\n",
       " 'LUK',\n",
       " 'LUV',\n",
       " 'LVLT',\n",
       " 'LYB',\n",
       " 'M',\n",
       " 'MA',\n",
       " 'MAA',\n",
       " 'MAC',\n",
       " 'MAR',\n",
       " 'MAS',\n",
       " 'MAT',\n",
       " 'MCD',\n",
       " 'MCHP',\n",
       " 'MCK',\n",
       " 'MCO',\n",
       " 'MDLZ',\n",
       " 'MDT',\n",
       " 'MET',\n",
       " 'MHK',\n",
       " 'MJN',\n",
       " 'MKC',\n",
       " 'MLM',\n",
       " 'MMC',\n",
       " 'MMM',\n",
       " 'MNK',\n",
       " 'MNST',\n",
       " 'MO',\n",
       " 'MON',\n",
       " 'MOS',\n",
       " 'MPC',\n",
       " 'MRK',\n",
       " 'MRO',\n",
       " 'MSFT',\n",
       " 'MSI',\n",
       " 'MTB',\n",
       " 'MTD',\n",
       " 'MU',\n",
       " 'MUR',\n",
       " 'MYL',\n",
       " 'NAVI',\n",
       " 'NBL',\n",
       " 'NDAQ',\n",
       " 'NEE',\n",
       " 'NEM',\n",
       " 'NFLX',\n",
       " 'NFX',\n",
       " 'NI',\n",
       " 'NKE',\n",
       " 'NLSN',\n",
       " 'NOC',\n",
       " 'NOV',\n",
       " 'NRG',\n",
       " 'NSC',\n",
       " 'NTAP',\n",
       " 'NTRS',\n",
       " 'NUE',\n",
       " 'NVDA',\n",
       " 'NWL',\n",
       " 'NWS',\n",
       " 'NWSA',\n",
       " 'O',\n",
       " 'OKE',\n",
       " 'OMC',\n",
       " 'ORCL',\n",
       " 'ORLY',\n",
       " 'OXY',\n",
       " 'PAYX',\n",
       " 'PBCT',\n",
       " 'PBI',\n",
       " 'PCAR',\n",
       " 'PCG',\n",
       " 'PCLN',\n",
       " 'PDCO',\n",
       " 'PEG',\n",
       " 'PEP',\n",
       " 'PFE',\n",
       " 'PFG',\n",
       " 'PG',\n",
       " 'PGR',\n",
       " 'PH',\n",
       " 'PHM',\n",
       " 'PKI',\n",
       " 'PLD',\n",
       " 'PM',\n",
       " 'PNC',\n",
       " 'PNR',\n",
       " 'PNW',\n",
       " 'PPG',\n",
       " 'PPL',\n",
       " 'PRGO',\n",
       " 'PRU',\n",
       " 'PSA',\n",
       " 'PSX',\n",
       " 'PVH',\n",
       " 'PWR',\n",
       " 'PX',\n",
       " 'PXD',\n",
       " 'PYPL',\n",
       " 'QCOM',\n",
       " 'QRVO',\n",
       " 'R',\n",
       " 'RAI',\n",
       " 'RCL',\n",
       " 'REGN',\n",
       " 'RF',\n",
       " 'RHI',\n",
       " 'RHT',\n",
       " 'RIG',\n",
       " 'RL',\n",
       " 'ROK',\n",
       " 'ROP',\n",
       " 'ROST',\n",
       " 'RRC',\n",
       " 'RSG',\n",
       " 'RTN',\n",
       " 'SBUX',\n",
       " 'SCG',\n",
       " 'SCHW',\n",
       " 'SE',\n",
       " 'SEE',\n",
       " 'SHW',\n",
       " 'SIG',\n",
       " 'SJM',\n",
       " 'SLB',\n",
       " 'SLG',\n",
       " 'SNA',\n",
       " 'SNI',\n",
       " 'SO',\n",
       " 'SPG',\n",
       " 'SPGI',\n",
       " 'SPLS',\n",
       " 'SRCL',\n",
       " 'SRE',\n",
       " 'STI',\n",
       " 'STT',\n",
       " 'STX',\n",
       " 'STZ',\n",
       " 'SWK',\n",
       " 'SWKS',\n",
       " 'SWN',\n",
       " 'SYF',\n",
       " 'SYK',\n",
       " 'SYMC',\n",
       " 'SYY',\n",
       " 'T',\n",
       " 'TAP',\n",
       " 'TDC',\n",
       " 'TDG',\n",
       " 'TEL',\n",
       " 'TGNA',\n",
       " 'TGT',\n",
       " 'TIF',\n",
       " 'TJX',\n",
       " 'TMK',\n",
       " 'TMO',\n",
       " 'TRIP',\n",
       " 'TROW',\n",
       " 'TRV',\n",
       " 'TSCO',\n",
       " 'TSN',\n",
       " 'TSO',\n",
       " 'TSS',\n",
       " 'TWX',\n",
       " 'TXN',\n",
       " 'TXT',\n",
       " 'UAA',\n",
       " 'UAL',\n",
       " 'UDR',\n",
       " 'UHS',\n",
       " 'ULTA',\n",
       " 'UNH',\n",
       " 'UNM',\n",
       " 'UNP',\n",
       " 'UPS',\n",
       " 'URBN',\n",
       " 'URI',\n",
       " 'USB',\n",
       " 'UTX',\n",
       " 'V',\n",
       " 'VAR',\n",
       " 'VFC',\n",
       " 'VIAB',\n",
       " 'VLO',\n",
       " 'VMC',\n",
       " 'VNO',\n",
       " 'VRSK',\n",
       " 'VRSN',\n",
       " 'VRTX',\n",
       " 'VTR',\n",
       " 'VZ',\n",
       " 'WAT',\n",
       " 'WBA',\n",
       " 'WDC',\n",
       " 'WEC',\n",
       " 'WFC',\n",
       " 'WFM',\n",
       " 'WHR',\n",
       " 'WLTW',\n",
       " 'WM',\n",
       " 'WMB',\n",
       " 'WMT',\n",
       " 'WRK',\n",
       " 'WU',\n",
       " 'WY',\n",
       " 'WYN',\n",
       " 'WYNN',\n",
       " 'XEC',\n",
       " 'XEL',\n",
       " 'XL',\n",
       " 'XLNX',\n",
       " 'XOM',\n",
       " 'XRAY',\n",
       " 'XRX',\n",
       " 'XYL',\n",
       " 'YHOO',\n",
       " 'YUM',\n",
       " 'ZBH',\n",
       " 'ZION',\n",
       " 'ZTS']"
      ]
     },
     "execution_count": 68,
     "metadata": {},
     "output_type": "execute_result"
    }
   ],
   "source": [
    "adj_mac.columns.to_list()"
   ]
  },
  {
   "cell_type": "markdown",
   "metadata": {},
   "source": [
    "For this demonstration, I want to create stock predictions on NVIDIA ('NVDA')"
   ]
  },
  {
   "cell_type": "markdown",
   "metadata": {},
   "source": [
    "### Creating the Model\n",
    "\n",
    "- Step 0. Have data\n",
    "- Step 1. Create TimeseriesGenerator\n",
    "- Step 2. Create Model\n",
    "- Step 3. Create Early Stopping\n",
    "- Step 4. Fit the model\n",
    "- Step 5. Predict"
   ]
  },
  {
   "cell_type": "code",
   "execution_count": 249,
   "metadata": {
    "ExecuteTime": {
     "end_time": "2020-04-08T04:00:24.138790Z",
     "start_time": "2020-04-08T04:00:23.650975Z"
    }
   },
   "outputs": [
    {
     "data": {
      "text/plain": [
       "Text(0.5, 1.0, 'NVIDIA Closing Stock Price: 2010 to 2016')"
      ]
     },
     "execution_count": 249,
     "metadata": {},
     "output_type": "execute_result"
    },
    {
     "data": {
      "image/png": "[encoded data removed]",
      "text/plain": [
       "<Figure size 1500x750 with 1 Axes>"
      ]
     },
     "metadata": {
      "needs_background": "light"
     },
     "output_type": "display_data"
    }
   ],
   "source": [
    "# Step 0\n",
    "\n",
    "# Now we need data to work with\n",
    "nvda_10mac = adj_mac['NVDA'].reset_index()\n",
    "\n",
    "# Plotting our data\n",
    "fig = plt.figure(figsize=(12,6),dpi=125)\n",
    "ax = sns.lineplot(x='date',y='NVDA',data=nvda_10mac)\n",
    "ax.set_ylabel('Close Price')\n",
    "ax.set_title(f'NVIDIA Closing Stock Price: 2010 to 2016')"
   ]
  },
  {
   "cell_type": "code",
   "execution_count": 250,
   "metadata": {
    "ExecuteTime": {
     "end_time": "2020-04-08T04:00:24.891332Z",
     "start_time": "2020-04-08T04:00:24.883351Z"
    }
   },
   "outputs": [],
   "source": [
    "# Create training and test sets\n",
    "\n",
    "# prediction period we choose 30 days\n",
    "period = 30\n",
    "n_features = 1\n",
    "\n",
    "# get a test indices\n",
    "test_ind = len(nvda_10mac) - period\n",
    "\n",
    "# Now set the index by date\n",
    "nvda_10mac.set_index('date',inplace=True)\n",
    "\n",
    "# construct test and train set\n",
    "train = nvda_10mac[:test_ind]\n",
    "test = nvda_10mac[test_ind:]"
   ]
  },
  {
   "cell_type": "code",
   "execution_count": 251,
   "metadata": {
    "ExecuteTime": {
     "end_time": "2020-04-08T04:00:25.639480Z",
     "start_time": "2020-04-08T04:00:25.632462Z"
    }
   },
   "outputs": [],
   "source": [
    "# scale our data\n",
    "\n",
    "scaler = MinMaxScaler()\n",
    "\n",
    "scaled_train = scaler.fit_transform(train)\n",
    "scaled_test = scaler.transform(test)"
   ]
  },
  {
   "cell_type": "code",
   "execution_count": 252,
   "metadata": {
    "ExecuteTime": {
     "end_time": "2020-04-08T04:00:26.387444Z",
     "start_time": "2020-04-08T04:00:26.381459Z"
    }
   },
   "outputs": [],
   "source": [
    "# Lets create a time series generator\n",
    "# length of the generator has to be less than\n",
    "# the length of the test set\n",
    "\n",
    "length = period - 1\n",
    "\n",
    "generator = TimeseriesGenerator(scaled_train,scaled_train,\n",
    "                               length=length,batch_size=1)\n",
    "\n",
    "validation_generator = TimeseriesGenerator(scaled_test,scaled_test,\n",
    "                                          length=length,batch_size=1)"
   ]
  },
  {
   "cell_type": "code",
   "execution_count": 255,
   "metadata": {
    "ExecuteTime": {
     "end_time": "2020-04-08T04:00:46.664987Z",
     "start_time": "2020-04-08T04:00:46.512327Z"
    }
   },
   "outputs": [],
   "source": [
    "# Now lets create a simple model\n",
    "# LSTM -> Dense ->\n",
    "\n",
    "model = Sequential()\n",
    "\n",
    "# LSTM Layer\n",
    "model.add(LSTM(128,activation='relu',input_shape=(length,n_features)))\n",
    "\n",
    "# Dense layer\n",
    "model.add(Dense(1))\n",
    "\n",
    "# Compile results\n",
    "model.compile(optimizer='adam',loss='mse')"
   ]
  },
  {
   "cell_type": "code",
   "execution_count": 236,
   "metadata": {
    "ExecuteTime": {
     "end_time": "2020-04-08T03:55:53.760096Z",
     "start_time": "2020-04-08T03:55:53.755096Z"
    }
   },
   "outputs": [
    {
     "name": "stdout",
     "output_type": "stream",
     "text": [
      "Model: \"sequential_2\"\n",
      "_________________________________________________________________\n",
      "Layer (type)                 Output Shape              Param #   \n",
      "=================================================================\n",
      "lstm_2 (LSTM)                (None, 128)               66560     \n",
      "_________________________________________________________________\n",
      "dense_2 (Dense)              (None, 1)                 129       \n",
      "=================================================================\n",
      "Total params: 66,689\n",
      "Trainable params: 66,689\n",
      "Non-trainable params: 0\n",
      "_________________________________________________________________\n"
     ]
    }
   ],
   "source": [
    "model.summary()"
   ]
  },
  {
   "cell_type": "code",
   "execution_count": 321,
   "metadata": {
    "ExecuteTime": {
     "end_time": "2020-04-08T04:49:03.035607Z",
     "start_time": "2020-04-08T04:49:03.030630Z"
    }
   },
   "outputs": [],
   "source": [
    "# Now lets do early stopping\n",
    "early_stop = EarlyStopping(monitor='val_loss',patience=2)"
   ]
  },
  {
   "cell_type": "code",
   "execution_count": 238,
   "metadata": {
    "ExecuteTime": {
     "end_time": "2020-04-08T03:57:20.982010Z",
     "start_time": "2020-04-08T03:55:56.378363Z"
    }
   },
   "outputs": [
    {
     "name": "stdout",
     "output_type": "stream",
     "text": [
      "WARNING:tensorflow:sample_weight modes were coerced from\n",
      "  ...\n",
      "    to  \n",
      "  ['...']\n",
      "WARNING:tensorflow:sample_weight modes were coerced from\n",
      "  ...\n",
      "    to  \n",
      "  ['...']\n",
      "Train for 1703 steps, validate for 1 steps\n",
      "Epoch 1/20\n",
      "1703/1703 [==============================] - 21s 12ms/step - loss: 0.0029 - val_loss: 0.0054\n",
      "Epoch 2/20\n",
      "1703/1703 [==============================] - 16s 9ms/step - loss: 6.0730e-04 - val_loss: 2.0511e-04\n",
      "Epoch 3/20\n",
      "1703/1703 [==============================] - 16s 9ms/step - loss: 4.1121e-04 - val_loss: 6.0465e-04\n",
      "Epoch 4/20\n",
      "1703/1703 [==============================] - 16s 9ms/step - loss: 3.6929e-04 - val_loss: 2.9358e-04\n",
      "Epoch 5/20\n",
      "1703/1703 [==============================] - 16s 10ms/step - loss: 3.4451e-04 - val_loss: 6.0700e-04\n"
     ]
    },
    {
     "data": {
      "text/plain": [
       "<tensorflow.python.keras.callbacks.History at 0x25a2606f488>"
      ]
     },
     "execution_count": 238,
     "metadata": {},
     "output_type": "execute_result"
    }
   ],
   "source": [
    "# now lets fit the model\n",
    "model.fit(generator,epochs=20,\n",
    "          validation_data=validation_generator,callbacks=[early_stop])"
   ]
  },
  {
   "cell_type": "code",
   "execution_count": 239,
   "metadata": {
    "ExecuteTime": {
     "end_time": "2020-04-08T03:57:40.930627Z",
     "start_time": "2020-04-08T03:57:40.699820Z"
    }
   },
   "outputs": [
    {
     "data": {
      "text/plain": [
       "<matplotlib.axes._subplots.AxesSubplot at 0x25a2c0352c8>"
      ]
     },
     "execution_count": 239,
     "metadata": {},
     "output_type": "execute_result"
    },
    {
     "data": {
      "image/png": "[encoded data removed]",
      "text/plain": [
       "<Figure size 432x288 with 1 Axes>"
      ]
     },
     "metadata": {
      "needs_background": "light"
     },
     "output_type": "display_data"
    }
   ],
   "source": [
    "loss = pd.DataFrame(model.history.history)\n",
    "loss.plot()"
   ]
  },
  {
   "cell_type": "code",
   "execution_count": 240,
   "metadata": {
    "ExecuteTime": {
     "end_time": "2020-04-08T03:57:56.116268Z",
     "start_time": "2020-04-08T03:57:54.700699Z"
    }
   },
   "outputs": [],
   "source": [
    "# now lets do some predictions\n",
    "\n",
    "# hold test predictions\n",
    "test_predictions = []\n",
    "\n",
    "# initialize first batch\n",
    "\n",
    "first_eval_batch = scaled_train[-length:]\n",
    "\n",
    "current_batch = first_eval_batch.reshape((1,length,n_features))\n",
    "\n",
    "# loop through our predictions\n",
    "\n",
    "for i in range(len(test)):\n",
    "    \n",
    "    # Grab the current prediction [] for grabbing the value\n",
    "    current_pred = model.predict(current_batch)[0]\n",
    "    \n",
    "    # add prediction to our list\n",
    "    test_predictions.append(current_pred)\n",
    "    \n",
    "    # move our model forward by dropping first value\n",
    "    # appending new prediction along the main axis\n",
    "    current_batch = np.append(current_batch[:,1:,:],[[current_pred]],axis=1)"
   ]
  },
  {
   "cell_type": "markdown",
   "metadata": {},
   "source": [
    "### Results for Single Variate\n",
    "\n",
    "Look at the test predictions vs actual values\n",
    "\n",
    "- Step 1. Scale back our test predictions\n",
    "- Step 2. Compare to actual predictions"
   ]
  },
  {
   "cell_type": "code",
   "execution_count": 241,
   "metadata": {
    "ExecuteTime": {
     "end_time": "2020-04-08T03:58:00.625106Z",
     "start_time": "2020-04-08T03:58:00.619154Z"
    }
   },
   "outputs": [],
   "source": [
    "true_predictions = scaler.inverse_transform(test_predictions)"
   ]
  },
  {
   "cell_type": "code",
   "execution_count": 242,
   "metadata": {
    "ExecuteTime": {
     "end_time": "2020-04-08T03:58:01.498960Z",
     "start_time": "2020-04-08T03:58:01.491942Z"
    }
   },
   "outputs": [
    {
     "name": "stderr",
     "output_type": "stream",
     "text": [
      "C:\\Users\\ddagu\\Anaconda3\\lib\\site-packages\\ipykernel_launcher.py:1: SettingWithCopyWarning: \n",
      "A value is trying to be set on a copy of a slice from a DataFrame.\n",
      "Try using .loc[row_indexer,col_indexer] = value instead\n",
      "\n",
      "See the caveats in the documentation: https://pandas.pydata.org/pandas-docs/stable/user_guide/indexing.html#returning-a-view-versus-a-copy\n",
      "  \"\"\"Entry point for launching an IPython kernel.\n"
     ]
    }
   ],
   "source": [
    "test['predictions'] = true_predictions"
   ]
  },
  {
   "cell_type": "code",
   "execution_count": 243,
   "metadata": {
    "ExecuteTime": {
     "end_time": "2020-04-08T03:58:03.009010Z",
     "start_time": "2020-04-08T03:58:02.989100Z"
    }
   },
   "outputs": [
    {
     "data": {
      "text/html": [
       "<div>\n",
       "<style scoped>\n",
       "    .dataframe tbody tr th:only-of-type {\n",
       "        vertical-align: middle;\n",
       "    }\n",
       "\n",
       "    .dataframe tbody tr th {\n",
       "        vertical-align: top;\n",
       "    }\n",
       "\n",
       "    .dataframe thead th {\n",
       "        text-align: right;\n",
       "    }\n",
       "</style>\n",
       "<table border=\"1\" class=\"dataframe\">\n",
       "  <thead>\n",
       "    <tr style=\"text-align: right;\">\n",
       "      <th></th>\n",
       "      <th>NVDA</th>\n",
       "      <th>predictions</th>\n",
       "    </tr>\n",
       "    <tr>\n",
       "      <th>date</th>\n",
       "      <th></th>\n",
       "      <th></th>\n",
       "    </tr>\n",
       "  </thead>\n",
       "  <tbody>\n",
       "    <tr>\n",
       "      <th>2016-11-17</th>\n",
       "      <td>75.991001</td>\n",
       "      <td>76.250939</td>\n",
       "    </tr>\n",
       "    <tr>\n",
       "      <th>2016-11-18</th>\n",
       "      <td>75.977000</td>\n",
       "      <td>76.476662</td>\n",
       "    </tr>\n",
       "    <tr>\n",
       "      <th>2016-11-21</th>\n",
       "      <td>76.436999</td>\n",
       "      <td>76.727183</td>\n",
       "    </tr>\n",
       "    <tr>\n",
       "      <th>2016-11-22</th>\n",
       "      <td>76.846001</td>\n",
       "      <td>76.985079</td>\n",
       "    </tr>\n",
       "    <tr>\n",
       "      <th>2016-11-23</th>\n",
       "      <td>76.830999</td>\n",
       "      <td>77.251219</td>\n",
       "    </tr>\n",
       "    <tr>\n",
       "      <th>2016-11-25</th>\n",
       "      <td>77.050000</td>\n",
       "      <td>77.525820</td>\n",
       "    </tr>\n",
       "    <tr>\n",
       "      <th>2016-11-28</th>\n",
       "      <td>76.756000</td>\n",
       "      <td>77.808114</td>\n",
       "    </tr>\n",
       "    <tr>\n",
       "      <th>2016-11-29</th>\n",
       "      <td>76.864000</td>\n",
       "      <td>78.096928</td>\n",
       "    </tr>\n",
       "    <tr>\n",
       "      <th>2016-11-30</th>\n",
       "      <td>77.107999</td>\n",
       "      <td>78.391040</td>\n",
       "    </tr>\n",
       "    <tr>\n",
       "      <th>2016-12-01</th>\n",
       "      <td>76.781001</td>\n",
       "      <td>78.689369</td>\n",
       "    </tr>\n",
       "    <tr>\n",
       "      <th>2016-12-02</th>\n",
       "      <td>77.007999</td>\n",
       "      <td>78.990996</td>\n",
       "    </tr>\n",
       "    <tr>\n",
       "      <th>2016-12-05</th>\n",
       "      <td>77.606000</td>\n",
       "      <td>79.295224</td>\n",
       "    </tr>\n",
       "    <tr>\n",
       "      <th>2016-12-06</th>\n",
       "      <td>77.952999</td>\n",
       "      <td>79.601511</td>\n",
       "    </tr>\n",
       "    <tr>\n",
       "      <th>2016-12-07</th>\n",
       "      <td>79.133000</td>\n",
       "      <td>79.909474</td>\n",
       "    </tr>\n",
       "    <tr>\n",
       "      <th>2016-12-08</th>\n",
       "      <td>77.958000</td>\n",
       "      <td>80.218859</td>\n",
       "    </tr>\n",
       "    <tr>\n",
       "      <th>2016-12-09</th>\n",
       "      <td>77.908000</td>\n",
       "      <td>80.529503</td>\n",
       "    </tr>\n",
       "    <tr>\n",
       "      <th>2016-12-12</th>\n",
       "      <td>76.744000</td>\n",
       "      <td>80.841386</td>\n",
       "    </tr>\n",
       "    <tr>\n",
       "      <th>2016-12-13</th>\n",
       "      <td>76.844000</td>\n",
       "      <td>81.154485</td>\n",
       "    </tr>\n",
       "    <tr>\n",
       "      <th>2016-12-14</th>\n",
       "      <td>77.073000</td>\n",
       "      <td>81.468768</td>\n",
       "    </tr>\n",
       "    <tr>\n",
       "      <th>2016-12-15</th>\n",
       "      <td>77.500001</td>\n",
       "      <td>81.784235</td>\n",
       "    </tr>\n",
       "    <tr>\n",
       "      <th>2016-12-16</th>\n",
       "      <td>76.942000</td>\n",
       "      <td>82.100854</td>\n",
       "    </tr>\n",
       "    <tr>\n",
       "      <th>2016-12-19</th>\n",
       "      <td>77.351999</td>\n",
       "      <td>82.418602</td>\n",
       "    </tr>\n",
       "    <tr>\n",
       "      <th>2016-12-20</th>\n",
       "      <td>78.396000</td>\n",
       "      <td>82.737475</td>\n",
       "    </tr>\n",
       "    <tr>\n",
       "      <th>2016-12-21</th>\n",
       "      <td>78.243000</td>\n",
       "      <td>83.057462</td>\n",
       "    </tr>\n",
       "    <tr>\n",
       "      <th>2016-12-22</th>\n",
       "      <td>78.310000</td>\n",
       "      <td>83.378600</td>\n",
       "    </tr>\n",
       "    <tr>\n",
       "      <th>2016-12-23</th>\n",
       "      <td>78.477000</td>\n",
       "      <td>83.700890</td>\n",
       "    </tr>\n",
       "    <tr>\n",
       "      <th>2016-12-27</th>\n",
       "      <td>79.384000</td>\n",
       "      <td>84.024363</td>\n",
       "    </tr>\n",
       "    <tr>\n",
       "      <th>2016-12-28</th>\n",
       "      <td>77.953000</td>\n",
       "      <td>84.349048</td>\n",
       "    </tr>\n",
       "    <tr>\n",
       "      <th>2016-12-29</th>\n",
       "      <td>78.150000</td>\n",
       "      <td>84.674981</td>\n",
       "    </tr>\n",
       "    <tr>\n",
       "      <th>2016-12-30</th>\n",
       "      <td>77.371000</td>\n",
       "      <td>85.002180</td>\n",
       "    </tr>\n",
       "  </tbody>\n",
       "</table>\n",
       "</div>"
      ],
      "text/plain": [
       "                 NVDA  predictions\n",
       "date                              \n",
       "2016-11-17  75.991001    76.250939\n",
       "2016-11-18  75.977000    76.476662\n",
       "2016-11-21  76.436999    76.727183\n",
       "2016-11-22  76.846001    76.985079\n",
       "2016-11-23  76.830999    77.251219\n",
       "2016-11-25  77.050000    77.525820\n",
       "2016-11-28  76.756000    77.808114\n",
       "2016-11-29  76.864000    78.096928\n",
       "2016-11-30  77.107999    78.391040\n",
       "2016-12-01  76.781001    78.689369\n",
       "2016-12-02  77.007999    78.990996\n",
       "2016-12-05  77.606000    79.295224\n",
       "2016-12-06  77.952999    79.601511\n",
       "2016-12-07  79.133000    79.909474\n",
       "2016-12-08  77.958000    80.218859\n",
       "2016-12-09  77.908000    80.529503\n",
       "2016-12-12  76.744000    80.841386\n",
       "2016-12-13  76.844000    81.154485\n",
       "2016-12-14  77.073000    81.468768\n",
       "2016-12-15  77.500001    81.784235\n",
       "2016-12-16  76.942000    82.100854\n",
       "2016-12-19  77.351999    82.418602\n",
       "2016-12-20  78.396000    82.737475\n",
       "2016-12-21  78.243000    83.057462\n",
       "2016-12-22  78.310000    83.378600\n",
       "2016-12-23  78.477000    83.700890\n",
       "2016-12-27  79.384000    84.024363\n",
       "2016-12-28  77.953000    84.349048\n",
       "2016-12-29  78.150000    84.674981\n",
       "2016-12-30  77.371000    85.002180"
      ]
     },
     "execution_count": 243,
     "metadata": {},
     "output_type": "execute_result"
    }
   ],
   "source": [
    "test"
   ]
  },
  {
   "cell_type": "code",
   "execution_count": 244,
   "metadata": {
    "ExecuteTime": {
     "end_time": "2020-04-08T03:58:09.219617Z",
     "start_time": "2020-04-08T03:58:08.959207Z"
    }
   },
   "outputs": [
    {
     "data": {
      "text/plain": [
       "<matplotlib.axes._subplots.AxesSubplot at 0x25a2d4d4ec8>"
      ]
     },
     "execution_count": 244,
     "metadata": {},
     "output_type": "execute_result"
    },
    {
     "data": {
      "image/png": "[encoded data removed]",
      "text/plain": [
       "<Figure size 864x576 with 1 Axes>"
      ]
     },
     "metadata": {
      "needs_background": "light"
     },
     "output_type": "display_data"
    }
   ],
   "source": [
    "test.plot(figsize=(12,8),lw=3)"
   ]
  },
  {
   "cell_type": "markdown",
   "metadata": {},
   "source": [
    "Unfortuantely, this simple model doesn't seem to encapsulate the stocks when we use our own predictions. We can see this visually. However, its nice to how a single numeric metric to look at for our error so lets calculate the mean-squared error."
   ]
  },
  {
   "cell_type": "code",
   "execution_count": 245,
   "metadata": {
    "ExecuteTime": {
     "end_time": "2020-04-08T03:58:14.946365Z",
     "start_time": "2020-04-08T03:58:14.939380Z"
    }
   },
   "outputs": [],
   "source": [
    "def mse(data):\n",
    "    # Used to find the mean squared error\n",
    "    # of all our predictions\n",
    "    \n",
    "    error_per_prediction = data.iloc[:,1]-data.iloc[:,0]\n",
    "    \n",
    "    return np.sum(error_per_prediction**2/len(data))"
   ]
  },
  {
   "cell_type": "code",
   "execution_count": 246,
   "metadata": {
    "ExecuteTime": {
     "end_time": "2020-04-08T03:58:15.783954Z",
     "start_time": "2020-04-08T03:58:15.776968Z"
    }
   },
   "outputs": [
    {
     "data": {
      "text/plain": [
       "13.813976269227593"
      ]
     },
     "execution_count": 246,
     "metadata": {},
     "output_type": "execute_result"
    }
   ],
   "source": [
    "mse(test)"
   ]
  },
  {
   "cell_type": "markdown",
   "metadata": {},
   "source": [
    "So what does this mean? It means that our model isn't make as accurate of predictions as we would want. What if we construct a better model?\n",
    "\n",
    "## A more complex model\n",
    "\n",
    "Since our data is the same, we keep the same workflow as before."
   ]
  },
  {
   "cell_type": "code",
   "execution_count": 356,
   "metadata": {
    "ExecuteTime": {
     "end_time": "2020-04-08T05:00:44.667542Z",
     "start_time": "2020-04-08T05:00:44.417967Z"
    }
   },
   "outputs": [],
   "source": [
    "# Now lets create a simple model\n",
    "# LSTM -> LSTM -> Dense ->\n",
    "\n",
    "model = Sequential()\n",
    "\n",
    "# 2 LSTM Layer\n",
    "model.add(LSTM(128,activation='relu',return_sequences=True,\n",
    "               input_shape=(length,n_features)))\n",
    "model.add(LSTM(128,activation='relu'))\n",
    "          \n",
    "# Dense layer\n",
    "model.add(Dense(1))\n",
    "\n",
    "# Compile results\n",
    "model.compile(optimizer='adam',loss='mse')"
   ]
  },
  {
   "cell_type": "code",
   "execution_count": 357,
   "metadata": {
    "ExecuteTime": {
     "end_time": "2020-04-08T05:00:45.497714Z",
     "start_time": "2020-04-08T05:00:45.492649Z"
    }
   },
   "outputs": [
    {
     "name": "stdout",
     "output_type": "stream",
     "text": [
      "Model: \"sequential_13\"\n",
      "_________________________________________________________________\n",
      "Layer (type)                 Output Shape              Param #   \n",
      "=================================================================\n",
      "lstm_19 (LSTM)               (None, 29, 128)           66560     \n",
      "_________________________________________________________________\n",
      "lstm_20 (LSTM)               (None, 128)               131584    \n",
      "_________________________________________________________________\n",
      "dense_9 (Dense)              (None, 1)                 129       \n",
      "=================================================================\n",
      "Total params: 198,273\n",
      "Trainable params: 198,273\n",
      "Non-trainable params: 0\n",
      "_________________________________________________________________\n"
     ]
    }
   ],
   "source": [
    "model.summary()"
   ]
  },
  {
   "cell_type": "code",
   "execution_count": 358,
   "metadata": {
    "ExecuteTime": {
     "end_time": "2020-04-08T05:03:06.568650Z",
     "start_time": "2020-04-08T05:00:46.365469Z"
    }
   },
   "outputs": [
    {
     "name": "stdout",
     "output_type": "stream",
     "text": [
      "WARNING:tensorflow:sample_weight modes were coerced from\n",
      "  ...\n",
      "    to  \n",
      "  ['...']\n",
      "WARNING:tensorflow:sample_weight modes were coerced from\n",
      "  ...\n",
      "    to  \n",
      "  ['...']\n",
      "Train for 1703 steps, validate for 1 steps\n",
      "Epoch 1/20\n",
      "1703/1703 [==============================] - 37s 22ms/step - loss: 0.0028 - val_loss: 2.2519e-04\n",
      "Epoch 2/20\n",
      "1703/1703 [==============================] - 34s 20ms/step - loss: 9.3671e-04 - val_loss: 3.3580e-06\n",
      "Epoch 3/20\n",
      "1703/1703 [==============================] - 35s 21ms/step - loss: 7.0241e-04 - val_loss: 5.4483e-04\n",
      "Epoch 4/20\n",
      "1703/1703 [==============================] - 34s 20ms/step - loss: 5.5248e-04 - val_loss: 5.2811e-05\n"
     ]
    },
    {
     "data": {
      "text/plain": [
       "<tensorflow.python.keras.callbacks.History at 0x25a3d254cc8>"
      ]
     },
     "execution_count": 358,
     "metadata": {},
     "output_type": "execute_result"
    }
   ],
   "source": [
    "model.fit(generator,epochs=20,\n",
    "          validation_data=validation_generator,callbacks=[early_stop])"
   ]
  },
  {
   "cell_type": "code",
   "execution_count": 359,
   "metadata": {
    "ExecuteTime": {
     "end_time": "2020-04-08T05:03:07.487310Z",
     "start_time": "2020-04-08T05:03:07.314611Z"
    }
   },
   "outputs": [
    {
     "data": {
      "text/plain": [
       "<matplotlib.axes._subplots.AxesSubplot at 0x25a414cd0c8>"
      ]
     },
     "execution_count": 359,
     "metadata": {},
     "output_type": "execute_result"
    },
    {
     "data": {
      "image/png": "[encoded data removed]",
      "text/plain": [
       "<Figure size 432x288 with 1 Axes>"
      ]
     },
     "metadata": {
      "needs_background": "light"
     },
     "output_type": "display_data"
    }
   ],
   "source": [
    "loss = pd.DataFrame(model.history.history)\n",
    "loss.plot()"
   ]
  },
  {
   "cell_type": "code",
   "execution_count": 360,
   "metadata": {
    "ExecuteTime": {
     "end_time": "2020-04-08T05:03:09.644634Z",
     "start_time": "2020-04-08T05:03:08.251267Z"
    }
   },
   "outputs": [],
   "source": [
    "# now lets predict for our data\n",
    "\n",
    "# empty list\n",
    "test_predictions = []\n",
    "\n",
    "# first evaluation batch\n",
    "# This is constructed by taking the last\n",
    "# samples that we trained from the training batch\n",
    "first_eval_batch = scaled_train[-length:]\n",
    "\n",
    "# we need the our evaluation batch to be shaped \n",
    "# like our generators if we want to make predictions\n",
    "# because our generator is how the model predicted data\n",
    "# Get Shape -------> print(generator[0][0].shape) \n",
    "current_eval_batch = first_eval_batch.reshape((1,length,n_features))\n",
    "\n",
    "# for loop for predictions. Each test value has a \n",
    "# batch of data that we are using to predict future data\n",
    "for batch in range(len(test)):\n",
    "    \n",
    "    # grab current predictions\n",
    "    # need [0] to grab the prediction\n",
    "    current_pred = model.predict(current_eval_batch)[0]\n",
    "    \n",
    "    # store prediction\n",
    "    test_predictions.append(current_pred)\n",
    "    \n",
    "    # move the evaluation batch forward\n",
    "    # remember that the shape is (batch,length,features)\n",
    "    # We need to MOVE LENGTH foward so we have to \n",
    "    # append our predicted value to this new batch\n",
    "    current_eval_batch = np.append(current_eval_batch[:,1:,:],[[current_pred]],axis=1)\n",
    "    \n"
   ]
  },
  {
   "cell_type": "code",
   "execution_count": 361,
   "metadata": {
    "ExecuteTime": {
     "end_time": "2020-04-08T05:03:10.463630Z",
     "start_time": "2020-04-08T05:03:10.458676Z"
    }
   },
   "outputs": [],
   "source": [
    "true_predictions = scaler.inverse_transform(test_predictions)"
   ]
  },
  {
   "cell_type": "code",
   "execution_count": 362,
   "metadata": {
    "ExecuteTime": {
     "end_time": "2020-04-08T05:03:11.236565Z",
     "start_time": "2020-04-08T05:03:11.229580Z"
    }
   },
   "outputs": [],
   "source": [
    "# lets create a function plot our function and grab the MSE metric\n",
    "\n",
    "def results(test,pred):\n",
    "    \"\"\"\n",
    "    test: dataframe we are testing on\n",
    "    pred: predictions from our model\n",
    "    \"\"\"\n",
    "    \n",
    "    # to make things easier we can merge the two\n",
    "    \n",
    "    test['pred'] = pred\n",
    "    \n",
    "    # plot out the differences\n",
    "    test.plot(figsize=(12,8),lw=3)\n",
    "    \n",
    "    # grab error\n",
    "    \n",
    "    error_per_pred = test.iloc[:,1] - test.iloc[:,0]\n",
    "    \n",
    "    mse = np.sum((error_per_pred**2)/len(test))\n",
    "\n",
    "    return print('MSE: {:.3f}'.format(mse)) "
   ]
  },
  {
   "cell_type": "code",
   "execution_count": 363,
   "metadata": {
    "ExecuteTime": {
     "end_time": "2020-04-08T05:03:12.319177Z",
     "start_time": "2020-04-08T05:03:12.087776Z"
    }
   },
   "outputs": [
    {
     "name": "stdout",
     "output_type": "stream",
     "text": [
      "MSE: 29.996\n"
     ]
    },
    {
     "name": "stderr",
     "output_type": "stream",
     "text": [
      "C:\\Users\\ddagu\\Anaconda3\\lib\\site-packages\\ipykernel_launcher.py:11: SettingWithCopyWarning: \n",
      "A value is trying to be set on a copy of a slice from a DataFrame.\n",
      "Try using .loc[row_indexer,col_indexer] = value instead\n",
      "\n",
      "See the caveats in the documentation: https://pandas.pydata.org/pandas-docs/stable/user_guide/indexing.html#returning-a-view-versus-a-copy\n",
      "  # This is added back by InteractiveShellApp.init_path()\n"
     ]
    },
    {
     "data": {
      "image/png": "[encoded data removed]",
      "text/plain": [
       "<Figure size 864x576 with 1 Axes>"
      ]
     },
     "metadata": {
      "needs_background": "light"
     },
     "output_type": "display_data"
    }
   ],
   "source": [
    "results(test,true_predictions)"
   ]
  },
  {
   "cell_type": "markdown",
   "metadata": {},
   "source": [
    "# Conclusions \n",
    "\n",
    "**The takeaway:** Creating algorithms for EXACT stock price predictions are hard. Highly accurate stock price prediction model based soley on one feature should be taken with extreme caution. Even models that have data over thirty years will have a hard time predicting external valuables that affect the economy. \n",
    "\n",
    "**What now?:** If you're a beginner interested in stock market trading you should focus more on **stock movements.** Stock movements are what dictate whether or not you should *buy*,*sell* or *hold* a stock. Using machine learning to learn these movements will be more helpful than simply predicting pricing itself. We will explore these in another notebook"
   ]
  }
 ],
 "metadata": {
  "kernelspec": {
   "display_name": "Python 3",
   "language": "python",
   "name": "python3"
  },
  "language_info": {
   "codemirror_mode": {
    "name": "ipython",
    "version": 3
   },
   "file_extension": ".py",
   "mimetype": "text/x-python",
   "name": "python",
   "nbconvert_exporter": "python",
   "pygments_lexer": "ipython3",
   "version": "3.7.6"
  },
  "toc": {
   "base_numbering": 1,
   "nav_menu": {},
   "number_sections": true,
   "sideBar": true,
   "skip_h1_title": false,
   "title_cell": "Table of Contents",
   "title_sidebar": "Contents",
   "toc_cell": true,
   "toc_position": {},
   "toc_section_display": true,
   "toc_window_display": false
  },
  "varInspector": {
   "cols": {
    "lenName": 16,
    "lenType": 16,
    "lenVar": 40
   },
   "kernels_config": {
    "python": {
     "delete_cmd_postfix": "",
     "delete_cmd_prefix": "del ",
     "library": "var_list.py",
     "varRefreshCmd": "print(var_dic_list())"
    },
    "r": {
     "delete_cmd_postfix": ") ",
     "delete_cmd_prefix": "rm(",
     "library": "var_list.r",
     "varRefreshCmd": "cat(var_dic_list()) "
    }
   },
   "types_to_exclude": [
    "module",
    "function",
    "builtin_function_or_method",
    "instance",
    "_Feature"
   ],
   "window_display": false
  }
 },
 "nbformat": 4,
 "nbformat_minor": 4
}
